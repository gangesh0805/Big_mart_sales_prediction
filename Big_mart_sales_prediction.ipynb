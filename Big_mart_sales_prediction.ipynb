{
 "cells": [
  {
   "cell_type": "markdown",
   "metadata": {
    "_cell_guid": "7645a449-468b-449a-9a91-eab3d0690dd7",
    "_uuid": "fb12ecd2-1e5e-44d5-8501-fbf905702e15"
   },
   "source": [
    "# Extract Data"
   ]
  },
  {
   "cell_type": "code",
   "execution_count": 27,
   "metadata": {
    "_cell_guid": "98aaf956-8743-4dfd-8413-a82fb44e6ddb",
    "_uuid": "474711fd-a37a-4dec-a46a-5a5628562454",
    "execution": {
     "iopub.execute_input": "2022-09-13T19:36:41.034587Z",
     "iopub.status.busy": "2022-09-13T19:36:41.033525Z",
     "iopub.status.idle": "2022-09-13T19:36:41.081266Z",
     "shell.execute_reply": "2022-09-13T19:36:41.079998Z",
     "shell.execute_reply.started": "2022-09-13T19:36:41.034544Z"
    },
    "jupyter": {
     "outputs_hidden": false
    }
   },
   "outputs": [],
   "source": [
    "import pandas as pd\n",
    "import numpy as np\n",
    "\n",
    "train_data=pd.read_csv('train.csv')\n",
    "test_data=pd.read_csv('test.csv')\n",
    "sample_data=pd.read_csv('sample_submission.csv')"
   ]
  },
  {
   "cell_type": "code",
   "execution_count": 28,
   "metadata": {
    "_cell_guid": "3c4d71c4-80e9-4c46-9039-2becca4d2b5a",
    "_uuid": "22411a5d-5384-4792-91eb-8b5db40441d1",
    "execution": {
     "iopub.execute_input": "2022-09-13T19:36:41.083679Z",
     "iopub.status.busy": "2022-09-13T19:36:41.083325Z",
     "iopub.status.idle": "2022-09-13T19:36:41.090417Z",
     "shell.execute_reply": "2022-09-13T19:36:41.089169Z",
     "shell.execute_reply.started": "2022-09-13T19:36:41.083648Z"
    },
    "jupyter": {
     "outputs_hidden": false
    }
   },
   "outputs": [
    {
     "data": {
      "text/plain": [
       "(8523, 12)"
      ]
     },
     "execution_count": 28,
     "metadata": {},
     "output_type": "execute_result"
    }
   ],
   "source": [
    "train_data.shape\n",
    "#test_data.shape"
   ]
  },
  {
   "cell_type": "code",
   "execution_count": 29,
   "metadata": {
    "_cell_guid": "23ae0f46-573a-445e-91a3-69366ee38b89",
    "_uuid": "143ede50-7410-4d5c-a310-4ff0897b1f5d",
    "execution": {
     "iopub.execute_input": "2022-09-13T19:36:41.097004Z",
     "iopub.status.busy": "2022-09-13T19:36:41.096582Z",
     "iopub.status.idle": "2022-09-13T19:36:41.117947Z",
     "shell.execute_reply": "2022-09-13T19:36:41.116753Z",
     "shell.execute_reply.started": "2022-09-13T19:36:41.096965Z"
    },
    "jupyter": {
     "outputs_hidden": false
    }
   },
   "outputs": [
    {
     "name": "stdout",
     "output_type": "stream",
     "text": [
      "<class 'pandas.core.frame.DataFrame'>\n",
      "RangeIndex: 8523 entries, 0 to 8522\n",
      "Data columns (total 12 columns):\n",
      " #   Column                     Non-Null Count  Dtype  \n",
      "---  ------                     --------------  -----  \n",
      " 0   Item_Identifier            8523 non-null   object \n",
      " 1   Item_Weight                7060 non-null   float64\n",
      " 2   Item_Fat_Content           8523 non-null   object \n",
      " 3   Item_Visibility            8523 non-null   float64\n",
      " 4   Item_Type                  8523 non-null   object \n",
      " 5   Item_MRP                   8523 non-null   float64\n",
      " 6   Outlet_Identifier          8523 non-null   object \n",
      " 7   Outlet_Establishment_Year  8523 non-null   int64  \n",
      " 8   Outlet_Size                6113 non-null   object \n",
      " 9   Outlet_Location_Type       8523 non-null   object \n",
      " 10  Outlet_Type                8523 non-null   object \n",
      " 11  Item_Outlet_Sales          8523 non-null   float64\n",
      "dtypes: float64(4), int64(1), object(7)\n",
      "memory usage: 799.2+ KB\n"
     ]
    }
   ],
   "source": [
    "train_data.info()\n",
    "#test_data.info()"
   ]
  },
  {
   "cell_type": "code",
   "execution_count": 30,
   "metadata": {
    "_cell_guid": "e1c97a2f-4daa-48b2-964a-774cc5b95efe",
    "_uuid": "eb72ceab-2b7f-4cd7-9b96-f2e9114754dc",
    "execution": {
     "iopub.execute_input": "2022-09-13T19:36:41.124163Z",
     "iopub.status.busy": "2022-09-13T19:36:41.123723Z",
     "iopub.status.idle": "2022-09-13T19:36:41.154095Z",
     "shell.execute_reply": "2022-09-13T19:36:41.152986Z",
     "shell.execute_reply.started": "2022-09-13T19:36:41.124126Z"
    },
    "jupyter": {
     "outputs_hidden": false
    }
   },
   "outputs": [
    {
     "data": {
      "text/html": [
       "<div>\n",
       "<style scoped>\n",
       "    .dataframe tbody tr th:only-of-type {\n",
       "        vertical-align: middle;\n",
       "    }\n",
       "\n",
       "    .dataframe tbody tr th {\n",
       "        vertical-align: top;\n",
       "    }\n",
       "\n",
       "    .dataframe thead th {\n",
       "        text-align: right;\n",
       "    }\n",
       "</style>\n",
       "<table border=\"1\" class=\"dataframe\">\n",
       "  <thead>\n",
       "    <tr style=\"text-align: right;\">\n",
       "      <th></th>\n",
       "      <th>Item_Weight</th>\n",
       "      <th>Item_Visibility</th>\n",
       "      <th>Item_MRP</th>\n",
       "      <th>Outlet_Establishment_Year</th>\n",
       "      <th>Item_Outlet_Sales</th>\n",
       "    </tr>\n",
       "  </thead>\n",
       "  <tbody>\n",
       "    <tr>\n",
       "      <th>count</th>\n",
       "      <td>7060.000000</td>\n",
       "      <td>8523.000000</td>\n",
       "      <td>8523.000000</td>\n",
       "      <td>8523.000000</td>\n",
       "      <td>8523.000000</td>\n",
       "    </tr>\n",
       "    <tr>\n",
       "      <th>mean</th>\n",
       "      <td>12.857645</td>\n",
       "      <td>0.066132</td>\n",
       "      <td>140.992782</td>\n",
       "      <td>1997.831867</td>\n",
       "      <td>2181.288914</td>\n",
       "    </tr>\n",
       "    <tr>\n",
       "      <th>std</th>\n",
       "      <td>4.643456</td>\n",
       "      <td>0.051598</td>\n",
       "      <td>62.275067</td>\n",
       "      <td>8.371760</td>\n",
       "      <td>1706.499616</td>\n",
       "    </tr>\n",
       "    <tr>\n",
       "      <th>min</th>\n",
       "      <td>4.555000</td>\n",
       "      <td>0.000000</td>\n",
       "      <td>31.290000</td>\n",
       "      <td>1985.000000</td>\n",
       "      <td>33.290000</td>\n",
       "    </tr>\n",
       "    <tr>\n",
       "      <th>25%</th>\n",
       "      <td>8.773750</td>\n",
       "      <td>0.026989</td>\n",
       "      <td>93.826500</td>\n",
       "      <td>1987.000000</td>\n",
       "      <td>834.247400</td>\n",
       "    </tr>\n",
       "    <tr>\n",
       "      <th>50%</th>\n",
       "      <td>12.600000</td>\n",
       "      <td>0.053931</td>\n",
       "      <td>143.012800</td>\n",
       "      <td>1999.000000</td>\n",
       "      <td>1794.331000</td>\n",
       "    </tr>\n",
       "    <tr>\n",
       "      <th>75%</th>\n",
       "      <td>16.850000</td>\n",
       "      <td>0.094585</td>\n",
       "      <td>185.643700</td>\n",
       "      <td>2004.000000</td>\n",
       "      <td>3101.296400</td>\n",
       "    </tr>\n",
       "    <tr>\n",
       "      <th>max</th>\n",
       "      <td>21.350000</td>\n",
       "      <td>0.328391</td>\n",
       "      <td>266.888400</td>\n",
       "      <td>2009.000000</td>\n",
       "      <td>13086.964800</td>\n",
       "    </tr>\n",
       "  </tbody>\n",
       "</table>\n",
       "</div>"
      ],
      "text/plain": [
       "       Item_Weight  Item_Visibility     Item_MRP  Outlet_Establishment_Year  \\\n",
       "count  7060.000000      8523.000000  8523.000000                8523.000000   \n",
       "mean     12.857645         0.066132   140.992782                1997.831867   \n",
       "std       4.643456         0.051598    62.275067                   8.371760   \n",
       "min       4.555000         0.000000    31.290000                1985.000000   \n",
       "25%       8.773750         0.026989    93.826500                1987.000000   \n",
       "50%      12.600000         0.053931   143.012800                1999.000000   \n",
       "75%      16.850000         0.094585   185.643700                2004.000000   \n",
       "max      21.350000         0.328391   266.888400                2009.000000   \n",
       "\n",
       "       Item_Outlet_Sales  \n",
       "count        8523.000000  \n",
       "mean         2181.288914  \n",
       "std          1706.499616  \n",
       "min            33.290000  \n",
       "25%           834.247400  \n",
       "50%          1794.331000  \n",
       "75%          3101.296400  \n",
       "max         13086.964800  "
      ]
     },
     "execution_count": 30,
     "metadata": {},
     "output_type": "execute_result"
    }
   ],
   "source": [
    "train_data.describe()\n",
    "#test_data.describe()"
   ]
  },
  {
   "cell_type": "code",
   "execution_count": 31,
   "metadata": {
    "_cell_guid": "edb10ab6-4d76-4484-a174-30b5003c9ab5",
    "_uuid": "9fb01ff3-ddfc-4522-9ecf-464bae600d63",
    "execution": {
     "iopub.execute_input": "2022-09-13T19:36:41.156954Z",
     "iopub.status.busy": "2022-09-13T19:36:41.156554Z",
     "iopub.status.idle": "2022-09-13T19:36:41.177124Z",
     "shell.execute_reply": "2022-09-13T19:36:41.175862Z",
     "shell.execute_reply.started": "2022-09-13T19:36:41.156918Z"
    },
    "jupyter": {
     "outputs_hidden": false
    }
   },
   "outputs": [
    {
     "data": {
      "text/html": [
       "<div>\n",
       "<style scoped>\n",
       "    .dataframe tbody tr th:only-of-type {\n",
       "        vertical-align: middle;\n",
       "    }\n",
       "\n",
       "    .dataframe tbody tr th {\n",
       "        vertical-align: top;\n",
       "    }\n",
       "\n",
       "    .dataframe thead th {\n",
       "        text-align: right;\n",
       "    }\n",
       "</style>\n",
       "<table border=\"1\" class=\"dataframe\">\n",
       "  <thead>\n",
       "    <tr style=\"text-align: right;\">\n",
       "      <th></th>\n",
       "      <th>Item_Identifier</th>\n",
       "      <th>Item_Weight</th>\n",
       "      <th>Item_Fat_Content</th>\n",
       "      <th>Item_Visibility</th>\n",
       "      <th>Item_Type</th>\n",
       "      <th>Item_MRP</th>\n",
       "      <th>Outlet_Identifier</th>\n",
       "      <th>Outlet_Establishment_Year</th>\n",
       "      <th>Outlet_Size</th>\n",
       "      <th>Outlet_Location_Type</th>\n",
       "      <th>Outlet_Type</th>\n",
       "      <th>Item_Outlet_Sales</th>\n",
       "    </tr>\n",
       "  </thead>\n",
       "  <tbody>\n",
       "    <tr>\n",
       "      <th>0</th>\n",
       "      <td>FDA15</td>\n",
       "      <td>9.30</td>\n",
       "      <td>Low Fat</td>\n",
       "      <td>0.016047</td>\n",
       "      <td>Dairy</td>\n",
       "      <td>249.8092</td>\n",
       "      <td>OUT049</td>\n",
       "      <td>1999</td>\n",
       "      <td>Medium</td>\n",
       "      <td>Tier 1</td>\n",
       "      <td>Supermarket Type1</td>\n",
       "      <td>3735.1380</td>\n",
       "    </tr>\n",
       "    <tr>\n",
       "      <th>1</th>\n",
       "      <td>DRC01</td>\n",
       "      <td>5.92</td>\n",
       "      <td>Regular</td>\n",
       "      <td>0.019278</td>\n",
       "      <td>Soft Drinks</td>\n",
       "      <td>48.2692</td>\n",
       "      <td>OUT018</td>\n",
       "      <td>2009</td>\n",
       "      <td>Medium</td>\n",
       "      <td>Tier 3</td>\n",
       "      <td>Supermarket Type2</td>\n",
       "      <td>443.4228</td>\n",
       "    </tr>\n",
       "    <tr>\n",
       "      <th>2</th>\n",
       "      <td>FDN15</td>\n",
       "      <td>17.50</td>\n",
       "      <td>Low Fat</td>\n",
       "      <td>0.016760</td>\n",
       "      <td>Meat</td>\n",
       "      <td>141.6180</td>\n",
       "      <td>OUT049</td>\n",
       "      <td>1999</td>\n",
       "      <td>Medium</td>\n",
       "      <td>Tier 1</td>\n",
       "      <td>Supermarket Type1</td>\n",
       "      <td>2097.2700</td>\n",
       "    </tr>\n",
       "    <tr>\n",
       "      <th>3</th>\n",
       "      <td>FDX07</td>\n",
       "      <td>19.20</td>\n",
       "      <td>Regular</td>\n",
       "      <td>0.000000</td>\n",
       "      <td>Fruits and Vegetables</td>\n",
       "      <td>182.0950</td>\n",
       "      <td>OUT010</td>\n",
       "      <td>1998</td>\n",
       "      <td>NaN</td>\n",
       "      <td>Tier 3</td>\n",
       "      <td>Grocery Store</td>\n",
       "      <td>732.3800</td>\n",
       "    </tr>\n",
       "    <tr>\n",
       "      <th>4</th>\n",
       "      <td>NCD19</td>\n",
       "      <td>8.93</td>\n",
       "      <td>Low Fat</td>\n",
       "      <td>0.000000</td>\n",
       "      <td>Household</td>\n",
       "      <td>53.8614</td>\n",
       "      <td>OUT013</td>\n",
       "      <td>1987</td>\n",
       "      <td>High</td>\n",
       "      <td>Tier 3</td>\n",
       "      <td>Supermarket Type1</td>\n",
       "      <td>994.7052</td>\n",
       "    </tr>\n",
       "  </tbody>\n",
       "</table>\n",
       "</div>"
      ],
      "text/plain": [
       "  Item_Identifier  Item_Weight Item_Fat_Content  Item_Visibility  \\\n",
       "0           FDA15         9.30          Low Fat         0.016047   \n",
       "1           DRC01         5.92          Regular         0.019278   \n",
       "2           FDN15        17.50          Low Fat         0.016760   \n",
       "3           FDX07        19.20          Regular         0.000000   \n",
       "4           NCD19         8.93          Low Fat         0.000000   \n",
       "\n",
       "               Item_Type  Item_MRP Outlet_Identifier  \\\n",
       "0                  Dairy  249.8092            OUT049   \n",
       "1            Soft Drinks   48.2692            OUT018   \n",
       "2                   Meat  141.6180            OUT049   \n",
       "3  Fruits and Vegetables  182.0950            OUT010   \n",
       "4              Household   53.8614            OUT013   \n",
       "\n",
       "   Outlet_Establishment_Year Outlet_Size Outlet_Location_Type  \\\n",
       "0                       1999      Medium               Tier 1   \n",
       "1                       2009      Medium               Tier 3   \n",
       "2                       1999      Medium               Tier 1   \n",
       "3                       1998         NaN               Tier 3   \n",
       "4                       1987        High               Tier 3   \n",
       "\n",
       "         Outlet_Type  Item_Outlet_Sales  \n",
       "0  Supermarket Type1          3735.1380  \n",
       "1  Supermarket Type2           443.4228  \n",
       "2  Supermarket Type1          2097.2700  \n",
       "3      Grocery Store           732.3800  \n",
       "4  Supermarket Type1           994.7052  "
      ]
     },
     "execution_count": 31,
     "metadata": {},
     "output_type": "execute_result"
    }
   ],
   "source": [
    "train_data.head()"
   ]
  },
  {
   "cell_type": "code",
   "execution_count": 32,
   "metadata": {
    "execution": {
     "iopub.execute_input": "2022-09-13T19:36:41.182915Z",
     "iopub.status.busy": "2022-09-13T19:36:41.182177Z",
     "iopub.status.idle": "2022-09-13T19:36:42.121727Z",
     "shell.execute_reply": "2022-09-13T19:36:42.120525Z",
     "shell.execute_reply.started": "2022-09-13T19:36:41.182864Z"
    }
   },
   "outputs": [
    {
     "data": {
      "text/plain": [
       "array([[<Axes: title={'center': 'Item_Weight'}>,\n",
       "        <Axes: title={'center': 'Item_Visibility'}>],\n",
       "       [<Axes: title={'center': 'Item_MRP'}>,\n",
       "        <Axes: title={'center': 'Outlet_Establishment_Year'}>],\n",
       "       [<Axes: title={'center': 'Item_Outlet_Sales'}>, <Axes: >]],\n",
       "      dtype=object)"
      ]
     },
     "execution_count": 32,
     "metadata": {},
     "output_type": "execute_result"
    },
    {
     "data": {
      "image/png": "[encoded data removed]",
      "text/plain": [
       "<Figure size 1500x1200 with 6 Axes>"
      ]
     },
     "metadata": {},
     "output_type": "display_data"
    }
   ],
   "source": [
    "train_data.hist(figsize=(15,12))"
   ]
  },
  {
   "cell_type": "markdown",
   "metadata": {
    "_cell_guid": "7bb8b735-9322-4062-8770-fa9e55ad2848",
    "_uuid": "06e2f542-26bc-45bb-8253-c8c2cf833c80"
   },
   "source": [
    "# Check for Unique values"
   ]
  },
  {
   "cell_type": "code",
   "execution_count": 33,
   "metadata": {
    "_cell_guid": "ba5d496d-b6cd-4302-b88a-1d8b3a5daec2",
    "_uuid": "c4fc27f6-975b-4da1-aad9-661218c20f5a",
    "execution": {
     "iopub.execute_input": "2022-09-13T19:36:42.124593Z",
     "iopub.status.busy": "2022-09-13T19:36:42.123673Z",
     "iopub.status.idle": "2022-09-13T19:36:42.135474Z",
     "shell.execute_reply": "2022-09-13T19:36:42.134546Z",
     "shell.execute_reply.started": "2022-09-13T19:36:42.124555Z"
    },
    "jupyter": {
     "outputs_hidden": false
    }
   },
   "outputs": [
    {
     "name": "stdout",
     "output_type": "stream",
     "text": [
      "['Low Fat' 'Regular' 'low fat' 'LF' 'reg']\n",
      "['Dairy' 'Soft Drinks' 'Meat' 'Fruits and Vegetables' 'Household'\n",
      " 'Baking Goods' 'Snack Foods' 'Frozen Foods' 'Breakfast'\n",
      " 'Health and Hygiene' 'Hard Drinks' 'Canned' 'Breads' 'Starchy Foods'\n",
      " 'Others' 'Seafood']\n",
      "[1985 1987 1997 1998 1999 2002 2004 2007 2009]\n",
      "['Tier 1' 'Tier 3' 'Tier 2']\n",
      "['Supermarket Type1' 'Supermarket Type2' 'Grocery Store'\n",
      " 'Supermarket Type3']\n"
     ]
    }
   ],
   "source": [
    "print(train_data['Item_Fat_Content'].unique())\n",
    "print(train_data['Item_Type'].unique())\n",
    "print(train_data['Outlet_Establishment_Year'].sort_values().unique())\n",
    "#print(train_data['Outlet_Size'].unique())\n",
    "print(train_data['Outlet_Location_Type'].unique())\n",
    "print(train_data['Outlet_Type'].unique())"
   ]
  },
  {
   "cell_type": "code",
   "execution_count": 34,
   "metadata": {
    "_cell_guid": "ad76cd73-4b9e-402f-91de-ef9f933ba361",
    "_uuid": "f9e30c5d-0951-4317-b167-d49249bf9ea5",
    "execution": {
     "iopub.execute_input": "2022-09-13T19:36:42.137244Z",
     "iopub.status.busy": "2022-09-13T19:36:42.136664Z",
     "iopub.status.idle": "2022-09-13T19:36:42.152716Z",
     "shell.execute_reply": "2022-09-13T19:36:42.151675Z",
     "shell.execute_reply.started": "2022-09-13T19:36:42.137210Z"
    },
    "jupyter": {
     "outputs_hidden": false
    }
   },
   "outputs": [],
   "source": [
    "train_data['Item_Fat_Content']=train_data['Item_Fat_Content'].replace('LF', 'Low Fat')\n",
    "train_data['Item_Fat_Content']=train_data['Item_Fat_Content'].replace('low fat', 'Low Fat')\n",
    "train_data['Item_Fat_Content']=train_data['Item_Fat_Content'].replace('reg', 'Regular')"
   ]
  },
  {
   "cell_type": "markdown",
   "metadata": {
    "_cell_guid": "1f574271-6163-4da6-be31-1d7b0561bb7d",
    "_uuid": "4e7500d3-f7c5-4115-a654-555a0903e947"
   },
   "source": [
    "# Check for Outliers"
   ]
  },
  {
   "cell_type": "code",
   "execution_count": 35,
   "metadata": {
    "_cell_guid": "d6229ade-7218-46ac-93e1-922fef664033",
    "_uuid": "a8de66b2-9712-4116-ae8d-a56c2c0b94bb",
    "execution": {
     "iopub.execute_input": "2022-09-13T19:36:42.157348Z",
     "iopub.status.busy": "2022-09-13T19:36:42.156954Z",
     "iopub.status.idle": "2022-09-13T19:36:42.778290Z",
     "shell.execute_reply": "2022-09-13T19:36:42.777054Z",
     "shell.execute_reply.started": "2022-09-13T19:36:42.157312Z"
    },
    "jupyter": {
     "outputs_hidden": false
    }
   },
   "outputs": [
    {
     "data": {
      "text/plain": [
       "Item_Weight                     Axes(0.125,0.11;0.133621x0.77)\n",
       "Item_Visibility              Axes(0.285345,0.11;0.133621x0.77)\n",
       "Item_MRP                      Axes(0.44569,0.11;0.133621x0.77)\n",
       "Outlet_Establishment_Year    Axes(0.606034,0.11;0.133621x0.77)\n",
       "Item_Outlet_Sales            Axes(0.766379,0.11;0.133621x0.77)\n",
       "dtype: object"
      ]
     },
     "execution_count": 35,
     "metadata": {},
     "output_type": "execute_result"
    },
    {
     "data": {
      "image/png": "[encoded data removed]",
      "text/plain": [
       "<Figure size 2000x500 with 5 Axes>"
      ]
     },
     "metadata": {},
     "output_type": "display_data"
    }
   ],
   "source": [
    "train_data.plot(kind='box', subplots=True, layout=(1,5), figsize=(20,5))"
   ]
  },
  {
   "cell_type": "markdown",
   "metadata": {
    "_cell_guid": "1ab31138-c6a9-4313-b224-21a40078a016",
    "_uuid": "b19c0b6e-ab96-4ab8-bd5f-eda68444e75e"
   },
   "source": [
    "In ITEM OUTLET SALES the outliers can remain there as in some season the sales jump abruptly."
   ]
  },
  {
   "cell_type": "code",
   "execution_count": 36,
   "metadata": {
    "_cell_guid": "3f924362-2970-47a2-a1cb-b9c4b45a3275",
    "_uuid": "78505a9c-ac1d-4a64-bf9a-f9e9d50f1306",
    "execution": {
     "iopub.execute_input": "2022-09-13T19:36:42.781828Z",
     "iopub.status.busy": "2022-09-13T19:36:42.781010Z",
     "iopub.status.idle": "2022-09-13T19:36:42.792603Z",
     "shell.execute_reply": "2022-09-13T19:36:42.790735Z",
     "shell.execute_reply.started": "2022-09-13T19:36:42.781749Z"
    },
    "jupyter": {
     "outputs_hidden": false
    }
   },
   "outputs": [],
   "source": [
    "# Removing Outliers\n",
    "train_data['Item_Visibility']=train_data[train_data['Item_Visibility']<0.18]['Item_Visibility']"
   ]
  },
  {
   "cell_type": "markdown",
   "metadata": {
    "_cell_guid": "0dcb3862-8832-40bb-ae35-e0b376f97752",
    "_uuid": "93ebcb8b-2bc0-45cb-a9c9-bdb3caa36a77"
   },
   "source": [
    "# Checking for NULL values"
   ]
  },
  {
   "cell_type": "code",
   "execution_count": 37,
   "metadata": {
    "_cell_guid": "da07c1c1-3262-4b64-a80f-583bc0ae1826",
    "_uuid": "713a98d7-7a17-473b-af0a-a5fbf30b11ce",
    "execution": {
     "iopub.execute_input": "2022-09-13T19:36:42.795996Z",
     "iopub.status.busy": "2022-09-13T19:36:42.794319Z",
     "iopub.status.idle": "2022-09-13T19:36:42.811008Z",
     "shell.execute_reply": "2022-09-13T19:36:42.809722Z",
     "shell.execute_reply.started": "2022-09-13T19:36:42.795724Z"
    },
    "jupyter": {
     "outputs_hidden": false
    }
   },
   "outputs": [
    {
     "data": {
      "text/plain": [
       "Item_Identifier                 0\n",
       "Item_Weight                  1463\n",
       "Item_Fat_Content                0\n",
       "Item_Visibility               228\n",
       "Item_Type                       0\n",
       "Item_MRP                        0\n",
       "Outlet_Identifier               0\n",
       "Outlet_Establishment_Year       0\n",
       "Outlet_Size                  2410\n",
       "Outlet_Location_Type            0\n",
       "Outlet_Type                     0\n",
       "Item_Outlet_Sales               0\n",
       "dtype: int64"
      ]
     },
     "execution_count": 37,
     "metadata": {},
     "output_type": "execute_result"
    }
   ],
   "source": [
    "train_data.isna().sum()"
   ]
  },
  {
   "cell_type": "markdown",
   "metadata": {
    "_cell_guid": "6b9ad1fc-fd67-4a6e-a718-6a214f6c1d20",
    "_uuid": "b385f950-e918-46e7-ac5f-2839b8640477"
   },
   "source": [
    "ITEM WEIGHT, ITEM VISIBILITY and OUTLET SIZE contains null values."
   ]
  },
  {
   "cell_type": "code",
   "execution_count": 38,
   "metadata": {
    "_cell_guid": "0bf30355-356f-4b14-803a-c1affa9e7cc3",
    "_uuid": "dc46037b-95b5-4324-ab2d-1542eed6e03f",
    "execution": {
     "iopub.execute_input": "2022-09-13T19:36:42.813260Z",
     "iopub.status.busy": "2022-09-13T19:36:42.812757Z",
     "iopub.status.idle": "2022-09-13T19:36:42.824912Z",
     "shell.execute_reply": "2022-09-13T19:36:42.823501Z",
     "shell.execute_reply.started": "2022-09-13T19:36:42.813215Z"
    },
    "jupyter": {
     "outputs_hidden": false
    }
   },
   "outputs": [
    {
     "name": "stdout",
     "output_type": "stream",
     "text": [
      "Item Weight NULL value percentage 0.1716531737651062\n",
      "Outlet Size NULL value percentage 0.2827642848762173\n",
      "Item Visiblity NULL value percentage 0.026751143963393172\n"
     ]
    }
   ],
   "source": [
    "# Checking percentage of NULL values\n",
    "print(\"Item Weight NULL value percentage\", 1463/8523)\n",
    "print(\"Outlet Size NULL value percentage\", 2410/8523)\n",
    "print(\"Item Visiblity NULL value percentage\", 228/8523)"
   ]
  },
  {
   "cell_type": "markdown",
   "metadata": {
    "_cell_guid": "f698a6d7-e642-4e15-89a0-7886dfaf4e05",
    "_uuid": "a4a204e9-23ae-4e59-a2cc-56816495b8b8"
   },
   "source": [
    "As there are more than 5% NULL values, so we cannot delete those rows and needs to impute them.\n",
    "\n",
    "ITEM WEIGHT is a numeric column, so it needs to be imputed with MEAN or MEDIAN or MODE.\n",
    "(MODE is considered more usefull during imputing)\n",
    "\n",
    "OUTLET SIZE is a categorical column, so it need to be imputed with MODE.\n",
    "\n",
    "ITEM VISIBLITY is having 2% NULL values, ideally we can drop those, but here we are imputing that as well."
   ]
  },
  {
   "cell_type": "code",
   "execution_count": 39,
   "metadata": {
    "_cell_guid": "a30175c7-c37e-4a66-9e4c-b8a5e6464ade",
    "_uuid": "8ee71aad-13d2-421e-86e3-56ef4f385415",
    "execution": {
     "iopub.execute_input": "2022-09-13T19:36:42.832824Z",
     "iopub.status.busy": "2022-09-13T19:36:42.826359Z",
     "iopub.status.idle": "2022-09-13T19:36:42.846466Z",
     "shell.execute_reply": "2022-09-13T19:36:42.844584Z",
     "shell.execute_reply.started": "2022-09-13T19:36:42.832750Z"
    },
    "jupyter": {
     "outputs_hidden": false
    }
   },
   "outputs": [
    {
     "name": "stdout",
     "output_type": "stream",
     "text": [
      "0    12.15\n",
      "Name: Item_Weight, dtype: float64\n",
      "0    Medium\n",
      "Name: Outlet_Size, dtype: object\n",
      "0.06181292964400241\n"
     ]
    }
   ],
   "source": [
    "print(train_data['Item_Weight'].mode())\n",
    "print(train_data['Outlet_Size'].mode())\n",
    "print(train_data['Item_Visibility'].mean())"
   ]
  },
  {
   "cell_type": "code",
   "execution_count": 40,
   "metadata": {
    "_cell_guid": "8bb4f7ae-222d-4bf5-944e-94c1c97f985e",
    "_uuid": "6b01695c-177c-464d-a7d6-c24394081cd7",
    "execution": {
     "iopub.execute_input": "2022-09-13T19:36:42.848690Z",
     "iopub.status.busy": "2022-09-13T19:36:42.848245Z",
     "iopub.status.idle": "2022-09-13T19:36:42.860994Z",
     "shell.execute_reply": "2022-09-13T19:36:42.859863Z",
     "shell.execute_reply.started": "2022-09-13T19:36:42.848644Z"
    },
    "jupyter": {
     "outputs_hidden": false
    }
   },
   "outputs": [],
   "source": [
    "# Imputing the columns\n",
    "train_data['Item_Weight']=train_data['Item_Weight'].fillna(12.15)\n",
    "train_data['Outlet_Size']=train_data['Outlet_Size'].fillna('Medium')\n",
    "train_data['Item_Visibility']=train_data['Item_Visibility'].fillna(0.06181292964400241)"
   ]
  },
  {
   "cell_type": "code",
   "execution_count": 41,
   "metadata": {
    "_cell_guid": "18b444a0-6981-487d-9a7a-96aaf5635cdc",
    "_uuid": "1d2fe36c-879f-4366-a741-6e6e7f48be16",
    "execution": {
     "iopub.execute_input": "2022-09-13T19:36:42.869908Z",
     "iopub.status.busy": "2022-09-13T19:36:42.868747Z",
     "iopub.status.idle": "2022-09-13T19:36:42.894557Z",
     "shell.execute_reply": "2022-09-13T19:36:42.893001Z",
     "shell.execute_reply.started": "2022-09-13T19:36:42.869851Z"
    },
    "jupyter": {
     "outputs_hidden": false
    }
   },
   "outputs": [
    {
     "name": "stdout",
     "output_type": "stream",
     "text": [
      "<class 'pandas.core.frame.DataFrame'>\n",
      "RangeIndex: 8523 entries, 0 to 8522\n",
      "Data columns (total 12 columns):\n",
      " #   Column                     Non-Null Count  Dtype  \n",
      "---  ------                     --------------  -----  \n",
      " 0   Item_Identifier            8523 non-null   object \n",
      " 1   Item_Weight                8523 non-null   float64\n",
      " 2   Item_Fat_Content           8523 non-null   object \n",
      " 3   Item_Visibility            8523 non-null   float64\n",
      " 4   Item_Type                  8523 non-null   object \n",
      " 5   Item_MRP                   8523 non-null   float64\n",
      " 6   Outlet_Identifier          8523 non-null   object \n",
      " 7   Outlet_Establishment_Year  8523 non-null   int64  \n",
      " 8   Outlet_Size                8523 non-null   object \n",
      " 9   Outlet_Location_Type       8523 non-null   object \n",
      " 10  Outlet_Type                8523 non-null   object \n",
      " 11  Item_Outlet_Sales          8523 non-null   float64\n",
      "dtypes: float64(4), int64(1), object(7)\n",
      "memory usage: 799.2+ KB\n"
     ]
    }
   ],
   "source": [
    "train_data.info()"
   ]
  },
  {
   "cell_type": "markdown",
   "metadata": {
    "_cell_guid": "7bdd0462-c05f-41bb-b736-039fe435f42b",
    "_uuid": "bbe07583-3cff-40c6-bdde-63d4f5d1ab84"
   },
   "source": [
    "# Univariate Analysis"
   ]
  },
  {
   "cell_type": "code",
   "execution_count": 42,
   "metadata": {
    "_cell_guid": "2a707647-73ad-4334-b075-ec037cb23aff",
    "_uuid": "86b6b1b1-927b-4f7a-bdf3-6b22d6e10953",
    "execution": {
     "iopub.execute_input": "2022-09-13T19:36:42.899203Z",
     "iopub.status.busy": "2022-09-13T19:36:42.897592Z",
     "iopub.status.idle": "2022-09-13T19:36:43.832833Z",
     "shell.execute_reply": "2022-09-13T19:36:43.831884Z",
     "shell.execute_reply.started": "2022-09-13T19:36:42.899164Z"
    },
    "jupyter": {
     "outputs_hidden": false
    }
   },
   "outputs": [
    {
     "data": {
      "text/plain": [
       "array([[<Axes: ylabel='Frequency'>, <Axes: ylabel='Frequency'>,\n",
       "        <Axes: ylabel='Frequency'>, <Axes: ylabel='Frequency'>,\n",
       "        <Axes: ylabel='Frequency'>]], dtype=object)"
      ]
     },
     "execution_count": 42,
     "metadata": {},
     "output_type": "execute_result"
    },
    {
     "data": {
      "image/png": "[encoded data removed]",
      "text/plain": [
       "<Figure size 2000x500 with 5 Axes>"
      ]
     },
     "metadata": {},
     "output_type": "display_data"
    }
   ],
   "source": [
    "train_data.plot(kind='hist', subplots=True, layout=(1,5), figsize=(20,5))"
   ]
  },
  {
   "cell_type": "markdown",
   "metadata": {
    "_cell_guid": "77c85830-59b4-4ed0-b533-c7d9b65f42bd",
    "_uuid": "c930bd54-dabe-4c51-a952-158600ea6892"
   },
   "source": [
    "ITEM VISIBLITY, ITEM MRP and OUTLET ESTABLISHMENT YEAR are having similar data in the dataset.\n",
    "While ITEM OUTLET SALES is hvaing some very high values like 10000, which can happen. As during some festival seasons the sales can increase exponentially. So, we won't drop those high values nor would impute them."
   ]
  },
  {
   "cell_type": "markdown",
   "metadata": {
    "_cell_guid": "28b80807-37de-4310-a957-47000c0da30e",
    "_uuid": "b2fc63ac-a275-4731-a8fb-6bd660c20f7d"
   },
   "source": [
    "# Bivariate Analysis"
   ]
  },
  {
   "cell_type": "code",
   "execution_count": 44,
   "metadata": {
    "_cell_guid": "48937c52-4a5f-423d-b37b-9e53b3d4a81a",
    "_uuid": "c93de5fc-6d6c-4b5e-819a-67320977976c",
    "execution": {
     "iopub.execute_input": "2022-09-13T19:36:43.834830Z",
     "iopub.status.busy": "2022-09-13T19:36:43.834113Z",
     "iopub.status.idle": "2022-09-13T19:36:44.665374Z",
     "shell.execute_reply": "2022-09-13T19:36:44.664067Z",
     "shell.execute_reply.started": "2022-09-13T19:36:43.834776Z"
    },
    "jupyter": {
     "outputs_hidden": false
    }
   },
   "outputs": [
    {
     "name": "stderr",
     "output_type": "stream",
     "text": [
      "C:\\Users\\Gangesh\\AppData\\Local\\Temp\\ipykernel_2624\\501082560.py:2: FutureWarning: The default value of numeric_only in DataFrame.corr is deprecated. In a future version, it will default to False. Select only valid columns or specify the value of numeric_only to silence this warning.\n",
      "  df=train_data.corr()\n"
     ]
    },
    {
     "data": {
      "text/plain": [
       "<Axes: >"
      ]
     },
     "execution_count": 44,
     "metadata": {},
     "output_type": "execute_result"
    },
    {
     "data": {
      "image/png": "[encoded data removed]",
      "text/plain": [
       "<Figure size 640x480 with 2 Axes>"
      ]
     },
     "metadata": {},
     "output_type": "display_data"
    }
   ],
   "source": [
    "import seaborn as sns\n",
    "df=train_data.corr()\n",
    "sns.heatmap(df, annot=True)"
   ]
  },
  {
   "cell_type": "markdown",
   "metadata": {
    "_cell_guid": "4d3c489f-4a4b-4d1f-a259-71a5dac85231",
    "_uuid": "1ba5f0a3-d35b-4352-b1c2-00315d186b40"
   },
   "source": [
    "We can see that none of the Input features is having high correlation factor (> 0.6) with the Output features."
   ]
  },
  {
   "cell_type": "code",
   "execution_count": 45,
   "metadata": {
    "_cell_guid": "eaeb04f5-e391-4c8b-aa91-845153750772",
    "_uuid": "9b86e014-9952-4c7b-8619-ddc967abdb4b",
    "execution": {
     "iopub.execute_input": "2022-09-13T19:36:44.667812Z",
     "iopub.status.busy": "2022-09-13T19:36:44.667286Z",
     "iopub.status.idle": "2022-09-13T19:36:44.673538Z",
     "shell.execute_reply": "2022-09-13T19:36:44.672261Z",
     "shell.execute_reply.started": "2022-09-13T19:36:44.667746Z"
    },
    "jupyter": {
     "outputs_hidden": false
    }
   },
   "outputs": [],
   "source": [
    "# sns.barplot(x=train_data['Item_Identifier'], y=train_data['Item_Outlet_Sales'])\n",
    "# train_data['Item_Identifier'].value_counts()"
   ]
  },
  {
   "cell_type": "markdown",
   "metadata": {
    "_cell_guid": "c656c6b2-d8dd-4ded-954d-1a320302217e",
    "_uuid": "70e55faa-6acb-446c-a5ad-955f6d28f3e1"
   },
   "source": [
    "So, we can see that the ITEM IDENTIFIER is not of so much importance wrt to Output feature."
   ]
  },
  {
   "cell_type": "code",
   "execution_count": 46,
   "metadata": {
    "_cell_guid": "98d82473-de1f-4cf1-a80d-1d401f05c83d",
    "_uuid": "1b120856-b474-4ab5-8875-13f4c7522aea",
    "execution": {
     "iopub.execute_input": "2022-09-13T19:36:44.675689Z",
     "iopub.status.busy": "2022-09-13T19:36:44.675344Z",
     "iopub.status.idle": "2022-09-13T19:36:45.297069Z",
     "shell.execute_reply": "2022-09-13T19:36:45.295735Z",
     "shell.execute_reply.started": "2022-09-13T19:36:44.675650Z"
    },
    "jupyter": {
     "outputs_hidden": false
    }
   },
   "outputs": [
    {
     "data": {
      "text/plain": [
       "OUT027    935\n",
       "OUT013    932\n",
       "OUT049    930\n",
       "OUT046    930\n",
       "OUT035    930\n",
       "OUT045    929\n",
       "OUT018    928\n",
       "OUT017    926\n",
       "OUT010    555\n",
       "OUT019    528\n",
       "Name: Outlet_Identifier, dtype: int64"
      ]
     },
     "execution_count": 46,
     "metadata": {},
     "output_type": "execute_result"
    },
    {
     "data": {
      "image/png": "[encoded data removed]",
      "text/plain": [
       "<Figure size 1000x1000 with 1 Axes>"
      ]
     },
     "metadata": {},
     "output_type": "display_data"
    }
   ],
   "source": [
    "import matplotlib.pyplot as plt\n",
    "plt.figure(figsize=(10,10))\n",
    "sns.barplot(x=train_data['Outlet_Identifier'], y=train_data['Item_Outlet_Sales'])\n",
    "train_data['Outlet_Identifier'].value_counts()"
   ]
  },
  {
   "cell_type": "markdown",
   "metadata": {
    "_cell_guid": "1bbfc93d-2c57-4fbd-b108-0ca810054f4d",
    "_uuid": "f1d3d61d-ef36-49d1-baef-ac315703cad3"
   },
   "source": [
    "So, we can consider OUTLET IDENTIFIER for Model creation as there are very limited types and for some Outlets the sale is comparitively high"
   ]
  },
  {
   "cell_type": "markdown",
   "metadata": {
    "_cell_guid": "f3ebde92-319a-4444-ba97-f9c9aae9bf91",
    "_uuid": "6ccae30d-efa9-4707-9bc6-7cea11698915"
   },
   "source": [
    "# Removing useless columns"
   ]
  },
  {
   "cell_type": "code",
   "execution_count": 47,
   "metadata": {
    "_cell_guid": "a37c796e-8745-4165-bedc-5a3d786123b7",
    "_uuid": "9088ea28-805e-405e-8107-b2a68931cfd2",
    "execution": {
     "iopub.execute_input": "2022-09-13T19:36:45.298954Z",
     "iopub.status.busy": "2022-09-13T19:36:45.298449Z",
     "iopub.status.idle": "2022-09-13T19:36:45.306858Z",
     "shell.execute_reply": "2022-09-13T19:36:45.305464Z",
     "shell.execute_reply.started": "2022-09-13T19:36:45.298917Z"
    },
    "jupyter": {
     "outputs_hidden": false
    }
   },
   "outputs": [],
   "source": [
    "train_data=train_data.drop('Item_Identifier', axis=1)"
   ]
  },
  {
   "cell_type": "markdown",
   "metadata": {
    "_cell_guid": "03f19904-cd8e-4eca-85b4-8af82f25ec75",
    "_uuid": "a5a41837-bd56-40df-b4eb-329494d67eca"
   },
   "source": [
    "# Multivariate Analysis"
   ]
  },
  {
   "cell_type": "code",
   "execution_count": 48,
   "metadata": {
    "_cell_guid": "62d4758e-03b8-4ef3-a844-10830edc145f",
    "_uuid": "652cc874-4ba0-4db4-b001-740c04742a05",
    "execution": {
     "iopub.execute_input": "2022-09-13T19:36:45.308818Z",
     "iopub.status.busy": "2022-09-13T19:36:45.308337Z",
     "iopub.status.idle": "2022-09-13T19:36:45.322599Z",
     "shell.execute_reply": "2022-09-13T19:36:45.321353Z",
     "shell.execute_reply.started": "2022-09-13T19:36:45.308755Z"
    },
    "jupyter": {
     "outputs_hidden": false
    }
   },
   "outputs": [],
   "source": [
    "# sns.pairplot(train_data)"
   ]
  },
  {
   "cell_type": "markdown",
   "metadata": {
    "_cell_guid": "56fda7cd-402e-4d3d-ac03-ca15a407a5a1",
    "_uuid": "0eb7f14c-7292-45bc-9029-92c3dc524aa2"
   },
   "source": [
    "# Encoding"
   ]
  },
  {
   "cell_type": "markdown",
   "metadata": {
    "_cell_guid": "20d22c0f-4022-4e89-9821-b695bb6af1fa",
    "_uuid": "a71f00be-0e0b-4a8b-8c92-acef490525e0"
   },
   "source": [
    "Lable Encoder : Item_Fat_Content, Outlet_Size, Outlet_Location_Type\n",
    "\n",
    "One-hot Encoder : Item_Type, Outlet_Identifier, Outlet_Type"
   ]
  },
  {
   "cell_type": "code",
   "execution_count": 49,
   "metadata": {
    "_cell_guid": "a787a2cb-d855-4be5-9e80-b7be3a2db230",
    "_uuid": "68e1c1fc-04f2-4d51-9417-b68a591054c2",
    "execution": {
     "iopub.execute_input": "2022-09-13T19:36:45.325002Z",
     "iopub.status.busy": "2022-09-13T19:36:45.324261Z",
     "iopub.status.idle": "2022-09-13T19:36:45.344305Z",
     "shell.execute_reply": "2022-09-13T19:36:45.343383Z",
     "shell.execute_reply.started": "2022-09-13T19:36:45.324953Z"
    },
    "jupyter": {
     "outputs_hidden": false
    }
   },
   "outputs": [],
   "source": [
    "from sklearn.preprocessing import LabelEncoder\n",
    "label = LabelEncoder()\n",
    "train_data['Item_Fat_Content']=label.fit_transform(train_data['Item_Fat_Content'])\n",
    "train_data['Outlet_Size']=label.fit_transform(train_data['Outlet_Size'])\n",
    "train_data['Outlet_Location_Type']=label.fit_transform(train_data['Outlet_Location_Type'])"
   ]
  },
  {
   "cell_type": "code",
   "execution_count": 50,
   "metadata": {
    "_cell_guid": "a8f2e96e-7f9e-43bf-b3bf-aa383feaa7ef",
    "_uuid": "fedc812f-4daa-42c2-8c12-e7358087c7aa",
    "execution": {
     "iopub.execute_input": "2022-09-13T19:36:45.346521Z",
     "iopub.status.busy": "2022-09-13T19:36:45.345597Z",
     "iopub.status.idle": "2022-09-13T19:36:45.364494Z",
     "shell.execute_reply": "2022-09-13T19:36:45.363293Z",
     "shell.execute_reply.started": "2022-09-13T19:36:45.346465Z"
    },
    "jupyter": {
     "outputs_hidden": false
    }
   },
   "outputs": [],
   "source": [
    "df=pd.get_dummies(train_data['Item_Type'])\n",
    "train_data=pd.concat([train_data, df], axis=1)\n",
    "\n",
    "df=pd.get_dummies(train_data['Outlet_Identifier'])\n",
    "train_data=pd.concat([train_data, df], axis=1)\n",
    "\n",
    "df=pd.get_dummies(train_data['Outlet_Type'])\n",
    "train_data=pd.concat([train_data, df], axis=1)"
   ]
  },
  {
   "cell_type": "code",
   "execution_count": 51,
   "metadata": {
    "_cell_guid": "5e885f5a-e558-462f-a5a8-f3c8dcf74b7c",
    "_uuid": "3146cd97-534a-448c-9078-90b555bca0f1",
    "execution": {
     "iopub.execute_input": "2022-09-13T19:36:45.366718Z",
     "iopub.status.busy": "2022-09-13T19:36:45.366173Z",
     "iopub.status.idle": "2022-09-13T19:36:45.373677Z",
     "shell.execute_reply": "2022-09-13T19:36:45.372808Z",
     "shell.execute_reply.started": "2022-09-13T19:36:45.366686Z"
    },
    "jupyter": {
     "outputs_hidden": false
    }
   },
   "outputs": [],
   "source": [
    "train_data=train_data.drop(['Item_Type', 'Outlet_Identifier', 'Outlet_Type'], axis=1)"
   ]
  },
  {
   "cell_type": "code",
   "execution_count": 52,
   "metadata": {
    "_cell_guid": "8bc6ef50-a09a-464b-b291-e9fc9d16f357",
    "_uuid": "e7b46aad-1d5a-44f6-b507-3d7df3e0e2bd",
    "execution": {
     "iopub.execute_input": "2022-09-13T19:36:45.375416Z",
     "iopub.status.busy": "2022-09-13T19:36:45.374924Z",
     "iopub.status.idle": "2022-09-13T19:36:45.399507Z",
     "shell.execute_reply": "2022-09-13T19:36:45.398613Z",
     "shell.execute_reply.started": "2022-09-13T19:36:45.375384Z"
    },
    "jupyter": {
     "outputs_hidden": false
    }
   },
   "outputs": [
    {
     "name": "stdout",
     "output_type": "stream",
     "text": [
      "<class 'pandas.core.frame.DataFrame'>\n",
      "RangeIndex: 8523 entries, 0 to 8522\n",
      "Data columns (total 38 columns):\n",
      " #   Column                     Non-Null Count  Dtype  \n",
      "---  ------                     --------------  -----  \n",
      " 0   Item_Weight                8523 non-null   float64\n",
      " 1   Item_Fat_Content           8523 non-null   int32  \n",
      " 2   Item_Visibility            8523 non-null   float64\n",
      " 3   Item_MRP                   8523 non-null   float64\n",
      " 4   Outlet_Establishment_Year  8523 non-null   int64  \n",
      " 5   Outlet_Size                8523 non-null   int32  \n",
      " 6   Outlet_Location_Type       8523 non-null   int32  \n",
      " 7   Item_Outlet_Sales          8523 non-null   float64\n",
      " 8   Baking Goods               8523 non-null   uint8  \n",
      " 9   Breads                     8523 non-null   uint8  \n",
      " 10  Breakfast                  8523 non-null   uint8  \n",
      " 11  Canned                     8523 non-null   uint8  \n",
      " 12  Dairy                      8523 non-null   uint8  \n",
      " 13  Frozen Foods               8523 non-null   uint8  \n",
      " 14  Fruits and Vegetables      8523 non-null   uint8  \n",
      " 15  Hard Drinks                8523 non-null   uint8  \n",
      " 16  Health and Hygiene         8523 non-null   uint8  \n",
      " 17  Household                  8523 non-null   uint8  \n",
      " 18  Meat                       8523 non-null   uint8  \n",
      " 19  Others                     8523 non-null   uint8  \n",
      " 20  Seafood                    8523 non-null   uint8  \n",
      " 21  Snack Foods                8523 non-null   uint8  \n",
      " 22  Soft Drinks                8523 non-null   uint8  \n",
      " 23  Starchy Foods              8523 non-null   uint8  \n",
      " 24  OUT010                     8523 non-null   uint8  \n",
      " 25  OUT013                     8523 non-null   uint8  \n",
      " 26  OUT017                     8523 non-null   uint8  \n",
      " 27  OUT018                     8523 non-null   uint8  \n",
      " 28  OUT019                     8523 non-null   uint8  \n",
      " 29  OUT027                     8523 non-null   uint8  \n",
      " 30  OUT035                     8523 non-null   uint8  \n",
      " 31  OUT045                     8523 non-null   uint8  \n",
      " 32  OUT046                     8523 non-null   uint8  \n",
      " 33  OUT049                     8523 non-null   uint8  \n",
      " 34  Grocery Store              8523 non-null   uint8  \n",
      " 35  Supermarket Type1          8523 non-null   uint8  \n",
      " 36  Supermarket Type2          8523 non-null   uint8  \n",
      " 37  Supermarket Type3          8523 non-null   uint8  \n",
      "dtypes: float64(4), int32(3), int64(1), uint8(30)\n",
      "memory usage: 682.6 KB\n"
     ]
    }
   ],
   "source": [
    "train_data.info()"
   ]
  },
  {
   "cell_type": "markdown",
   "metadata": {
    "_cell_guid": "ef34b90b-818f-4e82-a06e-0d5c6cd2d6d2",
    "_uuid": "4ec30f19-cf57-40f5-9f6f-21ecf195c6d9"
   },
   "source": [
    "# Input and Output Feature Split"
   ]
  },
  {
   "cell_type": "code",
   "execution_count": 53,
   "metadata": {
    "_cell_guid": "4382964d-9710-427e-93e5-d605850a6d82",
    "_uuid": "de26c25a-f004-4cec-94f4-bcd9ad936896",
    "execution": {
     "iopub.execute_input": "2022-09-13T19:36:45.401520Z",
     "iopub.status.busy": "2022-09-13T19:36:45.401187Z",
     "iopub.status.idle": "2022-09-13T19:36:45.410977Z",
     "shell.execute_reply": "2022-09-13T19:36:45.409834Z",
     "shell.execute_reply.started": "2022-09-13T19:36:45.401490Z"
    },
    "jupyter": {
     "outputs_hidden": false
    }
   },
   "outputs": [],
   "source": [
    "x_orig = train_data.drop('Item_Outlet_Sales', axis=1)\n",
    "y_orig = pd.DataFrame(train_data['Item_Outlet_Sales'], columns=['Item_Outlet_Sales'])"
   ]
  },
  {
   "cell_type": "code",
   "execution_count": 54,
   "metadata": {
    "execution": {
     "iopub.execute_input": "2022-09-13T19:36:45.414141Z",
     "iopub.status.busy": "2022-09-13T19:36:45.413638Z",
     "iopub.status.idle": "2022-09-13T19:36:45.426400Z",
     "shell.execute_reply": "2022-09-13T19:36:45.425508Z",
     "shell.execute_reply.started": "2022-09-13T19:36:45.414105Z"
    }
   },
   "outputs": [
    {
     "data": {
      "text/plain": [
       "(8523, 1)"
      ]
     },
     "execution_count": 54,
     "metadata": {},
     "output_type": "execute_result"
    }
   ],
   "source": [
    "y_orig.shape"
   ]
  },
  {
   "cell_type": "markdown",
   "metadata": {},
   "source": [
    "# Linear Regression"
   ]
  },
  {
   "cell_type": "code",
   "execution_count": 55,
   "metadata": {
    "_cell_guid": "1461a1fe-32c9-49b0-91ff-208c53794457",
    "_uuid": "e622c06b-5fb6-4d3c-8a60-01612507c5bd",
    "execution": {
     "iopub.execute_input": "2022-09-13T19:36:45.428263Z",
     "iopub.status.busy": "2022-09-13T19:36:45.427700Z",
     "iopub.status.idle": "2022-09-13T19:36:45.478614Z",
     "shell.execute_reply": "2022-09-13T19:36:45.476621Z",
     "shell.execute_reply.started": "2022-09-13T19:36:45.428229Z"
    },
    "jupyter": {
     "outputs_hidden": false
    }
   },
   "outputs": [
    {
     "name": "stdout",
     "output_type": "stream",
     "text": [
      "R2 score 0.5444984952221819\n",
      "RMSE: 1187.0043343033067\n"
     ]
    }
   ],
   "source": [
    "from sklearn.preprocessing import StandardScaler\n",
    "scale = StandardScaler()\n",
    "x=scale.fit_transform(x_orig)\n",
    "y=scale.fit_transform(y_orig)\n",
    "\n",
    "from sklearn.model_selection import train_test_split\n",
    "x_train, x_test, y_train, y_test = train_test_split(x, y, test_size=0.2, random_state=7)\n",
    "\n",
    "from sklearn.linear_model import LinearRegression\n",
    "model = LinearRegression()\n",
    "model.fit(x_train, y_train)\n",
    "y_pred = model.predict(x_test)\n",
    "\n",
    "y_test = scale.inverse_transform(y_test)\n",
    "y_pred = scale.inverse_transform(y_pred)\n",
    "\n",
    "from sklearn import metrics\n",
    "print(\"R2 score\", metrics.r2_score(y_test, y_pred))\n",
    "print('RMSE:', np.sqrt(metrics.mean_squared_error(y_test, y_pred)))"
   ]
  },
  {
   "cell_type": "markdown",
   "metadata": {},
   "source": [
    "# Lasso Regularization"
   ]
  },
  {
   "cell_type": "code",
   "execution_count": 61,
   "metadata": {
    "execution": {
     "iopub.execute_input": "2022-09-13T19:36:45.490008Z",
     "iopub.status.busy": "2022-09-13T19:36:45.485434Z",
     "iopub.status.idle": "2022-09-13T19:36:45.584849Z",
     "shell.execute_reply": "2022-09-13T19:36:45.583460Z",
     "shell.execute_reply.started": "2022-09-13T19:36:45.489936Z"
    }
   },
   "outputs": [
    {
     "name": "stdout",
     "output_type": "stream",
     "text": [
      "R2 score -0.00024579770948407464\n",
      "RMSE: 1758.9794452421588\n"
     ]
    }
   ],
   "source": [
    "from sklearn.preprocessing import StandardScaler\n",
    "scale = StandardScaler()\n",
    "x=scale.fit_transform(x_orig)\n",
    "y=scale.fit_transform(y_orig)\n",
    "\n",
    "from sklearn.model_selection import train_test_split\n",
    "x_train, x_test, y_train, y_test = train_test_split(x, y, test_size=0.2, random_state=7)\n",
    "\n",
    "from sklearn.linear_model import Lasso\n",
    "model = Lasso(max_iter=100000)\n",
    "model.fit(x_train, y_train)\n",
    "y_pred = pd.DataFrame(model.predict(x_test))\n",
    "\n",
    "y_test = scale.inverse_transform(y_test)\n",
    "y_pred = scale.inverse_transform(y_pred)\n",
    "\n",
    "from sklearn import metrics\n",
    "print(\"R2 score\", metrics.r2_score(y_test, y_pred))\n",
    "print('RMSE:', np.sqrt(metrics.mean_squared_error(y_test, y_pred)))\n",
    "\n",
    "# RMSE is coming greater than 1, which is more than the expected range of 0 to 1 when the data is standard scaled."
   ]
  },
  {
   "cell_type": "markdown",
   "metadata": {},
   "source": [
    "# Ridge Regularization"
   ]
  },
  {
   "cell_type": "code",
   "execution_count": 63,
   "metadata": {
    "execution": {
     "iopub.execute_input": "2022-09-13T19:36:45.588991Z",
     "iopub.status.busy": "2022-09-13T19:36:45.587308Z",
     "iopub.status.idle": "2022-09-13T19:36:45.701014Z",
     "shell.execute_reply": "2022-09-13T19:36:45.699777Z",
     "shell.execute_reply.started": "2022-09-13T19:36:45.588942Z"
    }
   },
   "outputs": [
    {
     "name": "stdout",
     "output_type": "stream",
     "text": [
      "R2 score 0.5445834929858073\n",
      "RMSE: 1186.8935800907288\n"
     ]
    },
    {
     "data": {
      "text/plain": [
       "37"
      ]
     },
     "execution_count": 63,
     "metadata": {},
     "output_type": "execute_result"
    }
   ],
   "source": [
    "from sklearn.preprocessing import StandardScaler\n",
    "scale = StandardScaler()\n",
    "x=scale.fit_transform(x_orig)\n",
    "y=scale.fit_transform(y_orig)\n",
    "\n",
    "from sklearn.model_selection import train_test_split\n",
    "x_train, x_test, y_train, y_test = train_test_split(x, y, test_size=0.2, random_state=7)\n",
    "\n",
    "from sklearn.linear_model import Ridge\n",
    "model = Ridge(max_iter=100000)\n",
    "model.fit(x_train, y_train)\n",
    "y_pred = model.predict(x_test)\n",
    "\n",
    "y_test = scale.inverse_transform(y_test)\n",
    "y_pred = scale.inverse_transform(y_pred)\n",
    "\n",
    "from sklearn import metrics\n",
    "print(\"R2 score\", metrics.r2_score(y_test, y_pred))\n",
    "print('RMSE:', np.sqrt(metrics.mean_squared_error(y_test, y_pred)))\n",
    "\n",
    "np.sum(model.coef_ != 0)"
   ]
  },
  {
   "cell_type": "markdown",
   "metadata": {},
   "source": [
    "# SVM"
   ]
  },
  {
   "cell_type": "code",
   "execution_count": 65,
   "metadata": {
    "execution": {
     "iopub.execute_input": "2022-09-13T19:36:51.208003Z",
     "iopub.status.busy": "2022-09-13T19:36:51.207391Z",
     "iopub.status.idle": "2022-09-13T19:36:54.873989Z",
     "shell.execute_reply": "2022-09-13T19:36:54.872748Z",
     "shell.execute_reply.started": "2022-09-13T19:36:51.207963Z"
    }
   },
   "outputs": [
    {
     "name": "stderr",
     "output_type": "stream",
     "text": [
      "C:\\Users\\Gangesh\\anaconda3\\Lib\\site-packages\\sklearn\\utils\\validation.py:1143: DataConversionWarning: A column-vector y was passed when a 1d array was expected. Please change the shape of y to (n_samples, ), for example using ravel().\n",
      "  y = column_or_1d(y, warn=True)\n"
     ]
    },
    {
     "name": "stdout",
     "output_type": "stream",
     "text": [
      "R2 score 0.5707030087402127\n",
      "RMSE: 1152.3550758279955\n"
     ]
    }
   ],
   "source": [
    "from sklearn.preprocessing import StandardScaler\n",
    "scale = StandardScaler()\n",
    "x=scale.fit_transform(x_orig)\n",
    "y=scale.fit_transform(y_orig)\n",
    "\n",
    "from sklearn.model_selection import train_test_split\n",
    "x_train, x_test, y_train, y_test = train_test_split(x, y, test_size=0.2, random_state=7)\n",
    "\n",
    "from sklearn.svm import SVR\n",
    "model = SVR()\n",
    "model.fit(x_train, y_train)\n",
    "y_pred = pd.DataFrame(model.predict(x_test))\n",
    "\n",
    "y_test = scale.inverse_transform(y_test)\n",
    "y_pred = scale.inverse_transform(y_pred)\n",
    "\n",
    "from sklearn import metrics\n",
    "print(\"R2 score\", metrics.r2_score(y_test, y_pred))\n",
    "print('RMSE:', np.sqrt(metrics.mean_squared_error(y_test, y_pred)))"
   ]
  },
  {
   "cell_type": "markdown",
   "metadata": {},
   "source": [
    "# Decision Tree"
   ]
  },
  {
   "cell_type": "code",
   "execution_count": 73,
   "metadata": {
    "execution": {
     "iopub.execute_input": "2022-09-13T19:36:54.881381Z",
     "iopub.status.busy": "2022-09-13T19:36:54.880961Z",
     "iopub.status.idle": "2022-09-13T19:36:54.971649Z",
     "shell.execute_reply": "2022-09-13T19:36:54.970467Z",
     "shell.execute_reply.started": "2022-09-13T19:36:54.881346Z"
    }
   },
   "outputs": [
    {
     "name": "stdout",
     "output_type": "stream",
     "text": [
      "R2 score 0.2638399970278045\n",
      "RMSE: 1509.0148220750166\n"
     ]
    }
   ],
   "source": [
    "from sklearn.preprocessing import StandardScaler\n",
    "scale = StandardScaler()\n",
    "x=scale.fit_transform(x_orig)\n",
    "y=scale.fit_transform(y_orig)\n",
    "\n",
    "from sklearn.model_selection import train_test_split\n",
    "x_train, x_test, y_train, y_test = train_test_split(x, y, test_size=0.2, random_state=7)\n",
    "\n",
    "from sklearn.tree import DecisionTreeRegressor\n",
    "model = DecisionTreeRegressor(random_state=2)\n",
    "model.fit(x_train, y_train)\n",
    "y_pred = pd.DataFrame(model.predict(x_test))\n",
    "\n",
    "y_test = scale.inverse_transform(y_test)\n",
    "y_pred = scale.inverse_transform(y_pred)\n",
    "\n",
    "from sklearn import metrics\n",
    "print(\"R2 score\", metrics.r2_score(y_test, y_pred))\n",
    "print('RMSE:', np.sqrt(metrics.mean_squared_error(y_test, y_pred)))"
   ]
  },
  {
   "cell_type": "markdown",
   "metadata": {},
   "source": [
    "# Decision Tree with Grid Search CV"
   ]
  },
  {
   "cell_type": "code",
   "execution_count": 74,
   "metadata": {
    "execution": {
     "iopub.execute_input": "2022-09-13T19:36:54.974025Z",
     "iopub.status.busy": "2022-09-13T19:36:54.973553Z",
     "iopub.status.idle": "2022-09-13T19:40:11.608046Z",
     "shell.execute_reply": "2022-09-13T19:40:11.606719Z",
     "shell.execute_reply.started": "2022-09-13T19:36:54.973981Z"
    }
   },
   "outputs": [
    {
     "name": "stderr",
     "output_type": "stream",
     "text": [
      "C:\\Users\\Gangesh\\anaconda3\\Lib\\site-packages\\sklearn\\tree\\_classes.py:277: FutureWarning: `max_features='auto'` has been deprecated in 1.1 and will be removed in 1.3. To keep the past behaviour, explicitly set `max_features=1.0'`.\n",
      "  warnings.warn(\n",
      "C:\\Users\\Gangesh\\anaconda3\\Lib\\site-packages\\sklearn\\tree\\_classes.py:277: FutureWarning: `max_features='auto'` has been deprecated in 1.1 and will be removed in 1.3. To keep the past behaviour, explicitly set `max_features=1.0'`.\n",
      "  warnings.warn(\n",
      "C:\\Users\\Gangesh\\anaconda3\\Lib\\site-packages\\sklearn\\tree\\_classes.py:277: FutureWarning: `max_features='auto'` has been deprecated in 1.1 and will be removed in 1.3. To keep the past behaviour, explicitly set `max_features=1.0'`.\n",
      "  warnings.warn(\n",
      "C:\\Users\\Gangesh\\anaconda3\\Lib\\site-packages\\sklearn\\tree\\_classes.py:277: FutureWarning: `max_features='auto'` has been deprecated in 1.1 and will be removed in 1.3. To keep the past behaviour, explicitly set `max_features=1.0'`.\n",
      "  warnings.warn(\n",
      "C:\\Users\\Gangesh\\anaconda3\\Lib\\site-packages\\sklearn\\tree\\_classes.py:277: FutureWarning: `max_features='auto'` has been deprecated in 1.1 and will be removed in 1.3. To keep the past behaviour, explicitly set `max_features=1.0'`.\n",
      "  warnings.warn(\n",
      "C:\\Users\\Gangesh\\anaconda3\\Lib\\site-packages\\sklearn\\tree\\_classes.py:277: FutureWarning: `max_features='auto'` has been deprecated in 1.1 and will be removed in 1.3. To keep the past behaviour, explicitly set `max_features=1.0'`.\n",
      "  warnings.warn(\n",
      "C:\\Users\\Gangesh\\anaconda3\\Lib\\site-packages\\sklearn\\tree\\_classes.py:277: FutureWarning: `max_features='auto'` has been deprecated in 1.1 and will be removed in 1.3. To keep the past behaviour, explicitly set `max_features=1.0'`.\n",
      "  warnings.warn(\n",
      "C:\\Users\\Gangesh\\anaconda3\\Lib\\site-packages\\sklearn\\tree\\_classes.py:277: FutureWarning: `max_features='auto'` has been deprecated in 1.1 and will be removed in 1.3. To keep the past behaviour, explicitly set `max_features=1.0'`.\n",
      "  warnings.warn(\n",
      "C:\\Users\\Gangesh\\anaconda3\\Lib\\site-packages\\sklearn\\tree\\_classes.py:277: FutureWarning: `max_features='auto'` has been deprecated in 1.1 and will be removed in 1.3. To keep the past behaviour, explicitly set `max_features=1.0'`.\n",
      "  warnings.warn(\n",
      "C:\\Users\\Gangesh\\anaconda3\\Lib\\site-packages\\sklearn\\tree\\_classes.py:277: FutureWarning: `max_features='auto'` has been deprecated in 1.1 and will be removed in 1.3. To keep the past behaviour, explicitly set `max_features=1.0'`.\n",
      "  warnings.warn(\n",
      "C:\\Users\\Gangesh\\anaconda3\\Lib\\site-packages\\sklearn\\tree\\_classes.py:277: FutureWarning: `max_features='auto'` has been deprecated in 1.1 and will be removed in 1.3. To keep the past behaviour, explicitly set `max_features=1.0'`.\n",
      "  warnings.warn(\n",
      "C:\\Users\\Gangesh\\anaconda3\\Lib\\site-packages\\sklearn\\tree\\_classes.py:277: FutureWarning: `max_features='auto'` has been deprecated in 1.1 and will be removed in 1.3. To keep the past behaviour, explicitly set `max_features=1.0'`.\n",
      "  warnings.warn(\n",
      "C:\\Users\\Gangesh\\anaconda3\\Lib\\site-packages\\sklearn\\tree\\_classes.py:277: FutureWarning: `max_features='auto'` has been deprecated in 1.1 and will be removed in 1.3. To keep the past behaviour, explicitly set `max_features=1.0'`.\n",
      "  warnings.warn(\n",
      "C:\\Users\\Gangesh\\anaconda3\\Lib\\site-packages\\sklearn\\tree\\_classes.py:277: FutureWarning: `max_features='auto'` has been deprecated in 1.1 and will be removed in 1.3. To keep the past behaviour, explicitly set `max_features=1.0'`.\n",
      "  warnings.warn(\n",
      "C:\\Users\\Gangesh\\anaconda3\\Lib\\site-packages\\sklearn\\tree\\_classes.py:277: FutureWarning: `max_features='auto'` has been deprecated in 1.1 and will be removed in 1.3. To keep the past behaviour, explicitly set `max_features=1.0'`.\n",
      "  warnings.warn(\n",
      "C:\\Users\\Gangesh\\anaconda3\\Lib\\site-packages\\sklearn\\tree\\_classes.py:277: FutureWarning: `max_features='auto'` has been deprecated in 1.1 and will be removed in 1.3. To keep the past behaviour, explicitly set `max_features=1.0'`.\n",
      "  warnings.warn(\n",
      "C:\\Users\\Gangesh\\anaconda3\\Lib\\site-packages\\sklearn\\tree\\_classes.py:277: FutureWarning: `max_features='auto'` has been deprecated in 1.1 and will be removed in 1.3. To keep the past behaviour, explicitly set `max_features=1.0'`.\n",
      "  warnings.warn(\n",
      "C:\\Users\\Gangesh\\anaconda3\\Lib\\site-packages\\sklearn\\tree\\_classes.py:277: FutureWarning: `max_features='auto'` has been deprecated in 1.1 and will be removed in 1.3. To keep the past behaviour, explicitly set `max_features=1.0'`.\n",
      "  warnings.warn(\n",
      "C:\\Users\\Gangesh\\anaconda3\\Lib\\site-packages\\sklearn\\tree\\_classes.py:277: FutureWarning: `max_features='auto'` has been deprecated in 1.1 and will be removed in 1.3. To keep the past behaviour, explicitly set `max_features=1.0'`.\n",
      "  warnings.warn(\n",
      "C:\\Users\\Gangesh\\anaconda3\\Lib\\site-packages\\sklearn\\tree\\_classes.py:277: FutureWarning: `max_features='auto'` has been deprecated in 1.1 and will be removed in 1.3. To keep the past behaviour, explicitly set `max_features=1.0'`.\n",
      "  warnings.warn(\n",
      "C:\\Users\\Gangesh\\anaconda3\\Lib\\site-packages\\sklearn\\tree\\_classes.py:277: FutureWarning: `max_features='auto'` has been deprecated in 1.1 and will be removed in 1.3. To keep the past behaviour, explicitly set `max_features=1.0'`.\n",
      "  warnings.warn(\n",
      "C:\\Users\\Gangesh\\anaconda3\\Lib\\site-packages\\sklearn\\tree\\_classes.py:277: FutureWarning: `max_features='auto'` has been deprecated in 1.1 and will be removed in 1.3. To keep the past behaviour, explicitly set `max_features=1.0'`.\n",
      "  warnings.warn(\n",
      "C:\\Users\\Gangesh\\anaconda3\\Lib\\site-packages\\sklearn\\tree\\_classes.py:277: FutureWarning: `max_features='auto'` has been deprecated in 1.1 and will be removed in 1.3. To keep the past behaviour, explicitly set `max_features=1.0'`.\n",
      "  warnings.warn(\n",
      "C:\\Users\\Gangesh\\anaconda3\\Lib\\site-packages\\sklearn\\tree\\_classes.py:277: FutureWarning: `max_features='auto'` has been deprecated in 1.1 and will be removed in 1.3. To keep the past behaviour, explicitly set `max_features=1.0'`.\n",
      "  warnings.warn(\n",
      "C:\\Users\\Gangesh\\anaconda3\\Lib\\site-packages\\sklearn\\tree\\_classes.py:277: FutureWarning: `max_features='auto'` has been deprecated in 1.1 and will be removed in 1.3. To keep the past behaviour, explicitly set `max_features=1.0'`.\n",
      "  warnings.warn(\n",
      "C:\\Users\\Gangesh\\anaconda3\\Lib\\site-packages\\sklearn\\tree\\_classes.py:277: FutureWarning: `max_features='auto'` has been deprecated in 1.1 and will be removed in 1.3. To keep the past behaviour, explicitly set `max_features=1.0'`.\n",
      "  warnings.warn(\n",
      "C:\\Users\\Gangesh\\anaconda3\\Lib\\site-packages\\sklearn\\tree\\_classes.py:277: FutureWarning: `max_features='auto'` has been deprecated in 1.1 and will be removed in 1.3. To keep the past behaviour, explicitly set `max_features=1.0'`.\n",
      "  warnings.warn(\n",
      "C:\\Users\\Gangesh\\anaconda3\\Lib\\site-packages\\sklearn\\tree\\_classes.py:277: FutureWarning: `max_features='auto'` has been deprecated in 1.1 and will be removed in 1.3. To keep the past behaviour, explicitly set `max_features=1.0'`.\n",
      "  warnings.warn(\n",
      "C:\\Users\\Gangesh\\anaconda3\\Lib\\site-packages\\sklearn\\tree\\_classes.py:277: FutureWarning: `max_features='auto'` has been deprecated in 1.1 and will be removed in 1.3. To keep the past behaviour, explicitly set `max_features=1.0'`.\n",
      "  warnings.warn(\n",
      "C:\\Users\\Gangesh\\anaconda3\\Lib\\site-packages\\sklearn\\tree\\_classes.py:277: FutureWarning: `max_features='auto'` has been deprecated in 1.1 and will be removed in 1.3. To keep the past behaviour, explicitly set `max_features=1.0'`.\n",
      "  warnings.warn(\n",
      "C:\\Users\\Gangesh\\anaconda3\\Lib\\site-packages\\sklearn\\tree\\_classes.py:277: FutureWarning: `max_features='auto'` has been deprecated in 1.1 and will be removed in 1.3. To keep the past behaviour, explicitly set `max_features=1.0'`.\n",
      "  warnings.warn(\n",
      "C:\\Users\\Gangesh\\anaconda3\\Lib\\site-packages\\sklearn\\tree\\_classes.py:277: FutureWarning: `max_features='auto'` has been deprecated in 1.1 and will be removed in 1.3. To keep the past behaviour, explicitly set `max_features=1.0'`.\n",
      "  warnings.warn(\n",
      "C:\\Users\\Gangesh\\anaconda3\\Lib\\site-packages\\sklearn\\tree\\_classes.py:277: FutureWarning: `max_features='auto'` has been deprecated in 1.1 and will be removed in 1.3. To keep the past behaviour, explicitly set `max_features=1.0'`.\n",
      "  warnings.warn(\n",
      "C:\\Users\\Gangesh\\anaconda3\\Lib\\site-packages\\sklearn\\tree\\_classes.py:277: FutureWarning: `max_features='auto'` has been deprecated in 1.1 and will be removed in 1.3. To keep the past behaviour, explicitly set `max_features=1.0'`.\n",
      "  warnings.warn(\n",
      "C:\\Users\\Gangesh\\anaconda3\\Lib\\site-packages\\sklearn\\tree\\_classes.py:277: FutureWarning: `max_features='auto'` has been deprecated in 1.1 and will be removed in 1.3. To keep the past behaviour, explicitly set `max_features=1.0'`.\n",
      "  warnings.warn(\n",
      "C:\\Users\\Gangesh\\anaconda3\\Lib\\site-packages\\sklearn\\tree\\_classes.py:277: FutureWarning: `max_features='auto'` has been deprecated in 1.1 and will be removed in 1.3. To keep the past behaviour, explicitly set `max_features=1.0'`.\n",
      "  warnings.warn(\n",
      "C:\\Users\\Gangesh\\anaconda3\\Lib\\site-packages\\sklearn\\tree\\_classes.py:277: FutureWarning: `max_features='auto'` has been deprecated in 1.1 and will be removed in 1.3. To keep the past behaviour, explicitly set `max_features=1.0'`.\n",
      "  warnings.warn(\n",
      "C:\\Users\\Gangesh\\anaconda3\\Lib\\site-packages\\sklearn\\tree\\_classes.py:277: FutureWarning: `max_features='auto'` has been deprecated in 1.1 and will be removed in 1.3. To keep the past behaviour, explicitly set `max_features=1.0'`.\n",
      "  warnings.warn(\n",
      "C:\\Users\\Gangesh\\anaconda3\\Lib\\site-packages\\sklearn\\tree\\_classes.py:277: FutureWarning: `max_features='auto'` has been deprecated in 1.1 and will be removed in 1.3. To keep the past behaviour, explicitly set `max_features=1.0'`.\n",
      "  warnings.warn(\n",
      "C:\\Users\\Gangesh\\anaconda3\\Lib\\site-packages\\sklearn\\tree\\_classes.py:277: FutureWarning: `max_features='auto'` has been deprecated in 1.1 and will be removed in 1.3. To keep the past behaviour, explicitly set `max_features=1.0'`.\n",
      "  warnings.warn(\n"
     ]
    },
    {
     "name": "stderr",
     "output_type": "stream",
     "text": [
      "C:\\Users\\Gangesh\\anaconda3\\Lib\\site-packages\\sklearn\\tree\\_classes.py:277: FutureWarning: `max_features='auto'` has been deprecated in 1.1 and will be removed in 1.3. To keep the past behaviour, explicitly set `max_features=1.0'`.\n",
      "  warnings.warn(\n",
      "C:\\Users\\Gangesh\\anaconda3\\Lib\\site-packages\\sklearn\\tree\\_classes.py:277: FutureWarning: `max_features='auto'` has been deprecated in 1.1 and will be removed in 1.3. To keep the past behaviour, explicitly set `max_features=1.0'`.\n",
      "  warnings.warn(\n",
      "C:\\Users\\Gangesh\\anaconda3\\Lib\\site-packages\\sklearn\\tree\\_classes.py:277: FutureWarning: `max_features='auto'` has been deprecated in 1.1 and will be removed in 1.3. To keep the past behaviour, explicitly set `max_features=1.0'`.\n",
      "  warnings.warn(\n",
      "C:\\Users\\Gangesh\\anaconda3\\Lib\\site-packages\\sklearn\\tree\\_classes.py:277: FutureWarning: `max_features='auto'` has been deprecated in 1.1 and will be removed in 1.3. To keep the past behaviour, explicitly set `max_features=1.0'`.\n",
      "  warnings.warn(\n",
      "C:\\Users\\Gangesh\\anaconda3\\Lib\\site-packages\\sklearn\\tree\\_classes.py:277: FutureWarning: `max_features='auto'` has been deprecated in 1.1 and will be removed in 1.3. To keep the past behaviour, explicitly set `max_features=1.0'`.\n",
      "  warnings.warn(\n",
      "C:\\Users\\Gangesh\\anaconda3\\Lib\\site-packages\\sklearn\\tree\\_classes.py:277: FutureWarning: `max_features='auto'` has been deprecated in 1.1 and will be removed in 1.3. To keep the past behaviour, explicitly set `max_features=1.0'`.\n",
      "  warnings.warn(\n",
      "C:\\Users\\Gangesh\\anaconda3\\Lib\\site-packages\\sklearn\\tree\\_classes.py:277: FutureWarning: `max_features='auto'` has been deprecated in 1.1 and will be removed in 1.3. To keep the past behaviour, explicitly set `max_features=1.0'`.\n",
      "  warnings.warn(\n",
      "C:\\Users\\Gangesh\\anaconda3\\Lib\\site-packages\\sklearn\\tree\\_classes.py:277: FutureWarning: `max_features='auto'` has been deprecated in 1.1 and will be removed in 1.3. To keep the past behaviour, explicitly set `max_features=1.0'`.\n",
      "  warnings.warn(\n",
      "C:\\Users\\Gangesh\\anaconda3\\Lib\\site-packages\\sklearn\\tree\\_classes.py:277: FutureWarning: `max_features='auto'` has been deprecated in 1.1 and will be removed in 1.3. To keep the past behaviour, explicitly set `max_features=1.0'`.\n",
      "  warnings.warn(\n",
      "C:\\Users\\Gangesh\\anaconda3\\Lib\\site-packages\\sklearn\\tree\\_classes.py:277: FutureWarning: `max_features='auto'` has been deprecated in 1.1 and will be removed in 1.3. To keep the past behaviour, explicitly set `max_features=1.0'`.\n",
      "  warnings.warn(\n",
      "C:\\Users\\Gangesh\\anaconda3\\Lib\\site-packages\\sklearn\\tree\\_classes.py:277: FutureWarning: `max_features='auto'` has been deprecated in 1.1 and will be removed in 1.3. To keep the past behaviour, explicitly set `max_features=1.0'`.\n",
      "  warnings.warn(\n",
      "C:\\Users\\Gangesh\\anaconda3\\Lib\\site-packages\\sklearn\\tree\\_classes.py:277: FutureWarning: `max_features='auto'` has been deprecated in 1.1 and will be removed in 1.3. To keep the past behaviour, explicitly set `max_features=1.0'`.\n",
      "  warnings.warn(\n",
      "C:\\Users\\Gangesh\\anaconda3\\Lib\\site-packages\\sklearn\\tree\\_classes.py:277: FutureWarning: `max_features='auto'` has been deprecated in 1.1 and will be removed in 1.3. To keep the past behaviour, explicitly set `max_features=1.0'`.\n",
      "  warnings.warn(\n",
      "C:\\Users\\Gangesh\\anaconda3\\Lib\\site-packages\\sklearn\\tree\\_classes.py:277: FutureWarning: `max_features='auto'` has been deprecated in 1.1 and will be removed in 1.3. To keep the past behaviour, explicitly set `max_features=1.0'`.\n",
      "  warnings.warn(\n",
      "C:\\Users\\Gangesh\\anaconda3\\Lib\\site-packages\\sklearn\\tree\\_classes.py:277: FutureWarning: `max_features='auto'` has been deprecated in 1.1 and will be removed in 1.3. To keep the past behaviour, explicitly set `max_features=1.0'`.\n",
      "  warnings.warn(\n",
      "C:\\Users\\Gangesh\\anaconda3\\Lib\\site-packages\\sklearn\\tree\\_classes.py:277: FutureWarning: `max_features='auto'` has been deprecated in 1.1 and will be removed in 1.3. To keep the past behaviour, explicitly set `max_features=1.0'`.\n",
      "  warnings.warn(\n",
      "C:\\Users\\Gangesh\\anaconda3\\Lib\\site-packages\\sklearn\\tree\\_classes.py:277: FutureWarning: `max_features='auto'` has been deprecated in 1.1 and will be removed in 1.3. To keep the past behaviour, explicitly set `max_features=1.0'`.\n",
      "  warnings.warn(\n",
      "C:\\Users\\Gangesh\\anaconda3\\Lib\\site-packages\\sklearn\\tree\\_classes.py:277: FutureWarning: `max_features='auto'` has been deprecated in 1.1 and will be removed in 1.3. To keep the past behaviour, explicitly set `max_features=1.0'`.\n",
      "  warnings.warn(\n",
      "C:\\Users\\Gangesh\\anaconda3\\Lib\\site-packages\\sklearn\\tree\\_classes.py:277: FutureWarning: `max_features='auto'` has been deprecated in 1.1 and will be removed in 1.3. To keep the past behaviour, explicitly set `max_features=1.0'`.\n",
      "  warnings.warn(\n",
      "C:\\Users\\Gangesh\\anaconda3\\Lib\\site-packages\\sklearn\\tree\\_classes.py:277: FutureWarning: `max_features='auto'` has been deprecated in 1.1 and will be removed in 1.3. To keep the past behaviour, explicitly set `max_features=1.0'`.\n",
      "  warnings.warn(\n",
      "C:\\Users\\Gangesh\\anaconda3\\Lib\\site-packages\\sklearn\\tree\\_classes.py:277: FutureWarning: `max_features='auto'` has been deprecated in 1.1 and will be removed in 1.3. To keep the past behaviour, explicitly set `max_features=1.0'`.\n",
      "  warnings.warn(\n",
      "C:\\Users\\Gangesh\\anaconda3\\Lib\\site-packages\\sklearn\\tree\\_classes.py:277: FutureWarning: `max_features='auto'` has been deprecated in 1.1 and will be removed in 1.3. To keep the past behaviour, explicitly set `max_features=1.0'`.\n",
      "  warnings.warn(\n",
      "C:\\Users\\Gangesh\\anaconda3\\Lib\\site-packages\\sklearn\\tree\\_classes.py:277: FutureWarning: `max_features='auto'` has been deprecated in 1.1 and will be removed in 1.3. To keep the past behaviour, explicitly set `max_features=1.0'`.\n",
      "  warnings.warn(\n",
      "C:\\Users\\Gangesh\\anaconda3\\Lib\\site-packages\\sklearn\\tree\\_classes.py:277: FutureWarning: `max_features='auto'` has been deprecated in 1.1 and will be removed in 1.3. To keep the past behaviour, explicitly set `max_features=1.0'`.\n",
      "  warnings.warn(\n",
      "C:\\Users\\Gangesh\\anaconda3\\Lib\\site-packages\\sklearn\\tree\\_classes.py:277: FutureWarning: `max_features='auto'` has been deprecated in 1.1 and will be removed in 1.3. To keep the past behaviour, explicitly set `max_features=1.0'`.\n",
      "  warnings.warn(\n",
      "C:\\Users\\Gangesh\\anaconda3\\Lib\\site-packages\\sklearn\\tree\\_classes.py:277: FutureWarning: `max_features='auto'` has been deprecated in 1.1 and will be removed in 1.3. To keep the past behaviour, explicitly set `max_features=1.0'`.\n",
      "  warnings.warn(\n",
      "C:\\Users\\Gangesh\\anaconda3\\Lib\\site-packages\\sklearn\\tree\\_classes.py:277: FutureWarning: `max_features='auto'` has been deprecated in 1.1 and will be removed in 1.3. To keep the past behaviour, explicitly set `max_features=1.0'`.\n",
      "  warnings.warn(\n",
      "C:\\Users\\Gangesh\\anaconda3\\Lib\\site-packages\\sklearn\\tree\\_classes.py:277: FutureWarning: `max_features='auto'` has been deprecated in 1.1 and will be removed in 1.3. To keep the past behaviour, explicitly set `max_features=1.0'`.\n",
      "  warnings.warn(\n",
      "C:\\Users\\Gangesh\\anaconda3\\Lib\\site-packages\\sklearn\\tree\\_classes.py:277: FutureWarning: `max_features='auto'` has been deprecated in 1.1 and will be removed in 1.3. To keep the past behaviour, explicitly set `max_features=1.0'`.\n",
      "  warnings.warn(\n",
      "C:\\Users\\Gangesh\\anaconda3\\Lib\\site-packages\\sklearn\\tree\\_classes.py:277: FutureWarning: `max_features='auto'` has been deprecated in 1.1 and will be removed in 1.3. To keep the past behaviour, explicitly set `max_features=1.0'`.\n",
      "  warnings.warn(\n",
      "C:\\Users\\Gangesh\\anaconda3\\Lib\\site-packages\\sklearn\\tree\\_classes.py:277: FutureWarning: `max_features='auto'` has been deprecated in 1.1 and will be removed in 1.3. To keep the past behaviour, explicitly set `max_features=1.0'`.\n",
      "  warnings.warn(\n",
      "C:\\Users\\Gangesh\\anaconda3\\Lib\\site-packages\\sklearn\\tree\\_classes.py:277: FutureWarning: `max_features='auto'` has been deprecated in 1.1 and will be removed in 1.3. To keep the past behaviour, explicitly set `max_features=1.0'`.\n",
      "  warnings.warn(\n",
      "C:\\Users\\Gangesh\\anaconda3\\Lib\\site-packages\\sklearn\\tree\\_classes.py:277: FutureWarning: `max_features='auto'` has been deprecated in 1.1 and will be removed in 1.3. To keep the past behaviour, explicitly set `max_features=1.0'`.\n",
      "  warnings.warn(\n",
      "C:\\Users\\Gangesh\\anaconda3\\Lib\\site-packages\\sklearn\\tree\\_classes.py:277: FutureWarning: `max_features='auto'` has been deprecated in 1.1 and will be removed in 1.3. To keep the past behaviour, explicitly set `max_features=1.0'`.\n",
      "  warnings.warn(\n",
      "C:\\Users\\Gangesh\\anaconda3\\Lib\\site-packages\\sklearn\\tree\\_classes.py:277: FutureWarning: `max_features='auto'` has been deprecated in 1.1 and will be removed in 1.3. To keep the past behaviour, explicitly set `max_features=1.0'`.\n",
      "  warnings.warn(\n"
     ]
    },
    {
     "name": "stderr",
     "output_type": "stream",
     "text": [
      "C:\\Users\\Gangesh\\anaconda3\\Lib\\site-packages\\sklearn\\tree\\_classes.py:277: FutureWarning: `max_features='auto'` has been deprecated in 1.1 and will be removed in 1.3. To keep the past behaviour, explicitly set `max_features=1.0'`.\n",
      "  warnings.warn(\n",
      "C:\\Users\\Gangesh\\anaconda3\\Lib\\site-packages\\sklearn\\tree\\_classes.py:277: FutureWarning: `max_features='auto'` has been deprecated in 1.1 and will be removed in 1.3. To keep the past behaviour, explicitly set `max_features=1.0'`.\n",
      "  warnings.warn(\n",
      "C:\\Users\\Gangesh\\anaconda3\\Lib\\site-packages\\sklearn\\tree\\_classes.py:277: FutureWarning: `max_features='auto'` has been deprecated in 1.1 and will be removed in 1.3. To keep the past behaviour, explicitly set `max_features=1.0'`.\n",
      "  warnings.warn(\n",
      "C:\\Users\\Gangesh\\anaconda3\\Lib\\site-packages\\sklearn\\tree\\_classes.py:277: FutureWarning: `max_features='auto'` has been deprecated in 1.1 and will be removed in 1.3. To keep the past behaviour, explicitly set `max_features=1.0'`.\n",
      "  warnings.warn(\n",
      "C:\\Users\\Gangesh\\anaconda3\\Lib\\site-packages\\sklearn\\tree\\_classes.py:277: FutureWarning: `max_features='auto'` has been deprecated in 1.1 and will be removed in 1.3. To keep the past behaviour, explicitly set `max_features=1.0'`.\n",
      "  warnings.warn(\n",
      "C:\\Users\\Gangesh\\anaconda3\\Lib\\site-packages\\sklearn\\tree\\_classes.py:277: FutureWarning: `max_features='auto'` has been deprecated in 1.1 and will be removed in 1.3. To keep the past behaviour, explicitly set `max_features=1.0'`.\n",
      "  warnings.warn(\n",
      "C:\\Users\\Gangesh\\anaconda3\\Lib\\site-packages\\sklearn\\tree\\_classes.py:277: FutureWarning: `max_features='auto'` has been deprecated in 1.1 and will be removed in 1.3. To keep the past behaviour, explicitly set `max_features=1.0'`.\n",
      "  warnings.warn(\n",
      "C:\\Users\\Gangesh\\anaconda3\\Lib\\site-packages\\sklearn\\tree\\_classes.py:277: FutureWarning: `max_features='auto'` has been deprecated in 1.1 and will be removed in 1.3. To keep the past behaviour, explicitly set `max_features=1.0'`.\n",
      "  warnings.warn(\n",
      "C:\\Users\\Gangesh\\anaconda3\\Lib\\site-packages\\sklearn\\tree\\_classes.py:277: FutureWarning: `max_features='auto'` has been deprecated in 1.1 and will be removed in 1.3. To keep the past behaviour, explicitly set `max_features=1.0'`.\n",
      "  warnings.warn(\n",
      "C:\\Users\\Gangesh\\anaconda3\\Lib\\site-packages\\sklearn\\tree\\_classes.py:277: FutureWarning: `max_features='auto'` has been deprecated in 1.1 and will be removed in 1.3. To keep the past behaviour, explicitly set `max_features=1.0'`.\n",
      "  warnings.warn(\n",
      "C:\\Users\\Gangesh\\anaconda3\\Lib\\site-packages\\sklearn\\tree\\_classes.py:277: FutureWarning: `max_features='auto'` has been deprecated in 1.1 and will be removed in 1.3. To keep the past behaviour, explicitly set `max_features=1.0'`.\n",
      "  warnings.warn(\n",
      "C:\\Users\\Gangesh\\anaconda3\\Lib\\site-packages\\sklearn\\tree\\_classes.py:277: FutureWarning: `max_features='auto'` has been deprecated in 1.1 and will be removed in 1.3. To keep the past behaviour, explicitly set `max_features=1.0'`.\n",
      "  warnings.warn(\n",
      "C:\\Users\\Gangesh\\anaconda3\\Lib\\site-packages\\sklearn\\tree\\_classes.py:277: FutureWarning: `max_features='auto'` has been deprecated in 1.1 and will be removed in 1.3. To keep the past behaviour, explicitly set `max_features=1.0'`.\n",
      "  warnings.warn(\n",
      "C:\\Users\\Gangesh\\anaconda3\\Lib\\site-packages\\sklearn\\tree\\_classes.py:277: FutureWarning: `max_features='auto'` has been deprecated in 1.1 and will be removed in 1.3. To keep the past behaviour, explicitly set `max_features=1.0'`.\n",
      "  warnings.warn(\n",
      "C:\\Users\\Gangesh\\anaconda3\\Lib\\site-packages\\sklearn\\tree\\_classes.py:277: FutureWarning: `max_features='auto'` has been deprecated in 1.1 and will be removed in 1.3. To keep the past behaviour, explicitly set `max_features=1.0'`.\n",
      "  warnings.warn(\n",
      "C:\\Users\\Gangesh\\anaconda3\\Lib\\site-packages\\sklearn\\tree\\_classes.py:277: FutureWarning: `max_features='auto'` has been deprecated in 1.1 and will be removed in 1.3. To keep the past behaviour, explicitly set `max_features=1.0'`.\n",
      "  warnings.warn(\n",
      "C:\\Users\\Gangesh\\anaconda3\\Lib\\site-packages\\sklearn\\tree\\_classes.py:277: FutureWarning: `max_features='auto'` has been deprecated in 1.1 and will be removed in 1.3. To keep the past behaviour, explicitly set `max_features=1.0'`.\n",
      "  warnings.warn(\n",
      "C:\\Users\\Gangesh\\anaconda3\\Lib\\site-packages\\sklearn\\tree\\_classes.py:277: FutureWarning: `max_features='auto'` has been deprecated in 1.1 and will be removed in 1.3. To keep the past behaviour, explicitly set `max_features=1.0'`.\n",
      "  warnings.warn(\n",
      "C:\\Users\\Gangesh\\anaconda3\\Lib\\site-packages\\sklearn\\tree\\_classes.py:277: FutureWarning: `max_features='auto'` has been deprecated in 1.1 and will be removed in 1.3. To keep the past behaviour, explicitly set `max_features=1.0'`.\n",
      "  warnings.warn(\n",
      "C:\\Users\\Gangesh\\anaconda3\\Lib\\site-packages\\sklearn\\tree\\_classes.py:277: FutureWarning: `max_features='auto'` has been deprecated in 1.1 and will be removed in 1.3. To keep the past behaviour, explicitly set `max_features=1.0'`.\n",
      "  warnings.warn(\n",
      "C:\\Users\\Gangesh\\anaconda3\\Lib\\site-packages\\sklearn\\tree\\_classes.py:277: FutureWarning: `max_features='auto'` has been deprecated in 1.1 and will be removed in 1.3. To keep the past behaviour, explicitly set `max_features=1.0'`.\n",
      "  warnings.warn(\n",
      "C:\\Users\\Gangesh\\anaconda3\\Lib\\site-packages\\sklearn\\tree\\_classes.py:277: FutureWarning: `max_features='auto'` has been deprecated in 1.1 and will be removed in 1.3. To keep the past behaviour, explicitly set `max_features=1.0'`.\n",
      "  warnings.warn(\n",
      "C:\\Users\\Gangesh\\anaconda3\\Lib\\site-packages\\sklearn\\tree\\_classes.py:277: FutureWarning: `max_features='auto'` has been deprecated in 1.1 and will be removed in 1.3. To keep the past behaviour, explicitly set `max_features=1.0'`.\n",
      "  warnings.warn(\n",
      "C:\\Users\\Gangesh\\anaconda3\\Lib\\site-packages\\sklearn\\tree\\_classes.py:277: FutureWarning: `max_features='auto'` has been deprecated in 1.1 and will be removed in 1.3. To keep the past behaviour, explicitly set `max_features=1.0'`.\n",
      "  warnings.warn(\n",
      "C:\\Users\\Gangesh\\anaconda3\\Lib\\site-packages\\sklearn\\tree\\_classes.py:277: FutureWarning: `max_features='auto'` has been deprecated in 1.1 and will be removed in 1.3. To keep the past behaviour, explicitly set `max_features=1.0'`.\n",
      "  warnings.warn(\n",
      "C:\\Users\\Gangesh\\anaconda3\\Lib\\site-packages\\sklearn\\tree\\_classes.py:277: FutureWarning: `max_features='auto'` has been deprecated in 1.1 and will be removed in 1.3. To keep the past behaviour, explicitly set `max_features=1.0'`.\n",
      "  warnings.warn(\n",
      "C:\\Users\\Gangesh\\anaconda3\\Lib\\site-packages\\sklearn\\tree\\_classes.py:277: FutureWarning: `max_features='auto'` has been deprecated in 1.1 and will be removed in 1.3. To keep the past behaviour, explicitly set `max_features=1.0'`.\n",
      "  warnings.warn(\n",
      "C:\\Users\\Gangesh\\anaconda3\\Lib\\site-packages\\sklearn\\tree\\_classes.py:277: FutureWarning: `max_features='auto'` has been deprecated in 1.1 and will be removed in 1.3. To keep the past behaviour, explicitly set `max_features=1.0'`.\n",
      "  warnings.warn(\n",
      "C:\\Users\\Gangesh\\anaconda3\\Lib\\site-packages\\sklearn\\tree\\_classes.py:277: FutureWarning: `max_features='auto'` has been deprecated in 1.1 and will be removed in 1.3. To keep the past behaviour, explicitly set `max_features=1.0'`.\n",
      "  warnings.warn(\n",
      "C:\\Users\\Gangesh\\anaconda3\\Lib\\site-packages\\sklearn\\tree\\_classes.py:277: FutureWarning: `max_features='auto'` has been deprecated in 1.1 and will be removed in 1.3. To keep the past behaviour, explicitly set `max_features=1.0'`.\n",
      "  warnings.warn(\n",
      "C:\\Users\\Gangesh\\anaconda3\\Lib\\site-packages\\sklearn\\tree\\_classes.py:277: FutureWarning: `max_features='auto'` has been deprecated in 1.1 and will be removed in 1.3. To keep the past behaviour, explicitly set `max_features=1.0'`.\n",
      "  warnings.warn(\n",
      "C:\\Users\\Gangesh\\anaconda3\\Lib\\site-packages\\sklearn\\tree\\_classes.py:277: FutureWarning: `max_features='auto'` has been deprecated in 1.1 and will be removed in 1.3. To keep the past behaviour, explicitly set `max_features=1.0'`.\n",
      "  warnings.warn(\n",
      "C:\\Users\\Gangesh\\anaconda3\\Lib\\site-packages\\sklearn\\tree\\_classes.py:277: FutureWarning: `max_features='auto'` has been deprecated in 1.1 and will be removed in 1.3. To keep the past behaviour, explicitly set `max_features=1.0'`.\n",
      "  warnings.warn(\n",
      "C:\\Users\\Gangesh\\anaconda3\\Lib\\site-packages\\sklearn\\tree\\_classes.py:277: FutureWarning: `max_features='auto'` has been deprecated in 1.1 and will be removed in 1.3. To keep the past behaviour, explicitly set `max_features=1.0'`.\n",
      "  warnings.warn(\n",
      "C:\\Users\\Gangesh\\anaconda3\\Lib\\site-packages\\sklearn\\tree\\_classes.py:277: FutureWarning: `max_features='auto'` has been deprecated in 1.1 and will be removed in 1.3. To keep the past behaviour, explicitly set `max_features=1.0'`.\n",
      "  warnings.warn(\n",
      "C:\\Users\\Gangesh\\anaconda3\\Lib\\site-packages\\sklearn\\tree\\_classes.py:277: FutureWarning: `max_features='auto'` has been deprecated in 1.1 and will be removed in 1.3. To keep the past behaviour, explicitly set `max_features=1.0'`.\n",
      "  warnings.warn(\n",
      "C:\\Users\\Gangesh\\anaconda3\\Lib\\site-packages\\sklearn\\tree\\_classes.py:277: FutureWarning: `max_features='auto'` has been deprecated in 1.1 and will be removed in 1.3. To keep the past behaviour, explicitly set `max_features=1.0'`.\n",
      "  warnings.warn(\n",
      "C:\\Users\\Gangesh\\anaconda3\\Lib\\site-packages\\sklearn\\tree\\_classes.py:277: FutureWarning: `max_features='auto'` has been deprecated in 1.1 and will be removed in 1.3. To keep the past behaviour, explicitly set `max_features=1.0'`.\n",
      "  warnings.warn(\n",
      "C:\\Users\\Gangesh\\anaconda3\\Lib\\site-packages\\sklearn\\tree\\_classes.py:277: FutureWarning: `max_features='auto'` has been deprecated in 1.1 and will be removed in 1.3. To keep the past behaviour, explicitly set `max_features=1.0'`.\n",
      "  warnings.warn(\n",
      "C:\\Users\\Gangesh\\anaconda3\\Lib\\site-packages\\sklearn\\tree\\_classes.py:277: FutureWarning: `max_features='auto'` has been deprecated in 1.1 and will be removed in 1.3. To keep the past behaviour, explicitly set `max_features=1.0'`.\n",
      "  warnings.warn(\n",
      "C:\\Users\\Gangesh\\anaconda3\\Lib\\site-packages\\sklearn\\tree\\_classes.py:277: FutureWarning: `max_features='auto'` has been deprecated in 1.1 and will be removed in 1.3. To keep the past behaviour, explicitly set `max_features=1.0'`.\n",
      "  warnings.warn(\n",
      "C:\\Users\\Gangesh\\anaconda3\\Lib\\site-packages\\sklearn\\tree\\_classes.py:277: FutureWarning: `max_features='auto'` has been deprecated in 1.1 and will be removed in 1.3. To keep the past behaviour, explicitly set `max_features=1.0'`.\n",
      "  warnings.warn(\n",
      "C:\\Users\\Gangesh\\anaconda3\\Lib\\site-packages\\sklearn\\tree\\_classes.py:277: FutureWarning: `max_features='auto'` has been deprecated in 1.1 and will be removed in 1.3. To keep the past behaviour, explicitly set `max_features=1.0'`.\n",
      "  warnings.warn(\n",
      "C:\\Users\\Gangesh\\anaconda3\\Lib\\site-packages\\sklearn\\tree\\_classes.py:277: FutureWarning: `max_features='auto'` has been deprecated in 1.1 and will be removed in 1.3. To keep the past behaviour, explicitly set `max_features=1.0'`.\n",
      "  warnings.warn(\n",
      "C:\\Users\\Gangesh\\anaconda3\\Lib\\site-packages\\sklearn\\tree\\_classes.py:277: FutureWarning: `max_features='auto'` has been deprecated in 1.1 and will be removed in 1.3. To keep the past behaviour, explicitly set `max_features=1.0'`.\n",
      "  warnings.warn(\n",
      "C:\\Users\\Gangesh\\anaconda3\\Lib\\site-packages\\sklearn\\tree\\_classes.py:277: FutureWarning: `max_features='auto'` has been deprecated in 1.1 and will be removed in 1.3. To keep the past behaviour, explicitly set `max_features=1.0'`.\n",
      "  warnings.warn(\n"
     ]
    },
    {
     "name": "stderr",
     "output_type": "stream",
     "text": [
      "C:\\Users\\Gangesh\\anaconda3\\Lib\\site-packages\\sklearn\\tree\\_classes.py:277: FutureWarning: `max_features='auto'` has been deprecated in 1.1 and will be removed in 1.3. To keep the past behaviour, explicitly set `max_features=1.0'`.\n",
      "  warnings.warn(\n",
      "C:\\Users\\Gangesh\\anaconda3\\Lib\\site-packages\\sklearn\\tree\\_classes.py:277: FutureWarning: `max_features='auto'` has been deprecated in 1.1 and will be removed in 1.3. To keep the past behaviour, explicitly set `max_features=1.0'`.\n",
      "  warnings.warn(\n",
      "C:\\Users\\Gangesh\\anaconda3\\Lib\\site-packages\\sklearn\\tree\\_classes.py:277: FutureWarning: `max_features='auto'` has been deprecated in 1.1 and will be removed in 1.3. To keep the past behaviour, explicitly set `max_features=1.0'`.\n",
      "  warnings.warn(\n",
      "C:\\Users\\Gangesh\\anaconda3\\Lib\\site-packages\\sklearn\\tree\\_classes.py:277: FutureWarning: `max_features='auto'` has been deprecated in 1.1 and will be removed in 1.3. To keep the past behaviour, explicitly set `max_features=1.0'`.\n",
      "  warnings.warn(\n",
      "C:\\Users\\Gangesh\\anaconda3\\Lib\\site-packages\\sklearn\\tree\\_classes.py:277: FutureWarning: `max_features='auto'` has been deprecated in 1.1 and will be removed in 1.3. To keep the past behaviour, explicitly set `max_features=1.0'`.\n",
      "  warnings.warn(\n",
      "C:\\Users\\Gangesh\\anaconda3\\Lib\\site-packages\\sklearn\\tree\\_classes.py:277: FutureWarning: `max_features='auto'` has been deprecated in 1.1 and will be removed in 1.3. To keep the past behaviour, explicitly set `max_features=1.0'`.\n",
      "  warnings.warn(\n",
      "C:\\Users\\Gangesh\\anaconda3\\Lib\\site-packages\\sklearn\\tree\\_classes.py:277: FutureWarning: `max_features='auto'` has been deprecated in 1.1 and will be removed in 1.3. To keep the past behaviour, explicitly set `max_features=1.0'`.\n",
      "  warnings.warn(\n",
      "C:\\Users\\Gangesh\\anaconda3\\Lib\\site-packages\\sklearn\\tree\\_classes.py:277: FutureWarning: `max_features='auto'` has been deprecated in 1.1 and will be removed in 1.3. To keep the past behaviour, explicitly set `max_features=1.0'`.\n",
      "  warnings.warn(\n",
      "C:\\Users\\Gangesh\\anaconda3\\Lib\\site-packages\\sklearn\\tree\\_classes.py:277: FutureWarning: `max_features='auto'` has been deprecated in 1.1 and will be removed in 1.3. To keep the past behaviour, explicitly set `max_features=1.0'`.\n",
      "  warnings.warn(\n",
      "C:\\Users\\Gangesh\\anaconda3\\Lib\\site-packages\\sklearn\\tree\\_classes.py:277: FutureWarning: `max_features='auto'` has been deprecated in 1.1 and will be removed in 1.3. To keep the past behaviour, explicitly set `max_features=1.0'`.\n",
      "  warnings.warn(\n",
      "C:\\Users\\Gangesh\\anaconda3\\Lib\\site-packages\\sklearn\\tree\\_classes.py:277: FutureWarning: `max_features='auto'` has been deprecated in 1.1 and will be removed in 1.3. To keep the past behaviour, explicitly set `max_features=1.0'`.\n",
      "  warnings.warn(\n",
      "C:\\Users\\Gangesh\\anaconda3\\Lib\\site-packages\\sklearn\\tree\\_classes.py:277: FutureWarning: `max_features='auto'` has been deprecated in 1.1 and will be removed in 1.3. To keep the past behaviour, explicitly set `max_features=1.0'`.\n",
      "  warnings.warn(\n",
      "C:\\Users\\Gangesh\\anaconda3\\Lib\\site-packages\\sklearn\\tree\\_classes.py:277: FutureWarning: `max_features='auto'` has been deprecated in 1.1 and will be removed in 1.3. To keep the past behaviour, explicitly set `max_features=1.0'`.\n",
      "  warnings.warn(\n",
      "C:\\Users\\Gangesh\\anaconda3\\Lib\\site-packages\\sklearn\\tree\\_classes.py:277: FutureWarning: `max_features='auto'` has been deprecated in 1.1 and will be removed in 1.3. To keep the past behaviour, explicitly set `max_features=1.0'`.\n",
      "  warnings.warn(\n",
      "C:\\Users\\Gangesh\\anaconda3\\Lib\\site-packages\\sklearn\\tree\\_classes.py:277: FutureWarning: `max_features='auto'` has been deprecated in 1.1 and will be removed in 1.3. To keep the past behaviour, explicitly set `max_features=1.0'`.\n",
      "  warnings.warn(\n",
      "C:\\Users\\Gangesh\\anaconda3\\Lib\\site-packages\\sklearn\\tree\\_classes.py:277: FutureWarning: `max_features='auto'` has been deprecated in 1.1 and will be removed in 1.3. To keep the past behaviour, explicitly set `max_features=1.0'`.\n",
      "  warnings.warn(\n",
      "C:\\Users\\Gangesh\\anaconda3\\Lib\\site-packages\\sklearn\\tree\\_classes.py:277: FutureWarning: `max_features='auto'` has been deprecated in 1.1 and will be removed in 1.3. To keep the past behaviour, explicitly set `max_features=1.0'`.\n",
      "  warnings.warn(\n",
      "C:\\Users\\Gangesh\\anaconda3\\Lib\\site-packages\\sklearn\\tree\\_classes.py:277: FutureWarning: `max_features='auto'` has been deprecated in 1.1 and will be removed in 1.3. To keep the past behaviour, explicitly set `max_features=1.0'`.\n",
      "  warnings.warn(\n",
      "C:\\Users\\Gangesh\\anaconda3\\Lib\\site-packages\\sklearn\\tree\\_classes.py:277: FutureWarning: `max_features='auto'` has been deprecated in 1.1 and will be removed in 1.3. To keep the past behaviour, explicitly set `max_features=1.0'`.\n",
      "  warnings.warn(\n",
      "C:\\Users\\Gangesh\\anaconda3\\Lib\\site-packages\\sklearn\\tree\\_classes.py:277: FutureWarning: `max_features='auto'` has been deprecated in 1.1 and will be removed in 1.3. To keep the past behaviour, explicitly set `max_features=1.0'`.\n",
      "  warnings.warn(\n",
      "C:\\Users\\Gangesh\\anaconda3\\Lib\\site-packages\\sklearn\\tree\\_classes.py:277: FutureWarning: `max_features='auto'` has been deprecated in 1.1 and will be removed in 1.3. To keep the past behaviour, explicitly set `max_features=1.0'`.\n",
      "  warnings.warn(\n",
      "C:\\Users\\Gangesh\\anaconda3\\Lib\\site-packages\\sklearn\\tree\\_classes.py:277: FutureWarning: `max_features='auto'` has been deprecated in 1.1 and will be removed in 1.3. To keep the past behaviour, explicitly set `max_features=1.0'`.\n",
      "  warnings.warn(\n",
      "C:\\Users\\Gangesh\\anaconda3\\Lib\\site-packages\\sklearn\\tree\\_classes.py:277: FutureWarning: `max_features='auto'` has been deprecated in 1.1 and will be removed in 1.3. To keep the past behaviour, explicitly set `max_features=1.0'`.\n",
      "  warnings.warn(\n",
      "C:\\Users\\Gangesh\\anaconda3\\Lib\\site-packages\\sklearn\\tree\\_classes.py:277: FutureWarning: `max_features='auto'` has been deprecated in 1.1 and will be removed in 1.3. To keep the past behaviour, explicitly set `max_features=1.0'`.\n",
      "  warnings.warn(\n",
      "C:\\Users\\Gangesh\\anaconda3\\Lib\\site-packages\\sklearn\\tree\\_classes.py:277: FutureWarning: `max_features='auto'` has been deprecated in 1.1 and will be removed in 1.3. To keep the past behaviour, explicitly set `max_features=1.0'`.\n",
      "  warnings.warn(\n",
      "C:\\Users\\Gangesh\\anaconda3\\Lib\\site-packages\\sklearn\\tree\\_classes.py:277: FutureWarning: `max_features='auto'` has been deprecated in 1.1 and will be removed in 1.3. To keep the past behaviour, explicitly set `max_features=1.0'`.\n",
      "  warnings.warn(\n",
      "C:\\Users\\Gangesh\\anaconda3\\Lib\\site-packages\\sklearn\\tree\\_classes.py:277: FutureWarning: `max_features='auto'` has been deprecated in 1.1 and will be removed in 1.3. To keep the past behaviour, explicitly set `max_features=1.0'`.\n",
      "  warnings.warn(\n",
      "C:\\Users\\Gangesh\\anaconda3\\Lib\\site-packages\\sklearn\\tree\\_classes.py:277: FutureWarning: `max_features='auto'` has been deprecated in 1.1 and will be removed in 1.3. To keep the past behaviour, explicitly set `max_features=1.0'`.\n",
      "  warnings.warn(\n",
      "C:\\Users\\Gangesh\\anaconda3\\Lib\\site-packages\\sklearn\\tree\\_classes.py:277: FutureWarning: `max_features='auto'` has been deprecated in 1.1 and will be removed in 1.3. To keep the past behaviour, explicitly set `max_features=1.0'`.\n",
      "  warnings.warn(\n",
      "C:\\Users\\Gangesh\\anaconda3\\Lib\\site-packages\\sklearn\\tree\\_classes.py:277: FutureWarning: `max_features='auto'` has been deprecated in 1.1 and will be removed in 1.3. To keep the past behaviour, explicitly set `max_features=1.0'`.\n",
      "  warnings.warn(\n",
      "C:\\Users\\Gangesh\\anaconda3\\Lib\\site-packages\\sklearn\\tree\\_classes.py:277: FutureWarning: `max_features='auto'` has been deprecated in 1.1 and will be removed in 1.3. To keep the past behaviour, explicitly set `max_features=1.0'`.\n",
      "  warnings.warn(\n",
      "C:\\Users\\Gangesh\\anaconda3\\Lib\\site-packages\\sklearn\\tree\\_classes.py:277: FutureWarning: `max_features='auto'` has been deprecated in 1.1 and will be removed in 1.3. To keep the past behaviour, explicitly set `max_features=1.0'`.\n",
      "  warnings.warn(\n",
      "C:\\Users\\Gangesh\\anaconda3\\Lib\\site-packages\\sklearn\\tree\\_classes.py:277: FutureWarning: `max_features='auto'` has been deprecated in 1.1 and will be removed in 1.3. To keep the past behaviour, explicitly set `max_features=1.0'`.\n",
      "  warnings.warn(\n",
      "C:\\Users\\Gangesh\\anaconda3\\Lib\\site-packages\\sklearn\\tree\\_classes.py:277: FutureWarning: `max_features='auto'` has been deprecated in 1.1 and will be removed in 1.3. To keep the past behaviour, explicitly set `max_features=1.0'`.\n",
      "  warnings.warn(\n",
      "C:\\Users\\Gangesh\\anaconda3\\Lib\\site-packages\\sklearn\\tree\\_classes.py:277: FutureWarning: `max_features='auto'` has been deprecated in 1.1 and will be removed in 1.3. To keep the past behaviour, explicitly set `max_features=1.0'`.\n",
      "  warnings.warn(\n",
      "C:\\Users\\Gangesh\\anaconda3\\Lib\\site-packages\\sklearn\\tree\\_classes.py:277: FutureWarning: `max_features='auto'` has been deprecated in 1.1 and will be removed in 1.3. To keep the past behaviour, explicitly set `max_features=1.0'`.\n",
      "  warnings.warn(\n",
      "C:\\Users\\Gangesh\\anaconda3\\Lib\\site-packages\\sklearn\\tree\\_classes.py:277: FutureWarning: `max_features='auto'` has been deprecated in 1.1 and will be removed in 1.3. To keep the past behaviour, explicitly set `max_features=1.0'`.\n",
      "  warnings.warn(\n",
      "C:\\Users\\Gangesh\\anaconda3\\Lib\\site-packages\\sklearn\\tree\\_classes.py:277: FutureWarning: `max_features='auto'` has been deprecated in 1.1 and will be removed in 1.3. To keep the past behaviour, explicitly set `max_features=1.0'`.\n",
      "  warnings.warn(\n",
      "C:\\Users\\Gangesh\\anaconda3\\Lib\\site-packages\\sklearn\\tree\\_classes.py:277: FutureWarning: `max_features='auto'` has been deprecated in 1.1 and will be removed in 1.3. To keep the past behaviour, explicitly set `max_features=1.0'`.\n",
      "  warnings.warn(\n",
      "C:\\Users\\Gangesh\\anaconda3\\Lib\\site-packages\\sklearn\\tree\\_classes.py:277: FutureWarning: `max_features='auto'` has been deprecated in 1.1 and will be removed in 1.3. To keep the past behaviour, explicitly set `max_features=1.0'`.\n",
      "  warnings.warn(\n",
      "C:\\Users\\Gangesh\\anaconda3\\Lib\\site-packages\\sklearn\\tree\\_classes.py:277: FutureWarning: `max_features='auto'` has been deprecated in 1.1 and will be removed in 1.3. To keep the past behaviour, explicitly set `max_features=1.0'`.\n",
      "  warnings.warn(\n",
      "C:\\Users\\Gangesh\\anaconda3\\Lib\\site-packages\\sklearn\\tree\\_classes.py:277: FutureWarning: `max_features='auto'` has been deprecated in 1.1 and will be removed in 1.3. To keep the past behaviour, explicitly set `max_features=1.0'`.\n",
      "  warnings.warn(\n",
      "C:\\Users\\Gangesh\\anaconda3\\Lib\\site-packages\\sklearn\\tree\\_classes.py:277: FutureWarning: `max_features='auto'` has been deprecated in 1.1 and will be removed in 1.3. To keep the past behaviour, explicitly set `max_features=1.0'`.\n",
      "  warnings.warn(\n"
     ]
    },
    {
     "name": "stderr",
     "output_type": "stream",
     "text": [
      "C:\\Users\\Gangesh\\anaconda3\\Lib\\site-packages\\sklearn\\tree\\_classes.py:277: FutureWarning: `max_features='auto'` has been deprecated in 1.1 and will be removed in 1.3. To keep the past behaviour, explicitly set `max_features=1.0'`.\n",
      "  warnings.warn(\n",
      "C:\\Users\\Gangesh\\anaconda3\\Lib\\site-packages\\sklearn\\tree\\_classes.py:277: FutureWarning: `max_features='auto'` has been deprecated in 1.1 and will be removed in 1.3. To keep the past behaviour, explicitly set `max_features=1.0'`.\n",
      "  warnings.warn(\n",
      "C:\\Users\\Gangesh\\anaconda3\\Lib\\site-packages\\sklearn\\tree\\_classes.py:277: FutureWarning: `max_features='auto'` has been deprecated in 1.1 and will be removed in 1.3. To keep the past behaviour, explicitly set `max_features=1.0'`.\n",
      "  warnings.warn(\n",
      "C:\\Users\\Gangesh\\anaconda3\\Lib\\site-packages\\sklearn\\tree\\_classes.py:277: FutureWarning: `max_features='auto'` has been deprecated in 1.1 and will be removed in 1.3. To keep the past behaviour, explicitly set `max_features=1.0'`.\n",
      "  warnings.warn(\n",
      "C:\\Users\\Gangesh\\anaconda3\\Lib\\site-packages\\sklearn\\tree\\_classes.py:277: FutureWarning: `max_features='auto'` has been deprecated in 1.1 and will be removed in 1.3. To keep the past behaviour, explicitly set `max_features=1.0'`.\n",
      "  warnings.warn(\n",
      "C:\\Users\\Gangesh\\anaconda3\\Lib\\site-packages\\sklearn\\tree\\_classes.py:277: FutureWarning: `max_features='auto'` has been deprecated in 1.1 and will be removed in 1.3. To keep the past behaviour, explicitly set `max_features=1.0'`.\n",
      "  warnings.warn(\n",
      "C:\\Users\\Gangesh\\anaconda3\\Lib\\site-packages\\sklearn\\tree\\_classes.py:277: FutureWarning: `max_features='auto'` has been deprecated in 1.1 and will be removed in 1.3. To keep the past behaviour, explicitly set `max_features=1.0'`.\n",
      "  warnings.warn(\n",
      "C:\\Users\\Gangesh\\anaconda3\\Lib\\site-packages\\sklearn\\tree\\_classes.py:277: FutureWarning: `max_features='auto'` has been deprecated in 1.1 and will be removed in 1.3. To keep the past behaviour, explicitly set `max_features=1.0'`.\n",
      "  warnings.warn(\n",
      "C:\\Users\\Gangesh\\anaconda3\\Lib\\site-packages\\sklearn\\tree\\_classes.py:277: FutureWarning: `max_features='auto'` has been deprecated in 1.1 and will be removed in 1.3. To keep the past behaviour, explicitly set `max_features=1.0'`.\n",
      "  warnings.warn(\n",
      "C:\\Users\\Gangesh\\anaconda3\\Lib\\site-packages\\sklearn\\tree\\_classes.py:277: FutureWarning: `max_features='auto'` has been deprecated in 1.1 and will be removed in 1.3. To keep the past behaviour, explicitly set `max_features=1.0'`.\n",
      "  warnings.warn(\n",
      "C:\\Users\\Gangesh\\anaconda3\\Lib\\site-packages\\sklearn\\tree\\_classes.py:277: FutureWarning: `max_features='auto'` has been deprecated in 1.1 and will be removed in 1.3. To keep the past behaviour, explicitly set `max_features=1.0'`.\n",
      "  warnings.warn(\n",
      "C:\\Users\\Gangesh\\anaconda3\\Lib\\site-packages\\sklearn\\tree\\_classes.py:277: FutureWarning: `max_features='auto'` has been deprecated in 1.1 and will be removed in 1.3. To keep the past behaviour, explicitly set `max_features=1.0'`.\n",
      "  warnings.warn(\n",
      "C:\\Users\\Gangesh\\anaconda3\\Lib\\site-packages\\sklearn\\tree\\_classes.py:277: FutureWarning: `max_features='auto'` has been deprecated in 1.1 and will be removed in 1.3. To keep the past behaviour, explicitly set `max_features=1.0'`.\n",
      "  warnings.warn(\n",
      "C:\\Users\\Gangesh\\anaconda3\\Lib\\site-packages\\sklearn\\tree\\_classes.py:277: FutureWarning: `max_features='auto'` has been deprecated in 1.1 and will be removed in 1.3. To keep the past behaviour, explicitly set `max_features=1.0'`.\n",
      "  warnings.warn(\n",
      "C:\\Users\\Gangesh\\anaconda3\\Lib\\site-packages\\sklearn\\tree\\_classes.py:277: FutureWarning: `max_features='auto'` has been deprecated in 1.1 and will be removed in 1.3. To keep the past behaviour, explicitly set `max_features=1.0'`.\n",
      "  warnings.warn(\n",
      "C:\\Users\\Gangesh\\anaconda3\\Lib\\site-packages\\sklearn\\tree\\_classes.py:277: FutureWarning: `max_features='auto'` has been deprecated in 1.1 and will be removed in 1.3. To keep the past behaviour, explicitly set `max_features=1.0'`.\n",
      "  warnings.warn(\n",
      "C:\\Users\\Gangesh\\anaconda3\\Lib\\site-packages\\sklearn\\tree\\_classes.py:277: FutureWarning: `max_features='auto'` has been deprecated in 1.1 and will be removed in 1.3. To keep the past behaviour, explicitly set `max_features=1.0'`.\n",
      "  warnings.warn(\n",
      "C:\\Users\\Gangesh\\anaconda3\\Lib\\site-packages\\sklearn\\tree\\_classes.py:277: FutureWarning: `max_features='auto'` has been deprecated in 1.1 and will be removed in 1.3. To keep the past behaviour, explicitly set `max_features=1.0'`.\n",
      "  warnings.warn(\n",
      "C:\\Users\\Gangesh\\anaconda3\\Lib\\site-packages\\sklearn\\tree\\_classes.py:277: FutureWarning: `max_features='auto'` has been deprecated in 1.1 and will be removed in 1.3. To keep the past behaviour, explicitly set `max_features=1.0'`.\n",
      "  warnings.warn(\n",
      "C:\\Users\\Gangesh\\anaconda3\\Lib\\site-packages\\sklearn\\tree\\_classes.py:277: FutureWarning: `max_features='auto'` has been deprecated in 1.1 and will be removed in 1.3. To keep the past behaviour, explicitly set `max_features=1.0'`.\n",
      "  warnings.warn(\n",
      "C:\\Users\\Gangesh\\anaconda3\\Lib\\site-packages\\sklearn\\tree\\_classes.py:277: FutureWarning: `max_features='auto'` has been deprecated in 1.1 and will be removed in 1.3. To keep the past behaviour, explicitly set `max_features=1.0'`.\n",
      "  warnings.warn(\n",
      "C:\\Users\\Gangesh\\anaconda3\\Lib\\site-packages\\sklearn\\tree\\_classes.py:277: FutureWarning: `max_features='auto'` has been deprecated in 1.1 and will be removed in 1.3. To keep the past behaviour, explicitly set `max_features=1.0'`.\n",
      "  warnings.warn(\n",
      "C:\\Users\\Gangesh\\anaconda3\\Lib\\site-packages\\sklearn\\tree\\_classes.py:277: FutureWarning: `max_features='auto'` has been deprecated in 1.1 and will be removed in 1.3. To keep the past behaviour, explicitly set `max_features=1.0'`.\n",
      "  warnings.warn(\n",
      "C:\\Users\\Gangesh\\anaconda3\\Lib\\site-packages\\sklearn\\tree\\_classes.py:277: FutureWarning: `max_features='auto'` has been deprecated in 1.1 and will be removed in 1.3. To keep the past behaviour, explicitly set `max_features=1.0'`.\n",
      "  warnings.warn(\n",
      "C:\\Users\\Gangesh\\anaconda3\\Lib\\site-packages\\sklearn\\tree\\_classes.py:277: FutureWarning: `max_features='auto'` has been deprecated in 1.1 and will be removed in 1.3. To keep the past behaviour, explicitly set `max_features=1.0'`.\n",
      "  warnings.warn(\n",
      "C:\\Users\\Gangesh\\anaconda3\\Lib\\site-packages\\sklearn\\tree\\_classes.py:277: FutureWarning: `max_features='auto'` has been deprecated in 1.1 and will be removed in 1.3. To keep the past behaviour, explicitly set `max_features=1.0'`.\n",
      "  warnings.warn(\n",
      "C:\\Users\\Gangesh\\anaconda3\\Lib\\site-packages\\sklearn\\tree\\_classes.py:277: FutureWarning: `max_features='auto'` has been deprecated in 1.1 and will be removed in 1.3. To keep the past behaviour, explicitly set `max_features=1.0'`.\n",
      "  warnings.warn(\n",
      "C:\\Users\\Gangesh\\anaconda3\\Lib\\site-packages\\sklearn\\tree\\_classes.py:277: FutureWarning: `max_features='auto'` has been deprecated in 1.1 and will be removed in 1.3. To keep the past behaviour, explicitly set `max_features=1.0'`.\n",
      "  warnings.warn(\n",
      "C:\\Users\\Gangesh\\anaconda3\\Lib\\site-packages\\sklearn\\tree\\_classes.py:277: FutureWarning: `max_features='auto'` has been deprecated in 1.1 and will be removed in 1.3. To keep the past behaviour, explicitly set `max_features=1.0'`.\n",
      "  warnings.warn(\n",
      "C:\\Users\\Gangesh\\anaconda3\\Lib\\site-packages\\sklearn\\tree\\_classes.py:277: FutureWarning: `max_features='auto'` has been deprecated in 1.1 and will be removed in 1.3. To keep the past behaviour, explicitly set `max_features=1.0'`.\n",
      "  warnings.warn(\n",
      "C:\\Users\\Gangesh\\anaconda3\\Lib\\site-packages\\sklearn\\tree\\_classes.py:277: FutureWarning: `max_features='auto'` has been deprecated in 1.1 and will be removed in 1.3. To keep the past behaviour, explicitly set `max_features=1.0'`.\n",
      "  warnings.warn(\n",
      "C:\\Users\\Gangesh\\anaconda3\\Lib\\site-packages\\sklearn\\tree\\_classes.py:277: FutureWarning: `max_features='auto'` has been deprecated in 1.1 and will be removed in 1.3. To keep the past behaviour, explicitly set `max_features=1.0'`.\n",
      "  warnings.warn(\n",
      "C:\\Users\\Gangesh\\anaconda3\\Lib\\site-packages\\sklearn\\tree\\_classes.py:277: FutureWarning: `max_features='auto'` has been deprecated in 1.1 and will be removed in 1.3. To keep the past behaviour, explicitly set `max_features=1.0'`.\n",
      "  warnings.warn(\n",
      "C:\\Users\\Gangesh\\anaconda3\\Lib\\site-packages\\sklearn\\tree\\_classes.py:277: FutureWarning: `max_features='auto'` has been deprecated in 1.1 and will be removed in 1.3. To keep the past behaviour, explicitly set `max_features=1.0'`.\n",
      "  warnings.warn(\n",
      "C:\\Users\\Gangesh\\anaconda3\\Lib\\site-packages\\sklearn\\tree\\_classes.py:277: FutureWarning: `max_features='auto'` has been deprecated in 1.1 and will be removed in 1.3. To keep the past behaviour, explicitly set `max_features=1.0'`.\n",
      "  warnings.warn(\n",
      "C:\\Users\\Gangesh\\anaconda3\\Lib\\site-packages\\sklearn\\tree\\_classes.py:277: FutureWarning: `max_features='auto'` has been deprecated in 1.1 and will be removed in 1.3. To keep the past behaviour, explicitly set `max_features=1.0'`.\n",
      "  warnings.warn(\n",
      "C:\\Users\\Gangesh\\anaconda3\\Lib\\site-packages\\sklearn\\tree\\_classes.py:277: FutureWarning: `max_features='auto'` has been deprecated in 1.1 and will be removed in 1.3. To keep the past behaviour, explicitly set `max_features=1.0'`.\n",
      "  warnings.warn(\n"
     ]
    },
    {
     "name": "stderr",
     "output_type": "stream",
     "text": [
      "C:\\Users\\Gangesh\\anaconda3\\Lib\\site-packages\\sklearn\\tree\\_classes.py:277: FutureWarning: `max_features='auto'` has been deprecated in 1.1 and will be removed in 1.3. To keep the past behaviour, explicitly set `max_features=1.0'`.\n",
      "  warnings.warn(\n",
      "C:\\Users\\Gangesh\\anaconda3\\Lib\\site-packages\\sklearn\\tree\\_classes.py:277: FutureWarning: `max_features='auto'` has been deprecated in 1.1 and will be removed in 1.3. To keep the past behaviour, explicitly set `max_features=1.0'`.\n",
      "  warnings.warn(\n",
      "C:\\Users\\Gangesh\\anaconda3\\Lib\\site-packages\\sklearn\\tree\\_classes.py:277: FutureWarning: `max_features='auto'` has been deprecated in 1.1 and will be removed in 1.3. To keep the past behaviour, explicitly set `max_features=1.0'`.\n",
      "  warnings.warn(\n",
      "C:\\Users\\Gangesh\\anaconda3\\Lib\\site-packages\\sklearn\\tree\\_classes.py:277: FutureWarning: `max_features='auto'` has been deprecated in 1.1 and will be removed in 1.3. To keep the past behaviour, explicitly set `max_features=1.0'`.\n",
      "  warnings.warn(\n",
      "C:\\Users\\Gangesh\\anaconda3\\Lib\\site-packages\\sklearn\\tree\\_classes.py:277: FutureWarning: `max_features='auto'` has been deprecated in 1.1 and will be removed in 1.3. To keep the past behaviour, explicitly set `max_features=1.0'`.\n",
      "  warnings.warn(\n",
      "C:\\Users\\Gangesh\\anaconda3\\Lib\\site-packages\\sklearn\\tree\\_classes.py:277: FutureWarning: `max_features='auto'` has been deprecated in 1.1 and will be removed in 1.3. To keep the past behaviour, explicitly set `max_features=1.0'`.\n",
      "  warnings.warn(\n",
      "C:\\Users\\Gangesh\\anaconda3\\Lib\\site-packages\\sklearn\\tree\\_classes.py:277: FutureWarning: `max_features='auto'` has been deprecated in 1.1 and will be removed in 1.3. To keep the past behaviour, explicitly set `max_features=1.0'`.\n",
      "  warnings.warn(\n",
      "C:\\Users\\Gangesh\\anaconda3\\Lib\\site-packages\\sklearn\\tree\\_classes.py:277: FutureWarning: `max_features='auto'` has been deprecated in 1.1 and will be removed in 1.3. To keep the past behaviour, explicitly set `max_features=1.0'`.\n",
      "  warnings.warn(\n",
      "C:\\Users\\Gangesh\\anaconda3\\Lib\\site-packages\\sklearn\\tree\\_classes.py:277: FutureWarning: `max_features='auto'` has been deprecated in 1.1 and will be removed in 1.3. To keep the past behaviour, explicitly set `max_features=1.0'`.\n",
      "  warnings.warn(\n",
      "C:\\Users\\Gangesh\\anaconda3\\Lib\\site-packages\\sklearn\\tree\\_classes.py:277: FutureWarning: `max_features='auto'` has been deprecated in 1.1 and will be removed in 1.3. To keep the past behaviour, explicitly set `max_features=1.0'`.\n",
      "  warnings.warn(\n",
      "C:\\Users\\Gangesh\\anaconda3\\Lib\\site-packages\\sklearn\\tree\\_classes.py:277: FutureWarning: `max_features='auto'` has been deprecated in 1.1 and will be removed in 1.3. To keep the past behaviour, explicitly set `max_features=1.0'`.\n",
      "  warnings.warn(\n",
      "C:\\Users\\Gangesh\\anaconda3\\Lib\\site-packages\\sklearn\\tree\\_classes.py:277: FutureWarning: `max_features='auto'` has been deprecated in 1.1 and will be removed in 1.3. To keep the past behaviour, explicitly set `max_features=1.0'`.\n",
      "  warnings.warn(\n",
      "C:\\Users\\Gangesh\\anaconda3\\Lib\\site-packages\\sklearn\\tree\\_classes.py:277: FutureWarning: `max_features='auto'` has been deprecated in 1.1 and will be removed in 1.3. To keep the past behaviour, explicitly set `max_features=1.0'`.\n",
      "  warnings.warn(\n",
      "C:\\Users\\Gangesh\\anaconda3\\Lib\\site-packages\\sklearn\\tree\\_classes.py:277: FutureWarning: `max_features='auto'` has been deprecated in 1.1 and will be removed in 1.3. To keep the past behaviour, explicitly set `max_features=1.0'`.\n",
      "  warnings.warn(\n",
      "C:\\Users\\Gangesh\\anaconda3\\Lib\\site-packages\\sklearn\\tree\\_classes.py:277: FutureWarning: `max_features='auto'` has been deprecated in 1.1 and will be removed in 1.3. To keep the past behaviour, explicitly set `max_features=1.0'`.\n",
      "  warnings.warn(\n",
      "C:\\Users\\Gangesh\\anaconda3\\Lib\\site-packages\\sklearn\\tree\\_classes.py:277: FutureWarning: `max_features='auto'` has been deprecated in 1.1 and will be removed in 1.3. To keep the past behaviour, explicitly set `max_features=1.0'`.\n",
      "  warnings.warn(\n",
      "C:\\Users\\Gangesh\\anaconda3\\Lib\\site-packages\\sklearn\\tree\\_classes.py:277: FutureWarning: `max_features='auto'` has been deprecated in 1.1 and will be removed in 1.3. To keep the past behaviour, explicitly set `max_features=1.0'`.\n",
      "  warnings.warn(\n",
      "C:\\Users\\Gangesh\\anaconda3\\Lib\\site-packages\\sklearn\\tree\\_classes.py:277: FutureWarning: `max_features='auto'` has been deprecated in 1.1 and will be removed in 1.3. To keep the past behaviour, explicitly set `max_features=1.0'`.\n",
      "  warnings.warn(\n",
      "C:\\Users\\Gangesh\\anaconda3\\Lib\\site-packages\\sklearn\\tree\\_classes.py:277: FutureWarning: `max_features='auto'` has been deprecated in 1.1 and will be removed in 1.3. To keep the past behaviour, explicitly set `max_features=1.0'`.\n",
      "  warnings.warn(\n",
      "C:\\Users\\Gangesh\\anaconda3\\Lib\\site-packages\\sklearn\\tree\\_classes.py:277: FutureWarning: `max_features='auto'` has been deprecated in 1.1 and will be removed in 1.3. To keep the past behaviour, explicitly set `max_features=1.0'`.\n",
      "  warnings.warn(\n",
      "C:\\Users\\Gangesh\\anaconda3\\Lib\\site-packages\\sklearn\\tree\\_classes.py:277: FutureWarning: `max_features='auto'` has been deprecated in 1.1 and will be removed in 1.3. To keep the past behaviour, explicitly set `max_features=1.0'`.\n",
      "  warnings.warn(\n",
      "C:\\Users\\Gangesh\\anaconda3\\Lib\\site-packages\\sklearn\\tree\\_classes.py:277: FutureWarning: `max_features='auto'` has been deprecated in 1.1 and will be removed in 1.3. To keep the past behaviour, explicitly set `max_features=1.0'`.\n",
      "  warnings.warn(\n",
      "C:\\Users\\Gangesh\\anaconda3\\Lib\\site-packages\\sklearn\\tree\\_classes.py:277: FutureWarning: `max_features='auto'` has been deprecated in 1.1 and will be removed in 1.3. To keep the past behaviour, explicitly set `max_features=1.0'`.\n",
      "  warnings.warn(\n",
      "C:\\Users\\Gangesh\\anaconda3\\Lib\\site-packages\\sklearn\\tree\\_classes.py:277: FutureWarning: `max_features='auto'` has been deprecated in 1.1 and will be removed in 1.3. To keep the past behaviour, explicitly set `max_features=1.0'`.\n",
      "  warnings.warn(\n",
      "C:\\Users\\Gangesh\\anaconda3\\Lib\\site-packages\\sklearn\\tree\\_classes.py:277: FutureWarning: `max_features='auto'` has been deprecated in 1.1 and will be removed in 1.3. To keep the past behaviour, explicitly set `max_features=1.0'`.\n",
      "  warnings.warn(\n",
      "C:\\Users\\Gangesh\\anaconda3\\Lib\\site-packages\\sklearn\\tree\\_classes.py:277: FutureWarning: `max_features='auto'` has been deprecated in 1.1 and will be removed in 1.3. To keep the past behaviour, explicitly set `max_features=1.0'`.\n",
      "  warnings.warn(\n",
      "C:\\Users\\Gangesh\\anaconda3\\Lib\\site-packages\\sklearn\\tree\\_classes.py:277: FutureWarning: `max_features='auto'` has been deprecated in 1.1 and will be removed in 1.3. To keep the past behaviour, explicitly set `max_features=1.0'`.\n",
      "  warnings.warn(\n",
      "C:\\Users\\Gangesh\\anaconda3\\Lib\\site-packages\\sklearn\\tree\\_classes.py:277: FutureWarning: `max_features='auto'` has been deprecated in 1.1 and will be removed in 1.3. To keep the past behaviour, explicitly set `max_features=1.0'`.\n",
      "  warnings.warn(\n",
      "C:\\Users\\Gangesh\\anaconda3\\Lib\\site-packages\\sklearn\\tree\\_classes.py:277: FutureWarning: `max_features='auto'` has been deprecated in 1.1 and will be removed in 1.3. To keep the past behaviour, explicitly set `max_features=1.0'`.\n",
      "  warnings.warn(\n",
      "C:\\Users\\Gangesh\\anaconda3\\Lib\\site-packages\\sklearn\\tree\\_classes.py:277: FutureWarning: `max_features='auto'` has been deprecated in 1.1 and will be removed in 1.3. To keep the past behaviour, explicitly set `max_features=1.0'`.\n",
      "  warnings.warn(\n",
      "C:\\Users\\Gangesh\\anaconda3\\Lib\\site-packages\\sklearn\\tree\\_classes.py:277: FutureWarning: `max_features='auto'` has been deprecated in 1.1 and will be removed in 1.3. To keep the past behaviour, explicitly set `max_features=1.0'`.\n",
      "  warnings.warn(\n",
      "C:\\Users\\Gangesh\\anaconda3\\Lib\\site-packages\\sklearn\\tree\\_classes.py:277: FutureWarning: `max_features='auto'` has been deprecated in 1.1 and will be removed in 1.3. To keep the past behaviour, explicitly set `max_features=1.0'`.\n",
      "  warnings.warn(\n",
      "C:\\Users\\Gangesh\\anaconda3\\Lib\\site-packages\\sklearn\\tree\\_classes.py:277: FutureWarning: `max_features='auto'` has been deprecated in 1.1 and will be removed in 1.3. To keep the past behaviour, explicitly set `max_features=1.0'`.\n",
      "  warnings.warn(\n",
      "C:\\Users\\Gangesh\\anaconda3\\Lib\\site-packages\\sklearn\\tree\\_classes.py:277: FutureWarning: `max_features='auto'` has been deprecated in 1.1 and will be removed in 1.3. To keep the past behaviour, explicitly set `max_features=1.0'`.\n",
      "  warnings.warn(\n"
     ]
    },
    {
     "name": "stderr",
     "output_type": "stream",
     "text": [
      "C:\\Users\\Gangesh\\anaconda3\\Lib\\site-packages\\sklearn\\tree\\_classes.py:277: FutureWarning: `max_features='auto'` has been deprecated in 1.1 and will be removed in 1.3. To keep the past behaviour, explicitly set `max_features=1.0'`.\n",
      "  warnings.warn(\n",
      "C:\\Users\\Gangesh\\anaconda3\\Lib\\site-packages\\sklearn\\tree\\_classes.py:277: FutureWarning: `max_features='auto'` has been deprecated in 1.1 and will be removed in 1.3. To keep the past behaviour, explicitly set `max_features=1.0'`.\n",
      "  warnings.warn(\n",
      "C:\\Users\\Gangesh\\anaconda3\\Lib\\site-packages\\sklearn\\tree\\_classes.py:277: FutureWarning: `max_features='auto'` has been deprecated in 1.1 and will be removed in 1.3. To keep the past behaviour, explicitly set `max_features=1.0'`.\n",
      "  warnings.warn(\n",
      "C:\\Users\\Gangesh\\anaconda3\\Lib\\site-packages\\sklearn\\tree\\_classes.py:277: FutureWarning: `max_features='auto'` has been deprecated in 1.1 and will be removed in 1.3. To keep the past behaviour, explicitly set `max_features=1.0'`.\n",
      "  warnings.warn(\n",
      "C:\\Users\\Gangesh\\anaconda3\\Lib\\site-packages\\sklearn\\tree\\_classes.py:277: FutureWarning: `max_features='auto'` has been deprecated in 1.1 and will be removed in 1.3. To keep the past behaviour, explicitly set `max_features=1.0'`.\n",
      "  warnings.warn(\n",
      "C:\\Users\\Gangesh\\anaconda3\\Lib\\site-packages\\sklearn\\tree\\_classes.py:277: FutureWarning: `max_features='auto'` has been deprecated in 1.1 and will be removed in 1.3. To keep the past behaviour, explicitly set `max_features=1.0'`.\n",
      "  warnings.warn(\n",
      "C:\\Users\\Gangesh\\anaconda3\\Lib\\site-packages\\sklearn\\tree\\_classes.py:277: FutureWarning: `max_features='auto'` has been deprecated in 1.1 and will be removed in 1.3. To keep the past behaviour, explicitly set `max_features=1.0'`.\n",
      "  warnings.warn(\n",
      "C:\\Users\\Gangesh\\anaconda3\\Lib\\site-packages\\sklearn\\tree\\_classes.py:277: FutureWarning: `max_features='auto'` has been deprecated in 1.1 and will be removed in 1.3. To keep the past behaviour, explicitly set `max_features=1.0'`.\n",
      "  warnings.warn(\n",
      "C:\\Users\\Gangesh\\anaconda3\\Lib\\site-packages\\sklearn\\tree\\_classes.py:277: FutureWarning: `max_features='auto'` has been deprecated in 1.1 and will be removed in 1.3. To keep the past behaviour, explicitly set `max_features=1.0'`.\n",
      "  warnings.warn(\n",
      "C:\\Users\\Gangesh\\anaconda3\\Lib\\site-packages\\sklearn\\tree\\_classes.py:277: FutureWarning: `max_features='auto'` has been deprecated in 1.1 and will be removed in 1.3. To keep the past behaviour, explicitly set `max_features=1.0'`.\n",
      "  warnings.warn(\n",
      "C:\\Users\\Gangesh\\anaconda3\\Lib\\site-packages\\sklearn\\tree\\_classes.py:277: FutureWarning: `max_features='auto'` has been deprecated in 1.1 and will be removed in 1.3. To keep the past behaviour, explicitly set `max_features=1.0'`.\n",
      "  warnings.warn(\n",
      "C:\\Users\\Gangesh\\anaconda3\\Lib\\site-packages\\sklearn\\tree\\_classes.py:277: FutureWarning: `max_features='auto'` has been deprecated in 1.1 and will be removed in 1.3. To keep the past behaviour, explicitly set `max_features=1.0'`.\n",
      "  warnings.warn(\n",
      "C:\\Users\\Gangesh\\anaconda3\\Lib\\site-packages\\sklearn\\tree\\_classes.py:277: FutureWarning: `max_features='auto'` has been deprecated in 1.1 and will be removed in 1.3. To keep the past behaviour, explicitly set `max_features=1.0'`.\n",
      "  warnings.warn(\n",
      "C:\\Users\\Gangesh\\anaconda3\\Lib\\site-packages\\sklearn\\tree\\_classes.py:277: FutureWarning: `max_features='auto'` has been deprecated in 1.1 and will be removed in 1.3. To keep the past behaviour, explicitly set `max_features=1.0'`.\n",
      "  warnings.warn(\n",
      "C:\\Users\\Gangesh\\anaconda3\\Lib\\site-packages\\sklearn\\tree\\_classes.py:277: FutureWarning: `max_features='auto'` has been deprecated in 1.1 and will be removed in 1.3. To keep the past behaviour, explicitly set `max_features=1.0'`.\n",
      "  warnings.warn(\n",
      "C:\\Users\\Gangesh\\anaconda3\\Lib\\site-packages\\sklearn\\tree\\_classes.py:277: FutureWarning: `max_features='auto'` has been deprecated in 1.1 and will be removed in 1.3. To keep the past behaviour, explicitly set `max_features=1.0'`.\n",
      "  warnings.warn(\n",
      "C:\\Users\\Gangesh\\anaconda3\\Lib\\site-packages\\sklearn\\tree\\_classes.py:277: FutureWarning: `max_features='auto'` has been deprecated in 1.1 and will be removed in 1.3. To keep the past behaviour, explicitly set `max_features=1.0'`.\n",
      "  warnings.warn(\n",
      "C:\\Users\\Gangesh\\anaconda3\\Lib\\site-packages\\sklearn\\tree\\_classes.py:277: FutureWarning: `max_features='auto'` has been deprecated in 1.1 and will be removed in 1.3. To keep the past behaviour, explicitly set `max_features=1.0'`.\n",
      "  warnings.warn(\n",
      "C:\\Users\\Gangesh\\anaconda3\\Lib\\site-packages\\sklearn\\tree\\_classes.py:277: FutureWarning: `max_features='auto'` has been deprecated in 1.1 and will be removed in 1.3. To keep the past behaviour, explicitly set `max_features=1.0'`.\n",
      "  warnings.warn(\n",
      "C:\\Users\\Gangesh\\anaconda3\\Lib\\site-packages\\sklearn\\tree\\_classes.py:277: FutureWarning: `max_features='auto'` has been deprecated in 1.1 and will be removed in 1.3. To keep the past behaviour, explicitly set `max_features=1.0'`.\n",
      "  warnings.warn(\n",
      "C:\\Users\\Gangesh\\anaconda3\\Lib\\site-packages\\sklearn\\tree\\_classes.py:277: FutureWarning: `max_features='auto'` has been deprecated in 1.1 and will be removed in 1.3. To keep the past behaviour, explicitly set `max_features=1.0'`.\n",
      "  warnings.warn(\n",
      "C:\\Users\\Gangesh\\anaconda3\\Lib\\site-packages\\sklearn\\tree\\_classes.py:277: FutureWarning: `max_features='auto'` has been deprecated in 1.1 and will be removed in 1.3. To keep the past behaviour, explicitly set `max_features=1.0'`.\n",
      "  warnings.warn(\n",
      "C:\\Users\\Gangesh\\anaconda3\\Lib\\site-packages\\sklearn\\tree\\_classes.py:277: FutureWarning: `max_features='auto'` has been deprecated in 1.1 and will be removed in 1.3. To keep the past behaviour, explicitly set `max_features=1.0'`.\n",
      "  warnings.warn(\n",
      "C:\\Users\\Gangesh\\anaconda3\\Lib\\site-packages\\sklearn\\tree\\_classes.py:277: FutureWarning: `max_features='auto'` has been deprecated in 1.1 and will be removed in 1.3. To keep the past behaviour, explicitly set `max_features=1.0'`.\n",
      "  warnings.warn(\n",
      "C:\\Users\\Gangesh\\anaconda3\\Lib\\site-packages\\sklearn\\tree\\_classes.py:277: FutureWarning: `max_features='auto'` has been deprecated in 1.1 and will be removed in 1.3. To keep the past behaviour, explicitly set `max_features=1.0'`.\n",
      "  warnings.warn(\n",
      "C:\\Users\\Gangesh\\anaconda3\\Lib\\site-packages\\sklearn\\tree\\_classes.py:277: FutureWarning: `max_features='auto'` has been deprecated in 1.1 and will be removed in 1.3. To keep the past behaviour, explicitly set `max_features=1.0'`.\n",
      "  warnings.warn(\n",
      "C:\\Users\\Gangesh\\anaconda3\\Lib\\site-packages\\sklearn\\tree\\_classes.py:277: FutureWarning: `max_features='auto'` has been deprecated in 1.1 and will be removed in 1.3. To keep the past behaviour, explicitly set `max_features=1.0'`.\n",
      "  warnings.warn(\n",
      "C:\\Users\\Gangesh\\anaconda3\\Lib\\site-packages\\sklearn\\tree\\_classes.py:277: FutureWarning: `max_features='auto'` has been deprecated in 1.1 and will be removed in 1.3. To keep the past behaviour, explicitly set `max_features=1.0'`.\n",
      "  warnings.warn(\n",
      "C:\\Users\\Gangesh\\anaconda3\\Lib\\site-packages\\sklearn\\tree\\_classes.py:277: FutureWarning: `max_features='auto'` has been deprecated in 1.1 and will be removed in 1.3. To keep the past behaviour, explicitly set `max_features=1.0'`.\n",
      "  warnings.warn(\n",
      "C:\\Users\\Gangesh\\anaconda3\\Lib\\site-packages\\sklearn\\tree\\_classes.py:277: FutureWarning: `max_features='auto'` has been deprecated in 1.1 and will be removed in 1.3. To keep the past behaviour, explicitly set `max_features=1.0'`.\n",
      "  warnings.warn(\n",
      "C:\\Users\\Gangesh\\anaconda3\\Lib\\site-packages\\sklearn\\tree\\_classes.py:277: FutureWarning: `max_features='auto'` has been deprecated in 1.1 and will be removed in 1.3. To keep the past behaviour, explicitly set `max_features=1.0'`.\n",
      "  warnings.warn(\n",
      "C:\\Users\\Gangesh\\anaconda3\\Lib\\site-packages\\sklearn\\tree\\_classes.py:277: FutureWarning: `max_features='auto'` has been deprecated in 1.1 and will be removed in 1.3. To keep the past behaviour, explicitly set `max_features=1.0'`.\n",
      "  warnings.warn(\n",
      "C:\\Users\\Gangesh\\anaconda3\\Lib\\site-packages\\sklearn\\tree\\_classes.py:277: FutureWarning: `max_features='auto'` has been deprecated in 1.1 and will be removed in 1.3. To keep the past behaviour, explicitly set `max_features=1.0'`.\n",
      "  warnings.warn(\n",
      "C:\\Users\\Gangesh\\anaconda3\\Lib\\site-packages\\sklearn\\tree\\_classes.py:277: FutureWarning: `max_features='auto'` has been deprecated in 1.1 and will be removed in 1.3. To keep the past behaviour, explicitly set `max_features=1.0'`.\n",
      "  warnings.warn(\n"
     ]
    },
    {
     "name": "stderr",
     "output_type": "stream",
     "text": [
      "C:\\Users\\Gangesh\\anaconda3\\Lib\\site-packages\\sklearn\\tree\\_classes.py:277: FutureWarning: `max_features='auto'` has been deprecated in 1.1 and will be removed in 1.3. To keep the past behaviour, explicitly set `max_features=1.0'`.\n",
      "  warnings.warn(\n",
      "C:\\Users\\Gangesh\\anaconda3\\Lib\\site-packages\\sklearn\\tree\\_classes.py:277: FutureWarning: `max_features='auto'` has been deprecated in 1.1 and will be removed in 1.3. To keep the past behaviour, explicitly set `max_features=1.0'`.\n",
      "  warnings.warn(\n",
      "C:\\Users\\Gangesh\\anaconda3\\Lib\\site-packages\\sklearn\\tree\\_classes.py:277: FutureWarning: `max_features='auto'` has been deprecated in 1.1 and will be removed in 1.3. To keep the past behaviour, explicitly set `max_features=1.0'`.\n",
      "  warnings.warn(\n",
      "C:\\Users\\Gangesh\\anaconda3\\Lib\\site-packages\\sklearn\\tree\\_classes.py:277: FutureWarning: `max_features='auto'` has been deprecated in 1.1 and will be removed in 1.3. To keep the past behaviour, explicitly set `max_features=1.0'`.\n",
      "  warnings.warn(\n",
      "C:\\Users\\Gangesh\\anaconda3\\Lib\\site-packages\\sklearn\\tree\\_classes.py:277: FutureWarning: `max_features='auto'` has been deprecated in 1.1 and will be removed in 1.3. To keep the past behaviour, explicitly set `max_features=1.0'`.\n",
      "  warnings.warn(\n",
      "C:\\Users\\Gangesh\\anaconda3\\Lib\\site-packages\\sklearn\\tree\\_classes.py:277: FutureWarning: `max_features='auto'` has been deprecated in 1.1 and will be removed in 1.3. To keep the past behaviour, explicitly set `max_features=1.0'`.\n",
      "  warnings.warn(\n",
      "C:\\Users\\Gangesh\\anaconda3\\Lib\\site-packages\\sklearn\\tree\\_classes.py:277: FutureWarning: `max_features='auto'` has been deprecated in 1.1 and will be removed in 1.3. To keep the past behaviour, explicitly set `max_features=1.0'`.\n",
      "  warnings.warn(\n",
      "C:\\Users\\Gangesh\\anaconda3\\Lib\\site-packages\\sklearn\\tree\\_classes.py:277: FutureWarning: `max_features='auto'` has been deprecated in 1.1 and will be removed in 1.3. To keep the past behaviour, explicitly set `max_features=1.0'`.\n",
      "  warnings.warn(\n",
      "C:\\Users\\Gangesh\\anaconda3\\Lib\\site-packages\\sklearn\\tree\\_classes.py:277: FutureWarning: `max_features='auto'` has been deprecated in 1.1 and will be removed in 1.3. To keep the past behaviour, explicitly set `max_features=1.0'`.\n",
      "  warnings.warn(\n",
      "C:\\Users\\Gangesh\\anaconda3\\Lib\\site-packages\\sklearn\\tree\\_classes.py:277: FutureWarning: `max_features='auto'` has been deprecated in 1.1 and will be removed in 1.3. To keep the past behaviour, explicitly set `max_features=1.0'`.\n",
      "  warnings.warn(\n",
      "C:\\Users\\Gangesh\\anaconda3\\Lib\\site-packages\\sklearn\\tree\\_classes.py:277: FutureWarning: `max_features='auto'` has been deprecated in 1.1 and will be removed in 1.3. To keep the past behaviour, explicitly set `max_features=1.0'`.\n",
      "  warnings.warn(\n",
      "C:\\Users\\Gangesh\\anaconda3\\Lib\\site-packages\\sklearn\\tree\\_classes.py:277: FutureWarning: `max_features='auto'` has been deprecated in 1.1 and will be removed in 1.3. To keep the past behaviour, explicitly set `max_features=1.0'`.\n",
      "  warnings.warn(\n",
      "C:\\Users\\Gangesh\\anaconda3\\Lib\\site-packages\\sklearn\\tree\\_classes.py:277: FutureWarning: `max_features='auto'` has been deprecated in 1.1 and will be removed in 1.3. To keep the past behaviour, explicitly set `max_features=1.0'`.\n",
      "  warnings.warn(\n",
      "C:\\Users\\Gangesh\\anaconda3\\Lib\\site-packages\\sklearn\\tree\\_classes.py:277: FutureWarning: `max_features='auto'` has been deprecated in 1.1 and will be removed in 1.3. To keep the past behaviour, explicitly set `max_features=1.0'`.\n",
      "  warnings.warn(\n",
      "C:\\Users\\Gangesh\\anaconda3\\Lib\\site-packages\\sklearn\\tree\\_classes.py:277: FutureWarning: `max_features='auto'` has been deprecated in 1.1 and will be removed in 1.3. To keep the past behaviour, explicitly set `max_features=1.0'`.\n",
      "  warnings.warn(\n",
      "C:\\Users\\Gangesh\\anaconda3\\Lib\\site-packages\\sklearn\\tree\\_classes.py:277: FutureWarning: `max_features='auto'` has been deprecated in 1.1 and will be removed in 1.3. To keep the past behaviour, explicitly set `max_features=1.0'`.\n",
      "  warnings.warn(\n",
      "C:\\Users\\Gangesh\\anaconda3\\Lib\\site-packages\\sklearn\\tree\\_classes.py:277: FutureWarning: `max_features='auto'` has been deprecated in 1.1 and will be removed in 1.3. To keep the past behaviour, explicitly set `max_features=1.0'`.\n",
      "  warnings.warn(\n",
      "C:\\Users\\Gangesh\\anaconda3\\Lib\\site-packages\\sklearn\\tree\\_classes.py:277: FutureWarning: `max_features='auto'` has been deprecated in 1.1 and will be removed in 1.3. To keep the past behaviour, explicitly set `max_features=1.0'`.\n",
      "  warnings.warn(\n",
      "C:\\Users\\Gangesh\\anaconda3\\Lib\\site-packages\\sklearn\\tree\\_classes.py:277: FutureWarning: `max_features='auto'` has been deprecated in 1.1 and will be removed in 1.3. To keep the past behaviour, explicitly set `max_features=1.0'`.\n",
      "  warnings.warn(\n",
      "C:\\Users\\Gangesh\\anaconda3\\Lib\\site-packages\\sklearn\\tree\\_classes.py:277: FutureWarning: `max_features='auto'` has been deprecated in 1.1 and will be removed in 1.3. To keep the past behaviour, explicitly set `max_features=1.0'`.\n",
      "  warnings.warn(\n",
      "C:\\Users\\Gangesh\\anaconda3\\Lib\\site-packages\\sklearn\\tree\\_classes.py:277: FutureWarning: `max_features='auto'` has been deprecated in 1.1 and will be removed in 1.3. To keep the past behaviour, explicitly set `max_features=1.0'`.\n",
      "  warnings.warn(\n",
      "C:\\Users\\Gangesh\\anaconda3\\Lib\\site-packages\\sklearn\\tree\\_classes.py:277: FutureWarning: `max_features='auto'` has been deprecated in 1.1 and will be removed in 1.3. To keep the past behaviour, explicitly set `max_features=1.0'`.\n",
      "  warnings.warn(\n",
      "C:\\Users\\Gangesh\\anaconda3\\Lib\\site-packages\\sklearn\\tree\\_classes.py:277: FutureWarning: `max_features='auto'` has been deprecated in 1.1 and will be removed in 1.3. To keep the past behaviour, explicitly set `max_features=1.0'`.\n",
      "  warnings.warn(\n",
      "C:\\Users\\Gangesh\\anaconda3\\Lib\\site-packages\\sklearn\\tree\\_classes.py:277: FutureWarning: `max_features='auto'` has been deprecated in 1.1 and will be removed in 1.3. To keep the past behaviour, explicitly set `max_features=1.0'`.\n",
      "  warnings.warn(\n",
      "C:\\Users\\Gangesh\\anaconda3\\Lib\\site-packages\\sklearn\\tree\\_classes.py:277: FutureWarning: `max_features='auto'` has been deprecated in 1.1 and will be removed in 1.3. To keep the past behaviour, explicitly set `max_features=1.0'`.\n",
      "  warnings.warn(\n",
      "C:\\Users\\Gangesh\\anaconda3\\Lib\\site-packages\\sklearn\\tree\\_classes.py:277: FutureWarning: `max_features='auto'` has been deprecated in 1.1 and will be removed in 1.3. To keep the past behaviour, explicitly set `max_features=1.0'`.\n",
      "  warnings.warn(\n",
      "C:\\Users\\Gangesh\\anaconda3\\Lib\\site-packages\\sklearn\\tree\\_classes.py:277: FutureWarning: `max_features='auto'` has been deprecated in 1.1 and will be removed in 1.3. To keep the past behaviour, explicitly set `max_features=1.0'`.\n",
      "  warnings.warn(\n",
      "C:\\Users\\Gangesh\\anaconda3\\Lib\\site-packages\\sklearn\\tree\\_classes.py:277: FutureWarning: `max_features='auto'` has been deprecated in 1.1 and will be removed in 1.3. To keep the past behaviour, explicitly set `max_features=1.0'`.\n",
      "  warnings.warn(\n",
      "C:\\Users\\Gangesh\\anaconda3\\Lib\\site-packages\\sklearn\\tree\\_classes.py:277: FutureWarning: `max_features='auto'` has been deprecated in 1.1 and will be removed in 1.3. To keep the past behaviour, explicitly set `max_features=1.0'`.\n",
      "  warnings.warn(\n",
      "C:\\Users\\Gangesh\\anaconda3\\Lib\\site-packages\\sklearn\\tree\\_classes.py:277: FutureWarning: `max_features='auto'` has been deprecated in 1.1 and will be removed in 1.3. To keep the past behaviour, explicitly set `max_features=1.0'`.\n",
      "  warnings.warn(\n",
      "C:\\Users\\Gangesh\\anaconda3\\Lib\\site-packages\\sklearn\\tree\\_classes.py:277: FutureWarning: `max_features='auto'` has been deprecated in 1.1 and will be removed in 1.3. To keep the past behaviour, explicitly set `max_features=1.0'`.\n",
      "  warnings.warn(\n",
      "C:\\Users\\Gangesh\\anaconda3\\Lib\\site-packages\\sklearn\\model_selection\\_validation.py:378: FitFailedWarning: \n",
      "300 fits failed out of a total of 1200.\n",
      "The score on these train-test partitions for these parameters will be set to nan.\n",
      "If these failures are not expected, you can try to debug them by setting error_score='raise'.\n",
      "\n",
      "Below are more details about the failures:\n",
      "--------------------------------------------------------------------------------\n",
      "300 fits failed with the following error:\n",
      "Traceback (most recent call last):\n",
      "  File \"C:\\Users\\Gangesh\\anaconda3\\Lib\\site-packages\\sklearn\\model_selection\\_validation.py\", line 686, in _fit_and_score\n",
      "    estimator.fit(X_train, y_train, **fit_params)\n",
      "  File \"C:\\Users\\Gangesh\\anaconda3\\Lib\\site-packages\\sklearn\\tree\\_classes.py\", line 1247, in fit\n",
      "    super().fit(\n",
      "  File \"C:\\Users\\Gangesh\\anaconda3\\Lib\\site-packages\\sklearn\\tree\\_classes.py\", line 199, in fit\n",
      "    raise ValueError(\n",
      "ValueError: Some value(s) of y are negative which is not allowed for Poisson regression.\n",
      "\n",
      "  warnings.warn(some_fits_failed_message, FitFailedWarning)\n",
      "C:\\Users\\Gangesh\\anaconda3\\Lib\\site-packages\\sklearn\\model_selection\\_search.py:952: UserWarning: One or more of the test scores are non-finite: [0.22811289 0.23238323 0.07826373 0.09486851 0.07826373 0.09486851\n",
      " 0.42751318 0.43099354 0.08156246 0.15822637 0.3269741  0.12554573\n",
      " 0.52658516 0.5065074  0.17921813 0.23605664 0.32708772 0.23476041\n",
      " 0.57836119 0.56984321 0.23760896 0.24282226 0.43618331 0.28385461\n",
      " 0.58952818 0.58656169 0.2372164  0.2486662  0.44666883 0.27001199\n",
      " 0.58557731 0.59079727 0.26106661 0.34624248 0.50198454 0.27156623\n",
      " 0.56755914 0.58470372 0.36197179 0.28181204 0.50928199 0.28900085\n",
      " 0.54379644 0.57709729 0.31016046 0.32539891 0.54002943 0.26829138\n",
      " 0.51662626 0.56002022 0.31339679 0.34123011 0.54479055 0.27008507\n",
      " 0.4880409  0.54076099 0.37933649 0.29772121 0.53605129 0.33808981\n",
      " 0.22811289 0.23238323 0.07826373 0.09486851 0.07826373 0.09486851\n",
      " 0.42751318 0.43099354 0.08156246 0.15822637 0.3269741  0.12554573\n",
      " 0.52658516 0.5065074  0.17921813 0.23605664 0.32708772 0.23476041\n",
      " 0.57836119 0.56984321 0.23760896 0.24282226 0.43618331 0.28385461\n",
      " 0.58952818 0.58656169 0.2372164  0.2486662  0.44666883 0.27001199\n",
      " 0.58557723 0.59187035 0.26106661 0.34624248 0.50198454 0.27156623\n",
      " 0.56762447 0.58251194 0.36197179 0.28181204 0.50928199 0.28900085\n",
      " 0.54368918 0.577504   0.31097537 0.32548288 0.54002943 0.26829138\n",
      " 0.51581676 0.55247441 0.31342786 0.34413875 0.54479055 0.27011035\n",
      " 0.48719447 0.53209654 0.37102283 0.29625293 0.53247733 0.35345132\n",
      " 0.21478315 0.22027708 0.03463385 0.03839313 0.03463385 0.03839313\n",
      " 0.40998327 0.41221819 0.03935759 0.13296163 0.30496966 0.1274009\n",
      " 0.50176635 0.49647747 0.1386062  0.20556736 0.30556349 0.12742545\n",
      " 0.57243545 0.56408558 0.20603242 0.20470008 0.42636096 0.18579995\n",
      " 0.5849392  0.5776597  0.20400096 0.21044337 0.42942796 0.24982689\n",
      " 0.57893776 0.57893915 0.21863981 0.26218501 0.46383057 0.20802818\n",
      " 0.56997365 0.58462016 0.3545716  0.31411356 0.50008938 0.28019362\n",
      " 0.54988609 0.56904853 0.3952933  0.32457358 0.5025442  0.2645514\n",
      " 0.53537905 0.54748726 0.35482155 0.33800077 0.51006826 0.31584566\n",
      " 0.52053246 0.53938295 0.37658623 0.31998442 0.51780711 0.34805242\n",
      "        nan        nan        nan        nan        nan        nan\n",
      "        nan        nan        nan        nan        nan        nan\n",
      "        nan        nan        nan        nan        nan        nan\n",
      "        nan        nan        nan        nan        nan        nan\n",
      "        nan        nan        nan        nan        nan        nan\n",
      "        nan        nan        nan        nan        nan        nan\n",
      "        nan        nan        nan        nan        nan        nan\n",
      "        nan        nan        nan        nan        nan        nan\n",
      "        nan        nan        nan        nan        nan        nan\n",
      "        nan        nan        nan        nan        nan        nan]\n",
      "  warnings.warn(\n",
      "C:\\Users\\Gangesh\\anaconda3\\Lib\\site-packages\\sklearn\\tree\\_classes.py:277: FutureWarning: `max_features='auto'` has been deprecated in 1.1 and will be removed in 1.3. To keep the past behaviour, explicitly set `max_features=1.0'`.\n",
      "  warnings.warn(\n"
     ]
    },
    {
     "data": {
      "text/plain": [
       "{'criterion': 'friedman_mse',\n",
       " 'max_depth': 6,\n",
       " 'max_features': 'auto',\n",
       " 'splitter': 'random'}"
      ]
     },
     "metadata": {},
     "output_type": "display_data"
    },
    {
     "name": "stdout",
     "output_type": "stream",
     "text": [
      "R2 score 0.553674016958848\n",
      "RMSE: 1174.9881369398047\n"
     ]
    },
    {
     "name": "stderr",
     "output_type": "stream",
     "text": [
      "C:\\Users\\Gangesh\\anaconda3\\Lib\\site-packages\\sklearn\\tree\\_classes.py:277: FutureWarning: `max_features='auto'` has been deprecated in 1.1 and will be removed in 1.3. To keep the past behaviour, explicitly set `max_features=1.0'`.\n",
      "  warnings.warn(\n"
     ]
    }
   ],
   "source": [
    "from sklearn.preprocessing import StandardScaler\n",
    "scale = StandardScaler()\n",
    "x=scale.fit_transform(x_orig)\n",
    "y=scale.fit_transform(y_orig)\n",
    "\n",
    "from sklearn.model_selection import train_test_split\n",
    "x_train, x_test, y_train, y_test = train_test_split(x, y, test_size=0.2, random_state=7)\n",
    "\n",
    "parameter={\n",
    "    'criterion':[\"squared_error\", \"friedman_mse\", \"absolute_error\", \"poisson\"],\n",
    "    'splitter':[\"best\", \"random\"],\n",
    "    'max_depth':[1,2,3,4,5,6,7,8,9,10],\n",
    "    'max_features':[\"auto\", \"sqrt\", \"log2\"]\n",
    "}\n",
    "\n",
    "from sklearn.tree import DecisionTreeRegressor\n",
    "from sklearn.model_selection import GridSearchCV\n",
    "\n",
    "model=DecisionTreeRegressor(random_state=5)\n",
    "model2=GridSearchCV(model, param_grid=parameter, cv=5, scoring='r2')\n",
    "model2.fit(x_train, y_train)\n",
    "display(model2.best_params_)\n",
    "\n",
    "\n",
    "from sklearn.tree import DecisionTreeRegressor\n",
    "model = DecisionTreeRegressor(criterion='friedman_mse', max_depth=6, max_features='auto', splitter='random', random_state=2)\n",
    "model.fit(x_train, y_train)\n",
    "y_pred = pd.DataFrame(model.predict(x_test))\n",
    "\n",
    "y_test = scale.inverse_transform(y_test)\n",
    "y_pred = scale.inverse_transform(y_pred)\n",
    "\n",
    "from sklearn import metrics\n",
    "print(\"R2 score\", metrics.r2_score(y_test, y_pred))\n",
    "print('RMSE:', np.sqrt(metrics.mean_squared_error(y_test, y_pred)))"
   ]
  },
  {
   "cell_type": "markdown",
   "metadata": {},
   "source": [
    "# Random Forest"
   ]
  },
  {
   "cell_type": "code",
   "execution_count": 68,
   "metadata": {
    "execution": {
     "iopub.execute_input": "2022-09-13T19:40:11.609657Z",
     "iopub.status.busy": "2022-09-13T19:40:11.609337Z",
     "iopub.status.idle": "2022-09-13T19:40:15.577869Z",
     "shell.execute_reply": "2022-09-13T19:40:15.576582Z",
     "shell.execute_reply.started": "2022-09-13T19:40:11.609626Z"
    }
   },
   "outputs": [
    {
     "name": "stderr",
     "output_type": "stream",
     "text": [
      "C:\\Users\\Gangesh\\AppData\\Local\\Temp\\ipykernel_2624\\4167683468.py:11: DataConversionWarning: A column-vector y was passed when a 1d array was expected. Please change the shape of y to (n_samples,), for example using ravel().\n",
      "  model.fit(x_train, y_train)\n"
     ]
    },
    {
     "name": "stdout",
     "output_type": "stream",
     "text": [
      "R2 score 0.5501806433307249\n",
      "RMSE: 1179.5774642850704\n"
     ]
    }
   ],
   "source": [
    "from sklearn.preprocessing import StandardScaler\n",
    "scale = StandardScaler()\n",
    "x=scale.fit_transform(x_orig)\n",
    "y=scale.fit_transform(y_orig)\n",
    "\n",
    "from sklearn.model_selection import train_test_split\n",
    "x_train, x_test, y_train, y_test = train_test_split(x, y, test_size=0.2, random_state=7)\n",
    "\n",
    "from sklearn.ensemble import RandomForestRegressor\n",
    "model = RandomForestRegressor()\n",
    "model.fit(x_train, y_train)\n",
    "y_pred = pd.DataFrame(model.predict(x_test))\n",
    "\n",
    "y_test = scale.inverse_transform(y_test)\n",
    "y_pred = scale.inverse_transform(y_pred)\n",
    "\n",
    "from sklearn import metrics\n",
    "print(\"R2 score\", metrics.r2_score(y_test, y_pred))\n",
    "print('RMSE:', np.sqrt(metrics.mean_squared_error(y_test, y_pred)))"
   ]
  },
  {
   "cell_type": "markdown",
   "metadata": {},
   "source": [
    "# ADABOOST"
   ]
  },
  {
   "cell_type": "code",
   "execution_count": 69,
   "metadata": {
    "execution": {
     "iopub.execute_input": "2022-09-13T19:40:15.580108Z",
     "iopub.status.busy": "2022-09-13T19:40:15.579623Z",
     "iopub.status.idle": "2022-09-13T19:40:16.146299Z",
     "shell.execute_reply": "2022-09-13T19:40:16.145073Z",
     "shell.execute_reply.started": "2022-09-13T19:40:15.580062Z"
    }
   },
   "outputs": [
    {
     "name": "stderr",
     "output_type": "stream",
     "text": [
      "C:\\Users\\Gangesh\\anaconda3\\Lib\\site-packages\\sklearn\\utils\\validation.py:1143: DataConversionWarning: A column-vector y was passed when a 1d array was expected. Please change the shape of y to (n_samples, ), for example using ravel().\n",
      "  y = column_or_1d(y, warn=True)\n"
     ]
    },
    {
     "name": "stdout",
     "output_type": "stream",
     "text": [
      "R2 score 0.47195849154708824\n",
      "RMSE: 1278.031117843262\n"
     ]
    }
   ],
   "source": [
    "from sklearn.preprocessing import StandardScaler\n",
    "scale = StandardScaler()\n",
    "x=scale.fit_transform(x_orig)\n",
    "y=scale.fit_transform(y_orig)\n",
    "\n",
    "from sklearn.model_selection import train_test_split\n",
    "x_train, x_test, y_train, y_test = train_test_split(x, y, test_size=0.2, random_state=7)\n",
    "\n",
    "from sklearn.ensemble import AdaBoostRegressor\n",
    "model = AdaBoostRegressor()\n",
    "model.fit(x_train, y_train)\n",
    "y_pred = pd.DataFrame(model.predict(x_test))\n",
    "\n",
    "y_test = scale.inverse_transform(y_test)\n",
    "y_pred = scale.inverse_transform(y_pred)\n",
    "\n",
    "from sklearn import metrics\n",
    "print(\"R2 score\", metrics.r2_score(y_test, y_pred))\n",
    "print('RMSE:', np.sqrt(metrics.mean_squared_error(y_test, y_pred)))"
   ]
  },
  {
   "cell_type": "markdown",
   "metadata": {},
   "source": [
    "# XGBOOST"
   ]
  },
  {
   "cell_type": "code",
   "execution_count": 71,
   "metadata": {},
   "outputs": [
    {
     "name": "stdout",
     "output_type": "stream",
     "text": [
      "Collecting xgboost\n",
      "  Obtaining dependency information for xgboost from https://files.pythonhosted.org/packages/32/10/4689bda37403f7dd029d550c4446e0097c2f33b8ae877b235e76d5c49bc2/xgboost-2.0.0-py3-none-win_amd64.whl.metadata\n",
      "  Downloading xgboost-2.0.0-py3-none-win_amd64.whl.metadata (2.0 kB)\n",
      "Requirement already satisfied: numpy in c:\\users\\gangesh\\anaconda3\\lib\\site-packages (from xgboost) (1.23.5)\n",
      "Requirement already satisfied: scipy in c:\\users\\gangesh\\anaconda3\\lib\\site-packages (from xgboost) (1.10.1)\n",
      "Downloading xgboost-2.0.0-py3-none-win_amd64.whl (99.7 MB)\n",
      "   ---------------------------------------- 0.0/99.7 MB ? eta -:--:--\n",
      "   ---------------------------------------- 0.1/99.7 MB 4.5 MB/s eta 0:00:23\n",
      "   ---------------------------------------- 0.2/99.7 MB 2.1 MB/s eta 0:00:48\n",
      "   ---------------------------------------- 0.5/99.7 MB 4.2 MB/s eta 0:00:24\n",
      "   ---------------------------------------- 0.5/99.7 MB 4.2 MB/s eta 0:00:24\n",
      "   ---------------------------------------- 0.8/99.7 MB 3.8 MB/s eta 0:00:27\n",
      "   ---------------------------------------- 1.0/99.7 MB 4.6 MB/s eta 0:00:22\n",
      "   ---------------------------------------- 1.1/99.7 MB 4.0 MB/s eta 0:00:25\n",
      "    --------------------------------------- 1.6/99.7 MB 4.7 MB/s eta 0:00:21\n",
      "    --------------------------------------- 1.7/99.7 MB 4.5 MB/s eta 0:00:22\n",
      "    --------------------------------------- 2.2/99.7 MB 5.1 MB/s eta 0:00:20\n",
      "    --------------------------------------- 2.3/99.7 MB 5.3 MB/s eta 0:00:19\n",
      "   - -------------------------------------- 2.9/99.7 MB 5.5 MB/s eta 0:00:18\n",
      "   - -------------------------------------- 3.1/99.7 MB 5.9 MB/s eta 0:00:17\n",
      "   - -------------------------------------- 4.1/99.7 MB 6.7 MB/s eta 0:00:15\n",
      "   - -------------------------------------- 4.6/99.7 MB 7.3 MB/s eta 0:00:13\n",
      "   -- ------------------------------------- 5.7/99.7 MB 8.0 MB/s eta 0:00:12\n",
      "   -- ------------------------------------- 6.3/99.7 MB 8.6 MB/s eta 0:00:11\n",
      "   -- ------------------------------------- 6.9/99.7 MB 8.6 MB/s eta 0:00:11\n",
      "   --- ------------------------------------ 8.1/99.7 MB 9.8 MB/s eta 0:00:10\n",
      "   --- ------------------------------------ 8.6/99.7 MB 9.6 MB/s eta 0:00:10\n",
      "   --- ------------------------------------ 9.7/99.7 MB 10.3 MB/s eta 0:00:09\n",
      "   ---- ----------------------------------- 10.3/99.7 MB 10.4 MB/s eta 0:00:09\n",
      "   ---- ----------------------------------- 11.6/99.7 MB 14.2 MB/s eta 0:00:07\n",
      "   ---- ----------------------------------- 11.6/99.7 MB 14.2 MB/s eta 0:00:07\n",
      "   ---- ----------------------------------- 11.6/99.7 MB 14.2 MB/s eta 0:00:07\n",
      "   ---- ----------------------------------- 12.0/99.7 MB 13.6 MB/s eta 0:00:07\n",
      "   ----- ---------------------------------- 13.2/99.7 MB 14.6 MB/s eta 0:00:06\n",
      "   ----- ---------------------------------- 14.8/99.7 MB 16.4 MB/s eta 0:00:06\n",
      "   ------ --------------------------------- 15.9/99.7 MB 17.2 MB/s eta 0:00:05\n",
      "   ------- -------------------------------- 17.7/99.7 MB 19.3 MB/s eta 0:00:05\n",
      "   ------- -------------------------------- 18.5/99.7 MB 19.8 MB/s eta 0:00:05\n",
      "   -------- ------------------------------- 20.2/99.7 MB 22.6 MB/s eta 0:00:04\n",
      "   -------- ------------------------------- 21.3/99.7 MB 22.5 MB/s eta 0:00:04\n",
      "   --------- ------------------------------ 23.5/99.7 MB 32.8 MB/s eta 0:00:03\n",
      "   ---------- ----------------------------- 25.0/99.7 MB 32.7 MB/s eta 0:00:03\n",
      "   ---------- ----------------------------- 27.4/99.7 MB 34.4 MB/s eta 0:00:03\n",
      "   ----------- ---------------------------- 29.1/99.7 MB 38.5 MB/s eta 0:00:02\n",
      "   ------------ --------------------------- 31.3/99.7 MB 40.9 MB/s eta 0:00:02\n",
      "   ------------ --------------------------- 32.2/99.7 MB 38.6 MB/s eta 0:00:02\n",
      "   ------------- -------------------------- 34.4/99.7 MB 40.9 MB/s eta 0:00:02\n",
      "   -------------- ------------------------- 36.1/99.7 MB 40.9 MB/s eta 0:00:02\n",
      "   --------------- ------------------------ 37.5/99.7 MB 36.4 MB/s eta 0:00:02\n",
      "   --------------- ------------------------ 39.7/99.7 MB 36.4 MB/s eta 0:00:02\n",
      "   ---------------- ----------------------- 40.9/99.7 MB 34.4 MB/s eta 0:00:02\n",
      "   ----------------- ---------------------- 43.5/99.7 MB 38.5 MB/s eta 0:00:02\n",
      "   ----------------- ---------------------- 44.1/99.7 MB 36.4 MB/s eta 0:00:02\n",
      "   ------------------ --------------------- 46.2/99.7 MB 36.4 MB/s eta 0:00:02\n",
      "   ------------------- -------------------- 47.7/99.7 MB 34.4 MB/s eta 0:00:02\n",
      "   -------------------- ------------------- 50.0/99.7 MB 38.6 MB/s eta 0:00:02\n",
      "   -------------------- ------------------- 51.3/99.7 MB 38.6 MB/s eta 0:00:02\n",
      "   --------------------- ------------------ 52.4/99.7 MB 38.5 MB/s eta 0:00:02\n",
      "   --------------------- ------------------ 54.4/99.7 MB 36.4 MB/s eta 0:00:02\n",
      "   ---------------------- ----------------- 55.1/99.7 MB 34.6 MB/s eta 0:00:02\n",
      "   ---------------------- ----------------- 56.6/99.7 MB 32.8 MB/s eta 0:00:02\n",
      "   ----------------------- ---------------- 57.9/99.7 MB 38.5 MB/s eta 0:00:02\n",
      "   ----------------------- ---------------- 59.3/99.7 MB 32.8 MB/s eta 0:00:02\n",
      "   ------------------------ --------------- 61.9/99.7 MB 36.4 MB/s eta 0:00:02\n",
      "   ------------------------- -------------- 62.7/99.7 MB 34.4 MB/s eta 0:00:02\n",
      "   ------------------------- -------------- 64.8/99.7 MB 38.5 MB/s eta 0:00:01\n",
      "   -------------------------- ------------- 65.9/99.7 MB 38.6 MB/s eta 0:00:01\n",
      "   --------------------------- ------------ 67.9/99.7 MB 36.4 MB/s eta 0:00:01\n",
      "   --------------------------- ------------ 69.4/99.7 MB 40.9 MB/s eta 0:00:01\n",
      "   ---------------------------- ----------- 71.1/99.7 MB 36.4 MB/s eta 0:00:01\n",
      "   ----------------------------- ---------- 72.9/99.7 MB 40.9 MB/s eta 0:00:01\n",
      "   ----------------------------- ---------- 73.8/99.7 MB 36.4 MB/s eta 0:00:01\n",
      "   ------------------------------ --------- 75.4/99.7 MB 36.4 MB/s eta 0:00:01\n",
      "   ------------------------------ --------- 77.1/99.7 MB 38.5 MB/s eta 0:00:01\n",
      "   ------------------------------- -------- 78.1/99.7 MB 36.4 MB/s eta 0:00:01\n",
      "   ------------------------------- -------- 79.4/99.7 MB 36.3 MB/s eta 0:00:01\n",
      "   -------------------------------- ------- 80.8/99.7 MB 38.5 MB/s eta 0:00:01\n",
      "   --------------------------------- ------ 82.3/99.7 MB 36.4 MB/s eta 0:00:01\n",
      "   --------------------------------- ------ 84.4/99.7 MB 38.5 MB/s eta 0:00:01\n",
      "   ---------------------------------- ----- 85.5/99.7 MB 36.3 MB/s eta 0:00:01\n",
      "   ---------------------------------- ----- 86.9/99.7 MB 36.4 MB/s eta 0:00:01\n",
      "   ----------------------------------- ---- 88.4/99.7 MB 38.5 MB/s eta 0:00:01\n",
      "   ----------------------------------- ---- 89.8/99.7 MB 36.4 MB/s eta 0:00:01\n",
      "   ------------------------------------ --- 91.7/99.7 MB 38.5 MB/s eta 0:00:01\n",
      "   ------------------------------------- -- 93.2/99.7 MB 34.4 MB/s eta 0:00:01\n",
      "   -------------------------------------- - 95.3/99.7 MB 36.4 MB/s eta 0:00:01\n",
      "   -------------------------------------- - 96.9/99.7 MB 34.4 MB/s eta 0:00:01\n",
      "   ---------------------------------------  99.3/99.7 MB 38.5 MB/s eta 0:00:01\n",
      "   ---------------------------------------  99.7/99.7 MB 36.4 MB/s eta 0:00:01\n",
      "   ---------------------------------------  99.7/99.7 MB 36.4 MB/s eta 0:00:01\n",
      "   ---------------------------------------  99.7/99.7 MB 36.4 MB/s eta 0:00:01\n",
      "   ---------------------------------------  99.7/99.7 MB 36.4 MB/s eta 0:00:01\n",
      "   ---------------------------------------- 99.7/99.7 MB 19.8 MB/s eta 0:00:00\n",
      "Installing collected packages: xgboost\n",
      "Successfully installed xgboost-2.0.0\n"
     ]
    }
   ],
   "source": [
    "!pip install xgboost"
   ]
  },
  {
   "cell_type": "code",
   "execution_count": 72,
   "metadata": {
    "execution": {
     "iopub.execute_input": "2022-09-13T19:40:16.148156Z",
     "iopub.status.busy": "2022-09-13T19:40:16.147810Z",
     "iopub.status.idle": "2022-09-13T19:40:17.291660Z",
     "shell.execute_reply": "2022-09-13T19:40:17.290834Z",
     "shell.execute_reply.started": "2022-09-13T19:40:16.148124Z"
    }
   },
   "outputs": [
    {
     "name": "stdout",
     "output_type": "stream",
     "text": [
      "R2 score 0.5145810966963535\n",
      "RMSE: 1225.365755210098\n"
     ]
    }
   ],
   "source": [
    "from sklearn.preprocessing import StandardScaler\n",
    "scale = StandardScaler()\n",
    "x=scale.fit_transform(x_orig)\n",
    "y=scale.fit_transform(y_orig)\n",
    "\n",
    "from sklearn.model_selection import train_test_split\n",
    "x_train, x_test, y_train, y_test = train_test_split(x, y, test_size=0.2, random_state=7)\n",
    "\n",
    "from xgboost import XGBRegressor\n",
    "model = XGBRegressor()\n",
    "model.fit(x_train, y_train)\n",
    "y_pred = pd.DataFrame(model.predict(x_test))\n",
    "\n",
    "y_test = scale.inverse_transform(y_test)\n",
    "y_pred = scale.inverse_transform(y_pred)\n",
    "\n",
    "from sklearn import metrics\n",
    "print(\"R2 score\", metrics.r2_score(y_test, y_pred))\n",
    "print('RMSE:', np.sqrt(metrics.mean_squared_error(y_test, y_pred)))"
   ]
  },
  {
   "cell_type": "markdown",
   "metadata": {},
   "source": [
    "# Best Model : SVM\n",
    "# Score : 1152"
   ]
  },
  {
   "cell_type": "markdown",
   "metadata": {},
   "source": [
    "# SVM using cross validation score"
   ]
  },
  {
   "cell_type": "code",
   "execution_count": 75,
   "metadata": {
    "execution": {
     "iopub.execute_input": "2022-09-13T19:40:17.293696Z",
     "iopub.status.busy": "2022-09-13T19:40:17.293108Z",
     "iopub.status.idle": "2022-09-13T19:40:35.187715Z",
     "shell.execute_reply": "2022-09-13T19:40:35.186380Z",
     "shell.execute_reply.started": "2022-09-13T19:40:17.293652Z"
    }
   },
   "outputs": [
    {
     "name": "stderr",
     "output_type": "stream",
     "text": [
      "C:\\Users\\Gangesh\\anaconda3\\Lib\\site-packages\\sklearn\\utils\\validation.py:1143: DataConversionWarning: A column-vector y was passed when a 1d array was expected. Please change the shape of y to (n_samples, ), for example using ravel().\n",
      "  y = column_or_1d(y, warn=True)\n",
      "C:\\Users\\Gangesh\\anaconda3\\Lib\\site-packages\\sklearn\\utils\\validation.py:1143: DataConversionWarning: A column-vector y was passed when a 1d array was expected. Please change the shape of y to (n_samples, ), for example using ravel().\n",
      "  y = column_or_1d(y, warn=True)\n",
      "C:\\Users\\Gangesh\\anaconda3\\Lib\\site-packages\\sklearn\\utils\\validation.py:1143: DataConversionWarning: A column-vector y was passed when a 1d array was expected. Please change the shape of y to (n_samples, ), for example using ravel().\n",
      "  y = column_or_1d(y, warn=True)\n",
      "C:\\Users\\Gangesh\\anaconda3\\Lib\\site-packages\\sklearn\\utils\\validation.py:1143: DataConversionWarning: A column-vector y was passed when a 1d array was expected. Please change the shape of y to (n_samples, ), for example using ravel().\n",
      "  y = column_or_1d(y, warn=True)\n",
      "C:\\Users\\Gangesh\\anaconda3\\Lib\\site-packages\\sklearn\\utils\\validation.py:1143: DataConversionWarning: A column-vector y was passed when a 1d array was expected. Please change the shape of y to (n_samples, ), for example using ravel().\n",
      "  y = column_or_1d(y, warn=True)\n"
     ]
    },
    {
     "name": "stdout",
     "output_type": "stream",
     "text": [
      "0.5819896261548357\n"
     ]
    }
   ],
   "source": [
    "from sklearn.preprocessing import StandardScaler\n",
    "scale = StandardScaler()\n",
    "x=scale.fit_transform(x_orig)\n",
    "y=scale.fit_transform(y_orig)\n",
    "\n",
    "from sklearn.model_selection import KFold\n",
    "kfold = KFold(n_splits=5, random_state=5, shuffle=True)\n",
    "\n",
    "from sklearn.svm import SVR\n",
    "model = SVR()\n",
    "\n",
    "from sklearn.model_selection import cross_val_score\n",
    "score=cross_val_score(model, x, y, cv=kfold, scoring='r2')\n",
    "\n",
    "print(score.mean())"
   ]
  },
  {
   "cell_type": "markdown",
   "metadata": {},
   "source": [
    "# Preparing the TEST data"
   ]
  },
  {
   "cell_type": "code",
   "execution_count": 76,
   "metadata": {
    "execution": {
     "iopub.execute_input": "2022-09-13T20:20:45.513084Z",
     "iopub.status.busy": "2022-09-13T20:20:45.511436Z",
     "iopub.status.idle": "2022-09-13T20:20:45.542704Z",
     "shell.execute_reply": "2022-09-13T20:20:45.541254Z",
     "shell.execute_reply.started": "2022-09-13T20:20:45.513030Z"
    }
   },
   "outputs": [],
   "source": [
    "train_data=pd.read_csv('train.csv')\n",
    "train_data_orig=train_data"
   ]
  },
  {
   "cell_type": "code",
   "execution_count": 78,
   "metadata": {
    "execution": {
     "iopub.execute_input": "2022-09-13T20:20:46.579061Z",
     "iopub.status.busy": "2022-09-13T20:20:46.578359Z",
     "iopub.status.idle": "2022-09-13T20:20:46.601098Z",
     "shell.execute_reply": "2022-09-13T20:20:46.599857Z",
     "shell.execute_reply.started": "2022-09-13T20:20:46.579021Z"
    }
   },
   "outputs": [],
   "source": [
    "test_data=pd.read_csv('test.csv')\n",
    "test_data_orig=test_data"
   ]
  },
  {
   "cell_type": "markdown",
   "metadata": {
    "execution": {
     "iopub.execute_input": "2022-09-13T19:40:35.190500Z",
     "iopub.status.busy": "2022-09-13T19:40:35.189428Z",
     "iopub.status.idle": "2022-09-13T19:40:35.229415Z",
     "shell.execute_reply": "2022-09-13T19:40:35.228228Z",
     "shell.execute_reply.started": "2022-09-13T19:40:35.190456Z"
    }
   },
   "source": [
    "test_data['Item_Fat_Content']=test_data['Item_Fat_Content'].replace('LF', 'Low Fat')\n",
    "test_data['Item_Fat_Content']=test_data['Item_Fat_Content'].replace('low fat', 'Low Fat')\n",
    "test_data['Item_Fat_Content']=test_data['Item_Fat_Content'].replace('reg', 'Regular')\n",
    "\n",
    "test_data['Item_Visibility']=test_data[test_data['Item_Visibility']<0.18]['Item_Visibility']\n",
    "\n",
    "test_data['Item_Weight']=test_data['Item_Weight'].fillna(12.15)\n",
    "test_data['Outlet_Size']=test_data['Outlet_Size'].fillna('Medium')\n",
    "test_data['Item_Visibility']=test_data['Item_Visibility'].fillna(0.06181292964400241)\n",
    "\n",
    "test_data=test_data.drop('Item_Identifier', axis=1)\n",
    "\n",
    "from sklearn.preprocessing import LabelEncoder\n",
    "label = LabelEncoder()\n",
    "test_data['Item_Fat_Content']=label.fit_transform(test_data['Item_Fat_Content'])\n",
    "test_data['Outlet_Size']=label.fit_transform(test_data['Outlet_Size'])\n",
    "test_data['Outlet_Location_Type']=label.fit_transform(test_data['Outlet_Location_Type'])\n",
    "\n",
    "df=pd.get_dummies(test_data['Item_Type'])\n",
    "test_data=pd.concat([test_data, df], axis=1)\n",
    "df=pd.get_dummies(test_data['Outlet_Identifier'])\n",
    "test_data=pd.concat([test_data, df], axis=1)\n",
    "df=pd.get_dummies(test_data['Outlet_Type'])\n",
    "test_data=pd.concat([test_data, df], axis=1)\n",
    "\n",
    "test_data=test_data.drop(['Item_Type', 'Outlet_Identifier', 'Outlet_Type'], axis=1)"
   ]
  },
  {
   "cell_type": "code",
   "execution_count": 79,
   "metadata": {
    "execution": {
     "iopub.execute_input": "2022-09-13T20:20:50.536287Z",
     "iopub.status.busy": "2022-09-13T20:20:50.535424Z",
     "iopub.status.idle": "2022-09-13T20:20:50.579475Z",
     "shell.execute_reply": "2022-09-13T20:20:50.578298Z",
     "shell.execute_reply.started": "2022-09-13T20:20:50.536237Z"
    }
   },
   "outputs": [],
   "source": [
    "train_data['Item_Fat_Content']=train_data['Item_Fat_Content'].replace('LF', 'Low Fat')\n",
    "train_data['Item_Fat_Content']=train_data['Item_Fat_Content'].replace('low fat', 'Low Fat')\n",
    "train_data['Item_Fat_Content']=train_data['Item_Fat_Content'].replace('reg', 'Regular')\n",
    "\n",
    "#train_data=train_data.drop(['Item_Weight', 'Item_Identifier', 'Outlet_Size', 'Item_Visibility'], axis=1)\n",
    "\n",
    "train_data['Item_Visibility']=train_data[train_data['Item_Visibility']<0.18]['Item_Visibility']\n",
    "\n",
    "train_data['Item_Weight']=train_data['Item_Weight'].fillna(12.15)\n",
    "train_data['Outlet_Size']=train_data['Outlet_Size'].fillna('Medium')\n",
    "train_data['Item_Visibility']=train_data['Item_Visibility'].fillna(0.06181292964400241)\n",
    "\n",
    "train_data=train_data.drop('Item_Identifier', axis=1)\n",
    "\n",
    "from sklearn.preprocessing import LabelEncoder\n",
    "label = LabelEncoder()\n",
    "train_data['Item_Fat_Content']=label.fit_transform(train_data['Item_Fat_Content'])\n",
    "train_data['Outlet_Size']=label.fit_transform(train_data['Outlet_Size'])\n",
    "train_data['Outlet_Location_Type']=label.fit_transform(train_data['Outlet_Location_Type'])\n",
    "\n",
    "df=pd.get_dummies(train_data['Item_Type'])\n",
    "train_data=pd.concat([train_data, df], axis=1)\n",
    "df=pd.get_dummies(train_data['Outlet_Identifier'])\n",
    "train_data=pd.concat([train_data, df], axis=1)\n",
    "df=pd.get_dummies(train_data['Outlet_Type'])\n",
    "train_data=pd.concat([train_data, df], axis=1)\n",
    "\n",
    "train_data=train_data.drop(['Item_Type', 'Outlet_Identifier', 'Outlet_Type'], axis=1)"
   ]
  },
  {
   "cell_type": "code",
   "execution_count": 80,
   "metadata": {
    "execution": {
     "iopub.execute_input": "2022-09-13T20:20:53.625940Z",
     "iopub.status.busy": "2022-09-13T20:20:53.625103Z",
     "iopub.status.idle": "2022-09-13T20:20:53.662240Z",
     "shell.execute_reply": "2022-09-13T20:20:53.661170Z",
     "shell.execute_reply.started": "2022-09-13T20:20:53.625898Z"
    }
   },
   "outputs": [],
   "source": [
    "test_data['Item_Fat_Content']=test_data['Item_Fat_Content'].replace('LF', 'Low Fat')\n",
    "test_data['Item_Fat_Content']=test_data['Item_Fat_Content'].replace('low fat', 'Low Fat')\n",
    "test_data['Item_Fat_Content']=test_data['Item_Fat_Content'].replace('reg', 'Regular')\n",
    "\n",
    "#test_data=test_data.drop(['Item_Weight', 'Item_Identifier', 'Outlet_Size', 'Item_Visibility'], axis=1)\n",
    "\n",
    "test_data['Item_Visibility']=test_data[test_data['Item_Visibility']<0.18]['Item_Visibility']\n",
    "\n",
    "test_data['Item_Weight']=test_data['Item_Weight'].fillna(12.15)\n",
    "test_data['Outlet_Size']=test_data['Outlet_Size'].fillna('Medium')\n",
    "test_data['Item_Visibility']=test_data['Item_Visibility'].fillna(0.06181292964400241)\n",
    "\n",
    "test_data=test_data.drop('Item_Identifier', axis=1)\n",
    "\n",
    "from sklearn.preprocessing import LabelEncoder\n",
    "label = LabelEncoder()\n",
    "test_data['Item_Fat_Content']=label.fit_transform(test_data['Item_Fat_Content'])\n",
    "test_data['Outlet_Size']=label.fit_transform(test_data['Outlet_Size'])\n",
    "test_data['Outlet_Location_Type']=label.fit_transform(test_data['Outlet_Location_Type'])\n",
    "\n",
    "df=pd.get_dummies(test_data['Item_Type'])\n",
    "test_data=pd.concat([test_data, df], axis=1)\n",
    "df=pd.get_dummies(test_data['Outlet_Identifier'])\n",
    "test_data=pd.concat([test_data, df], axis=1)\n",
    "df=pd.get_dummies(test_data['Outlet_Type'])\n",
    "test_data=pd.concat([test_data, df], axis=1)\n",
    "\n",
    "test_data=test_data.drop(['Item_Type', 'Outlet_Identifier', 'Outlet_Type'], axis=1)"
   ]
  },
  {
   "cell_type": "code",
   "execution_count": 81,
   "metadata": {
    "execution": {
     "iopub.execute_input": "2022-09-13T20:20:56.594602Z",
     "iopub.status.busy": "2022-09-13T20:20:56.593840Z",
     "iopub.status.idle": "2022-09-13T20:20:56.604074Z",
     "shell.execute_reply": "2022-09-13T20:20:56.602796Z",
     "shell.execute_reply.started": "2022-09-13T20:20:56.594563Z"
    }
   },
   "outputs": [
    {
     "data": {
      "text/plain": [
       "array([1, 0, 2])"
      ]
     },
     "execution_count": 81,
     "metadata": {},
     "output_type": "execute_result"
    }
   ],
   "source": [
    "train_data['Outlet_Size'].unique()\n",
    "#test_data['Outlet_Size'].unique()"
   ]
  },
  {
   "cell_type": "code",
   "execution_count": 82,
   "metadata": {
    "execution": {
     "iopub.execute_input": "2022-09-13T20:21:00.064977Z",
     "iopub.status.busy": "2022-09-13T20:21:00.063927Z",
     "iopub.status.idle": "2022-09-13T20:21:07.543362Z",
     "shell.execute_reply": "2022-09-13T20:21:07.542122Z",
     "shell.execute_reply.started": "2022-09-13T20:21:00.064937Z"
    }
   },
   "outputs": [
    {
     "name": "stderr",
     "output_type": "stream",
     "text": [
      "C:\\Users\\Gangesh\\anaconda3\\Lib\\site-packages\\sklearn\\utils\\validation.py:1143: DataConversionWarning: A column-vector y was passed when a 1d array was expected. Please change the shape of y to (n_samples, ), for example using ravel().\n",
      "  y = column_or_1d(y, warn=True)\n"
     ]
    },
    {
     "name": "stdout",
     "output_type": "stream",
     "text": [
      "(8523, 37)\n",
      "(8523, 1)\n",
      "(5681, 37)\n",
      "(5681, 1)\n"
     ]
    }
   ],
   "source": [
    "from sklearn.preprocessing import StandardScaler\n",
    "scale = StandardScaler()\n",
    "x=scale.fit_transform(train_data.drop(['Item_Outlet_Sales'], axis=1))\n",
    "x_test=scale.fit_transform(test_data)\n",
    "y=scale.fit_transform(pd.DataFrame(train_data['Item_Outlet_Sales']))\n",
    "\n",
    "from sklearn.svm import SVR\n",
    "model = SVR()\n",
    "model.fit(x,y)\n",
    "\n",
    "y_pred=pd.DataFrame(model.predict(x_test))\n",
    "y_pred=scale.inverse_transform(y_pred)\n",
    "\n",
    "print(x.shape)\n",
    "print(y.shape)\n",
    "print(x_test.shape)\n",
    "print(y_pred.shape)"
   ]
  },
  {
   "cell_type": "markdown",
   "metadata": {
    "execution": {
     "iopub.execute_input": "2022-09-13T18:39:08.099481Z",
     "iopub.status.busy": "2022-09-13T18:39:08.098631Z",
     "iopub.status.idle": "2022-09-13T18:39:10.202241Z",
     "shell.execute_reply": "2022-09-13T18:39:10.200956Z",
     "shell.execute_reply.started": "2022-09-13T18:39:08.099438Z"
    }
   },
   "source": [
    "from sklearn.preprocessing import MinMaxScaler\n",
    "scale = MinMaxScaler()\n",
    "x=scale.fit_transform(x_orig)\n",
    "x_test=scale.fit_transform(test_data)\n",
    "y=scale.fit_transform(y_orig)\n",
    "\n",
    "from sklearn.svm import SVR\n",
    "model = SVR()\n",
    "model.fit(x,y)\n",
    "\n",
    "y_pred=pd.DataFrame(model.predict(x_test))\n",
    "y_pred=scale.inverse_transform(y_pred)\n",
    "\n",
    "print(x.shape)\n",
    "print(y.shape)\n",
    "print(x_test.shape)\n",
    "print(y_pred.shape)"
   ]
  },
  {
   "cell_type": "code",
   "execution_count": 83,
   "metadata": {
    "execution": {
     "iopub.execute_input": "2022-09-13T20:23:39.150348Z",
     "iopub.status.busy": "2022-09-13T20:23:39.148976Z",
     "iopub.status.idle": "2022-09-13T20:23:39.168260Z",
     "shell.execute_reply": "2022-09-13T20:23:39.166888Z",
     "shell.execute_reply.started": "2022-09-13T20:23:39.150305Z"
    }
   },
   "outputs": [
    {
     "data": {
      "text/html": [
       "<div>\n",
       "<style scoped>\n",
       "    .dataframe tbody tr th:only-of-type {\n",
       "        vertical-align: middle;\n",
       "    }\n",
       "\n",
       "    .dataframe tbody tr th {\n",
       "        vertical-align: top;\n",
       "    }\n",
       "\n",
       "    .dataframe thead th {\n",
       "        text-align: right;\n",
       "    }\n",
       "</style>\n",
       "<table border=\"1\" class=\"dataframe\">\n",
       "  <thead>\n",
       "    <tr style=\"text-align: right;\">\n",
       "      <th></th>\n",
       "      <th>Item_Identifier</th>\n",
       "      <th>Outlet_Identifier</th>\n",
       "      <th>Item_Outlet_Sales</th>\n",
       "    </tr>\n",
       "  </thead>\n",
       "  <tbody>\n",
       "    <tr>\n",
       "      <th>0</th>\n",
       "      <td>FDW58</td>\n",
       "      <td>OUT049</td>\n",
       "      <td>1487.126706</td>\n",
       "    </tr>\n",
       "    <tr>\n",
       "      <th>1</th>\n",
       "      <td>FDW14</td>\n",
       "      <td>OUT017</td>\n",
       "      <td>1443.815251</td>\n",
       "    </tr>\n",
       "    <tr>\n",
       "      <th>2</th>\n",
       "      <td>NCN55</td>\n",
       "      <td>OUT010</td>\n",
       "      <td>861.524015</td>\n",
       "    </tr>\n",
       "    <tr>\n",
       "      <th>3</th>\n",
       "      <td>FDQ58</td>\n",
       "      <td>OUT017</td>\n",
       "      <td>2592.466361</td>\n",
       "    </tr>\n",
       "    <tr>\n",
       "      <th>4</th>\n",
       "      <td>FDY38</td>\n",
       "      <td>OUT027</td>\n",
       "      <td>6397.812554</td>\n",
       "    </tr>\n",
       "    <tr>\n",
       "      <th>...</th>\n",
       "      <td>...</td>\n",
       "      <td>...</td>\n",
       "      <td>...</td>\n",
       "    </tr>\n",
       "    <tr>\n",
       "      <th>5676</th>\n",
       "      <td>FDB58</td>\n",
       "      <td>OUT046</td>\n",
       "      <td>2265.663055</td>\n",
       "    </tr>\n",
       "    <tr>\n",
       "      <th>5677</th>\n",
       "      <td>FDD47</td>\n",
       "      <td>OUT018</td>\n",
       "      <td>2494.496805</td>\n",
       "    </tr>\n",
       "    <tr>\n",
       "      <th>5678</th>\n",
       "      <td>NCO17</td>\n",
       "      <td>OUT045</td>\n",
       "      <td>1646.867665</td>\n",
       "    </tr>\n",
       "    <tr>\n",
       "      <th>5679</th>\n",
       "      <td>FDJ26</td>\n",
       "      <td>OUT017</td>\n",
       "      <td>3972.327368</td>\n",
       "    </tr>\n",
       "    <tr>\n",
       "      <th>5680</th>\n",
       "      <td>FDU37</td>\n",
       "      <td>OUT045</td>\n",
       "      <td>1210.633816</td>\n",
       "    </tr>\n",
       "  </tbody>\n",
       "</table>\n",
       "<p>5681 rows × 3 columns</p>\n",
       "</div>"
      ],
      "text/plain": [
       "     Item_Identifier Outlet_Identifier  Item_Outlet_Sales\n",
       "0              FDW58            OUT049        1487.126706\n",
       "1              FDW14            OUT017        1443.815251\n",
       "2              NCN55            OUT010         861.524015\n",
       "3              FDQ58            OUT017        2592.466361\n",
       "4              FDY38            OUT027        6397.812554\n",
       "...              ...               ...                ...\n",
       "5676           FDB58            OUT046        2265.663055\n",
       "5677           FDD47            OUT018        2494.496805\n",
       "5678           NCO17            OUT045        1646.867665\n",
       "5679           FDJ26            OUT017        3972.327368\n",
       "5680           FDU37            OUT045        1210.633816\n",
       "\n",
       "[5681 rows x 3 columns]"
      ]
     },
     "metadata": {},
     "output_type": "display_data"
    }
   ],
   "source": [
    "a=pd.DataFrame(test_data_orig[['Item_Identifier', 'Outlet_Identifier']], columns=['Item_Identifier', 'Outlet_Identifier'])\n",
    "b=pd.DataFrame(abs(y_pred), columns=['Item_Outlet_Sales'])\n",
    "\n",
    "new=pd.concat([a,b], axis=1)\n",
    "\n",
    "display(new)"
   ]
  },
  {
   "cell_type": "code",
   "execution_count": 84,
   "metadata": {
    "execution": {
     "iopub.execute_input": "2022-09-13T20:24:01.129680Z",
     "iopub.status.busy": "2022-09-13T20:24:01.129049Z",
     "iopub.status.idle": "2022-09-13T20:24:01.140723Z",
     "shell.execute_reply": "2022-09-13T20:24:01.139681Z",
     "shell.execute_reply.started": "2022-09-13T20:24:01.129643Z"
    }
   },
   "outputs": [
    {
     "data": {
      "text/html": [
       "<div>\n",
       "<style scoped>\n",
       "    .dataframe tbody tr th:only-of-type {\n",
       "        vertical-align: middle;\n",
       "    }\n",
       "\n",
       "    .dataframe tbody tr th {\n",
       "        vertical-align: top;\n",
       "    }\n",
       "\n",
       "    .dataframe thead th {\n",
       "        text-align: right;\n",
       "    }\n",
       "</style>\n",
       "<table border=\"1\" class=\"dataframe\">\n",
       "  <thead>\n",
       "    <tr style=\"text-align: right;\">\n",
       "      <th></th>\n",
       "      <th>Item_Identifier</th>\n",
       "      <th>Outlet_Identifier</th>\n",
       "      <th>Item_Outlet_Sales</th>\n",
       "    </tr>\n",
       "  </thead>\n",
       "  <tbody>\n",
       "  </tbody>\n",
       "</table>\n",
       "</div>"
      ],
      "text/plain": [
       "Empty DataFrame\n",
       "Columns: [Item_Identifier, Outlet_Identifier, Item_Outlet_Sales]\n",
       "Index: []"
      ]
     },
     "execution_count": 84,
     "metadata": {},
     "output_type": "execute_result"
    }
   ],
   "source": [
    "new[new['Item_Outlet_Sales']<0]"
   ]
  },
  {
   "cell_type": "code",
   "execution_count": 85,
   "metadata": {
    "execution": {
     "iopub.execute_input": "2022-09-13T20:24:06.279727Z",
     "iopub.status.busy": "2022-09-13T20:24:06.278718Z",
     "iopub.status.idle": "2022-09-13T20:24:06.301576Z",
     "shell.execute_reply": "2022-09-13T20:24:06.300484Z",
     "shell.execute_reply.started": "2022-09-13T20:24:06.279688Z"
    }
   },
   "outputs": [],
   "source": [
    "new.to_csv('submission.csv', index=False)"
   ]
  },
  {
   "cell_type": "code",
   "execution_count": 87,
   "metadata": {
    "execution": {
     "iopub.execute_input": "2022-09-13T19:40:42.768132Z",
     "iopub.status.busy": "2022-09-13T19:40:42.765330Z",
     "iopub.status.idle": "2022-09-13T19:40:42.822848Z",
     "shell.execute_reply": "2022-09-13T19:40:42.821594Z",
     "shell.execute_reply.started": "2022-09-13T19:40:42.768083Z"
    }
   },
   "outputs": [
    {
     "data": {
      "text/html": [
       "<div>\n",
       "<style scoped>\n",
       "    .dataframe tbody tr th:only-of-type {\n",
       "        vertical-align: middle;\n",
       "    }\n",
       "\n",
       "    .dataframe tbody tr th {\n",
       "        vertical-align: top;\n",
       "    }\n",
       "\n",
       "    .dataframe thead th {\n",
       "        text-align: right;\n",
       "    }\n",
       "</style>\n",
       "<table border=\"1\" class=\"dataframe\">\n",
       "  <thead>\n",
       "    <tr style=\"text-align: right;\">\n",
       "      <th></th>\n",
       "      <th>Item_Identifier</th>\n",
       "      <th>Item_Weight</th>\n",
       "      <th>Item_Fat_Content</th>\n",
       "      <th>Item_Visibility</th>\n",
       "      <th>Item_Type</th>\n",
       "      <th>Item_MRP</th>\n",
       "      <th>Outlet_Identifier</th>\n",
       "      <th>Outlet_Establishment_Year</th>\n",
       "      <th>Outlet_Size</th>\n",
       "      <th>Outlet_Location_Type</th>\n",
       "      <th>Outlet_Type</th>\n",
       "      <th>Item_Outlet_Sales</th>\n",
       "    </tr>\n",
       "  </thead>\n",
       "  <tbody>\n",
       "    <tr>\n",
       "      <th>23</th>\n",
       "      <td>FDC37</td>\n",
       "      <td>NaN</td>\n",
       "      <td>Low Fat</td>\n",
       "      <td>0.057557</td>\n",
       "      <td>Baking Goods</td>\n",
       "      <td>107.6938</td>\n",
       "      <td>OUT019</td>\n",
       "      <td>1985</td>\n",
       "      <td>Small</td>\n",
       "      <td>Tier 1</td>\n",
       "      <td>Grocery Store</td>\n",
       "      <td>214.3876</td>\n",
       "    </tr>\n",
       "    <tr>\n",
       "      <th>29</th>\n",
       "      <td>FDC14</td>\n",
       "      <td>NaN</td>\n",
       "      <td>Regular</td>\n",
       "      <td>0.072222</td>\n",
       "      <td>Canned</td>\n",
       "      <td>43.6454</td>\n",
       "      <td>OUT019</td>\n",
       "      <td>1985</td>\n",
       "      <td>Small</td>\n",
       "      <td>Tier 1</td>\n",
       "      <td>Grocery Store</td>\n",
       "      <td>125.8362</td>\n",
       "    </tr>\n",
       "    <tr>\n",
       "      <th>49</th>\n",
       "      <td>FDS02</td>\n",
       "      <td>NaN</td>\n",
       "      <td>Regular</td>\n",
       "      <td>0.255395</td>\n",
       "      <td>Dairy</td>\n",
       "      <td>196.8794</td>\n",
       "      <td>OUT019</td>\n",
       "      <td>1985</td>\n",
       "      <td>Small</td>\n",
       "      <td>Tier 1</td>\n",
       "      <td>Grocery Store</td>\n",
       "      <td>780.3176</td>\n",
       "    </tr>\n",
       "    <tr>\n",
       "      <th>59</th>\n",
       "      <td>FDI26</td>\n",
       "      <td>NaN</td>\n",
       "      <td>Low Fat</td>\n",
       "      <td>0.061082</td>\n",
       "      <td>Canned</td>\n",
       "      <td>180.0344</td>\n",
       "      <td>OUT019</td>\n",
       "      <td>1985</td>\n",
       "      <td>Small</td>\n",
       "      <td>Tier 1</td>\n",
       "      <td>Grocery Store</td>\n",
       "      <td>892.1720</td>\n",
       "    </tr>\n",
       "    <tr>\n",
       "      <th>63</th>\n",
       "      <td>FDY40</td>\n",
       "      <td>NaN</td>\n",
       "      <td>Regular</td>\n",
       "      <td>0.150286</td>\n",
       "      <td>Frozen Foods</td>\n",
       "      <td>51.0692</td>\n",
       "      <td>OUT019</td>\n",
       "      <td>1985</td>\n",
       "      <td>Small</td>\n",
       "      <td>Tier 1</td>\n",
       "      <td>Grocery Store</td>\n",
       "      <td>147.8076</td>\n",
       "    </tr>\n",
       "    <tr>\n",
       "      <th>...</th>\n",
       "      <td>...</td>\n",
       "      <td>...</td>\n",
       "      <td>...</td>\n",
       "      <td>...</td>\n",
       "      <td>...</td>\n",
       "      <td>...</td>\n",
       "      <td>...</td>\n",
       "      <td>...</td>\n",
       "      <td>...</td>\n",
       "      <td>...</td>\n",
       "      <td>...</td>\n",
       "      <td>...</td>\n",
       "    </tr>\n",
       "    <tr>\n",
       "      <th>8454</th>\n",
       "      <td>NCH54</td>\n",
       "      <td>NaN</td>\n",
       "      <td>Low Fat</td>\n",
       "      <td>0.127234</td>\n",
       "      <td>Household</td>\n",
       "      <td>158.3920</td>\n",
       "      <td>OUT019</td>\n",
       "      <td>1985</td>\n",
       "      <td>Small</td>\n",
       "      <td>Tier 1</td>\n",
       "      <td>Grocery Store</td>\n",
       "      <td>159.7920</td>\n",
       "    </tr>\n",
       "    <tr>\n",
       "      <th>8458</th>\n",
       "      <td>FDX20</td>\n",
       "      <td>NaN</td>\n",
       "      <td>Low Fat</td>\n",
       "      <td>0.074518</td>\n",
       "      <td>Fruits and Vegetables</td>\n",
       "      <td>227.3720</td>\n",
       "      <td>OUT019</td>\n",
       "      <td>1985</td>\n",
       "      <td>Small</td>\n",
       "      <td>Tier 1</td>\n",
       "      <td>Grocery Store</td>\n",
       "      <td>452.7440</td>\n",
       "    </tr>\n",
       "    <tr>\n",
       "      <th>8469</th>\n",
       "      <td>FDQ45</td>\n",
       "      <td>NaN</td>\n",
       "      <td>Regular</td>\n",
       "      <td>0.019114</td>\n",
       "      <td>Snack Foods</td>\n",
       "      <td>182.1608</td>\n",
       "      <td>OUT019</td>\n",
       "      <td>1985</td>\n",
       "      <td>Small</td>\n",
       "      <td>Tier 1</td>\n",
       "      <td>Grocery Store</td>\n",
       "      <td>367.5216</td>\n",
       "    </tr>\n",
       "    <tr>\n",
       "      <th>8480</th>\n",
       "      <td>FDQ58</td>\n",
       "      <td>NaN</td>\n",
       "      <td>Low Fat</td>\n",
       "      <td>0.000000</td>\n",
       "      <td>Snack Foods</td>\n",
       "      <td>154.5340</td>\n",
       "      <td>OUT019</td>\n",
       "      <td>1985</td>\n",
       "      <td>Small</td>\n",
       "      <td>Tier 1</td>\n",
       "      <td>Grocery Store</td>\n",
       "      <td>459.4020</td>\n",
       "    </tr>\n",
       "    <tr>\n",
       "      <th>8490</th>\n",
       "      <td>FDU44</td>\n",
       "      <td>NaN</td>\n",
       "      <td>Regular</td>\n",
       "      <td>0.102296</td>\n",
       "      <td>Fruits and Vegetables</td>\n",
       "      <td>162.3552</td>\n",
       "      <td>OUT019</td>\n",
       "      <td>1985</td>\n",
       "      <td>Small</td>\n",
       "      <td>Tier 1</td>\n",
       "      <td>Grocery Store</td>\n",
       "      <td>487.3656</td>\n",
       "    </tr>\n",
       "  </tbody>\n",
       "</table>\n",
       "<p>531 rows × 12 columns</p>\n",
       "</div>"
      ],
      "text/plain": [
       "     Item_Identifier  Item_Weight Item_Fat_Content  Item_Visibility  \\\n",
       "23             FDC37          NaN          Low Fat         0.057557   \n",
       "29             FDC14          NaN          Regular         0.072222   \n",
       "49             FDS02          NaN          Regular         0.255395   \n",
       "59             FDI26          NaN          Low Fat         0.061082   \n",
       "63             FDY40          NaN          Regular         0.150286   \n",
       "...              ...          ...              ...              ...   \n",
       "8454           NCH54          NaN          Low Fat         0.127234   \n",
       "8458           FDX20          NaN          Low Fat         0.074518   \n",
       "8469           FDQ45          NaN          Regular         0.019114   \n",
       "8480           FDQ58          NaN          Low Fat         0.000000   \n",
       "8490           FDU44          NaN          Regular         0.102296   \n",
       "\n",
       "                  Item_Type  Item_MRP Outlet_Identifier  \\\n",
       "23             Baking Goods  107.6938            OUT019   \n",
       "29                   Canned   43.6454            OUT019   \n",
       "49                    Dairy  196.8794            OUT019   \n",
       "59                   Canned  180.0344            OUT019   \n",
       "63             Frozen Foods   51.0692            OUT019   \n",
       "...                     ...       ...               ...   \n",
       "8454              Household  158.3920            OUT019   \n",
       "8458  Fruits and Vegetables  227.3720            OUT019   \n",
       "8469            Snack Foods  182.1608            OUT019   \n",
       "8480            Snack Foods  154.5340            OUT019   \n",
       "8490  Fruits and Vegetables  162.3552            OUT019   \n",
       "\n",
       "      Outlet_Establishment_Year Outlet_Size Outlet_Location_Type  \\\n",
       "23                         1985       Small               Tier 1   \n",
       "29                         1985       Small               Tier 1   \n",
       "49                         1985       Small               Tier 1   \n",
       "59                         1985       Small               Tier 1   \n",
       "63                         1985       Small               Tier 1   \n",
       "...                         ...         ...                  ...   \n",
       "8454                       1985       Small               Tier 1   \n",
       "8458                       1985       Small               Tier 1   \n",
       "8469                       1985       Small               Tier 1   \n",
       "8480                       1985       Small               Tier 1   \n",
       "8490                       1985       Small               Tier 1   \n",
       "\n",
       "        Outlet_Type  Item_Outlet_Sales  \n",
       "23    Grocery Store           214.3876  \n",
       "29    Grocery Store           125.8362  \n",
       "49    Grocery Store           780.3176  \n",
       "59    Grocery Store           892.1720  \n",
       "63    Grocery Store           147.8076  \n",
       "...             ...                ...  \n",
       "8454  Grocery Store           159.7920  \n",
       "8458  Grocery Store           452.7440  \n",
       "8469  Grocery Store           367.5216  \n",
       "8480  Grocery Store           459.4020  \n",
       "8490  Grocery Store           487.3656  \n",
       "\n",
       "[531 rows x 12 columns]"
      ]
     },
     "execution_count": 87,
     "metadata": {},
     "output_type": "execute_result"
    }
   ],
   "source": [
    "train_data2=pd.read_csv('train.csv')\n",
    "train_data2[(train_data2['Item_Identifier']=='NCR42') | (train_data2['Outlet_Identifier']=='OUT019')]"
   ]
  },
  {
   "cell_type": "code",
   "execution_count": 89,
   "metadata": {
    "execution": {
     "iopub.execute_input": "2022-09-13T19:40:42.824440Z",
     "iopub.status.busy": "2022-09-13T19:40:42.824112Z",
     "iopub.status.idle": "2022-09-13T19:40:42.856255Z",
     "shell.execute_reply": "2022-09-13T19:40:42.855361Z",
     "shell.execute_reply.started": "2022-09-13T19:40:42.824409Z"
    }
   },
   "outputs": [
    {
     "data": {
      "text/html": [
       "<div>\n",
       "<style scoped>\n",
       "    .dataframe tbody tr th:only-of-type {\n",
       "        vertical-align: middle;\n",
       "    }\n",
       "\n",
       "    .dataframe tbody tr th {\n",
       "        vertical-align: top;\n",
       "    }\n",
       "\n",
       "    .dataframe thead th {\n",
       "        text-align: right;\n",
       "    }\n",
       "</style>\n",
       "<table border=\"1\" class=\"dataframe\">\n",
       "  <thead>\n",
       "    <tr style=\"text-align: right;\">\n",
       "      <th></th>\n",
       "      <th>Item_Identifier</th>\n",
       "      <th>Item_Weight</th>\n",
       "      <th>Item_Fat_Content</th>\n",
       "      <th>Item_Visibility</th>\n",
       "      <th>Item_Type</th>\n",
       "      <th>Item_MRP</th>\n",
       "      <th>Outlet_Identifier</th>\n",
       "      <th>Outlet_Establishment_Year</th>\n",
       "      <th>Outlet_Size</th>\n",
       "      <th>Outlet_Location_Type</th>\n",
       "      <th>Outlet_Type</th>\n",
       "    </tr>\n",
       "  </thead>\n",
       "  <tbody>\n",
       "    <tr>\n",
       "      <th>30</th>\n",
       "      <td>NCR42</td>\n",
       "      <td>NaN</td>\n",
       "      <td>Low Fat</td>\n",
       "      <td>0.067377</td>\n",
       "      <td>Household</td>\n",
       "      <td>32.09</td>\n",
       "      <td>OUT019</td>\n",
       "      <td>1985</td>\n",
       "      <td>Small</td>\n",
       "      <td>Tier 1</td>\n",
       "      <td>Grocery Store</td>\n",
       "    </tr>\n",
       "  </tbody>\n",
       "</table>\n",
       "</div>"
      ],
      "text/plain": [
       "   Item_Identifier  Item_Weight Item_Fat_Content  Item_Visibility  Item_Type  \\\n",
       "30           NCR42          NaN          Low Fat         0.067377  Household   \n",
       "\n",
       "    Item_MRP Outlet_Identifier  Outlet_Establishment_Year Outlet_Size  \\\n",
       "30     32.09            OUT019                       1985       Small   \n",
       "\n",
       "   Outlet_Location_Type    Outlet_Type  \n",
       "30               Tier 1  Grocery Store  "
      ]
     },
     "execution_count": 89,
     "metadata": {},
     "output_type": "execute_result"
    }
   ],
   "source": [
    "test_data2=pd.read_csv('test.csv')\n",
    "test_data2[(test_data2['Item_Identifier']=='NCR42') & (test_data2['Outlet_Identifier']=='OUT019')]"
   ]
  },
  {
   "cell_type": "code",
   "execution_count": null,
   "metadata": {
    "execution": {
     "iopub.execute_input": "2022-09-13T19:40:42.858302Z",
     "iopub.status.busy": "2022-09-13T19:40:42.857350Z",
     "iopub.status.idle": "2022-09-13T19:40:42.862911Z",
     "shell.execute_reply": "2022-09-13T19:40:42.861604Z",
     "shell.execute_reply.started": "2022-09-13T19:40:42.858265Z"
    }
   },
   "outputs": [],
   "source": [
    "## now again i need to do univariate analysis"
   ]
  },
  {
   "cell_type": "code",
   "execution_count": null,
   "metadata": {},
   "outputs": [],
   "source": []
  }
 ],
 "metadata": {
  "kernelspec": {
   "display_name": "Python 3 (ipykernel)",
   "language": "python",
   "name": "python3"
  },
  "language_info": {
   "codemirror_mode": {
    "name": "ipython",
    "version": 3
   },
   "file_extension": ".py",
   "mimetype": "text/x-python",
   "name": "python",
   "nbconvert_exporter": "python",
   "pygments_lexer": "ipython3",
   "version": "3.11.3"
  }
 },
 "nbformat": 4,
 "nbformat_minor": 4
}
